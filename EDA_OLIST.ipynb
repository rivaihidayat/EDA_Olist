{
 "cells": [
  {
   "cell_type": "markdown",
   "metadata": {},
   "source": [
    "### Exploratory & Analysis Data Olist E-commerce"
   ]
  },
  {
   "cell_type": "code",
   "execution_count": 1,
   "metadata": {},
   "outputs": [],
   "source": [
    "# import libraries yang digunakan\n",
    "\n",
    "import pandas as pd\n",
    "import sqlite3\n",
    "import numpy as np\n",
    "import matplotlib.pyplot as plt\n",
    "import seaborn as sns\n",
    "import plotly.express as px\n",
    "\n",
    "pd.set_option('mode.chained_assignment', None)\n",
    "#untuk menghilangkan warning atau notifikasi ketika eksekusi code"
   ]
  },
  {
   "cell_type": "code",
   "execution_count": 2,
   "metadata": {},
   "outputs": [],
   "source": [
    "# Membuat koneksi pada database\n",
    "\n",
    "def get_result(query):\n",
    "    conn = sqlite3.connect(\"olist.db\")\n",
    "    cursor = conn.cursor()\n",
    "    cursor.execute(query)\n",
    "    data = cursor.fetchall()\n",
    "    conn.close()\n",
    "\n",
    "    return data\n",
    "\n",
    "def create_df(data, columns):\n",
    "    processData = pd.DataFrame(data=data, columns=columns).drop(\"index\", axis=1)\n",
    "\n",
    "    # Reset kolom index\n",
    "    processData = processData.reset_index(drop=True)\n",
    "\n",
    "    # Join multi-idnex menjadi satu kolom index\n",
    "    processData.columns = [' '.join(col).strip() for col in processData.columns.values]\n",
    "\n",
    "    return processData"
   ]
  },
  {
   "cell_type": "code",
   "execution_count": 3,
   "metadata": {},
   "outputs": [
    {
     "data": {
      "text/plain": [
       "[('olist_order_customer_dataset',),\n",
       " ('olist_order_dataset',),\n",
       " ('olist_order_reviews_dataset',),\n",
       " ('olist_order_payments_dataset',),\n",
       " ('olist_order_items_dataset',),\n",
       " ('olist_products_dataset',),\n",
       " ('olist_sellers_dataset',),\n",
       " ('olist_geolocation_dataset',),\n",
       " ('product_category_name_translation',)]"
      ]
     },
     "execution_count": 3,
     "metadata": {},
     "output_type": "execute_result"
    }
   ],
   "source": [
    "# Melihat list tabel pada database\n",
    "\n",
    "conn = sqlite3.connect(\"olist.db\")\n",
    "cur = conn.cursor()\n",
    "\n",
    "table_list = [a for a in cur.execute(\"SELECT name FROM sqlite_master WHERE type = 'table'\")]\n",
    "table_list"
   ]
  },
  {
   "cell_type": "code",
   "execution_count": 4,
   "metadata": {},
   "outputs": [
    {
     "name": "stderr",
     "output_type": "stream",
     "text": [
      "C:\\Users\\Admin\\AppData\\Local\\Temp\\ipykernel_14964\\1388416786.py:13: PerformanceWarning: dropping on a non-lexsorted multi-index without a level parameter may impact performance.\n",
      "  processData = pd.DataFrame(data=data, columns=columns).drop(\"index\", axis=1)\n",
      "C:\\Users\\Admin\\AppData\\Local\\Temp\\ipykernel_14964\\1388416786.py:13: PerformanceWarning: dropping on a non-lexsorted multi-index without a level parameter may impact performance.\n",
      "  processData = pd.DataFrame(data=data, columns=columns).drop(\"index\", axis=1)\n",
      "C:\\Users\\Admin\\AppData\\Local\\Temp\\ipykernel_14964\\1388416786.py:13: PerformanceWarning: dropping on a non-lexsorted multi-index without a level parameter may impact performance.\n",
      "  processData = pd.DataFrame(data=data, columns=columns).drop(\"index\", axis=1)\n",
      "C:\\Users\\Admin\\AppData\\Local\\Temp\\ipykernel_14964\\1388416786.py:13: PerformanceWarning: dropping on a non-lexsorted multi-index without a level parameter may impact performance.\n",
      "  processData = pd.DataFrame(data=data, columns=columns).drop(\"index\", axis=1)\n",
      "C:\\Users\\Admin\\AppData\\Local\\Temp\\ipykernel_14964\\1388416786.py:13: PerformanceWarning: dropping on a non-lexsorted multi-index without a level parameter may impact performance.\n",
      "  processData = pd.DataFrame(data=data, columns=columns).drop(\"index\", axis=1)\n",
      "C:\\Users\\Admin\\AppData\\Local\\Temp\\ipykernel_14964\\1388416786.py:13: PerformanceWarning: dropping on a non-lexsorted multi-index without a level parameter may impact performance.\n",
      "  processData = pd.DataFrame(data=data, columns=columns).drop(\"index\", axis=1)\n",
      "C:\\Users\\Admin\\AppData\\Local\\Temp\\ipykernel_14964\\1388416786.py:13: PerformanceWarning: dropping on a non-lexsorted multi-index without a level parameter may impact performance.\n",
      "  processData = pd.DataFrame(data=data, columns=columns).drop(\"index\", axis=1)\n",
      "C:\\Users\\Admin\\AppData\\Local\\Temp\\ipykernel_14964\\1388416786.py:13: PerformanceWarning: dropping on a non-lexsorted multi-index without a level parameter may impact performance.\n",
      "  processData = pd.DataFrame(data=data, columns=columns).drop(\"index\", axis=1)\n"
     ]
    }
   ],
   "source": [
    "# Load Tabel Dataset\n",
    "\n",
    "olistCustomer = create_df(get_result(\"Select * from olist_order_customer_dataset\"), [[\"index\",\"customer_id\",\"customers_uniq_id\",\"customers_zip_code_prefix\",\"customer_city\",\"customer_state\"]])\n",
    "olistGeolocation = create_df(get_result(\"Select * from olist_geolocation_dataset\"), [[\"index\",\"geolocation_zip_code_prefix\",\"geolocation_lat\",\"geolocation_lng\",\"geolocation_city\",\"geolocation_state\"]])\n",
    "olistOrderItems = create_df(get_result(\"Select * from olist_order_items_dataset\"), [[\"index\",\"order_id\",\"order_item_id\",\"product_id\", \"seller_id\",\"shipping_limit_date\",\"price\",\"freight_value\"]])\n",
    "olistOrderPayments = create_df(get_result(\"Select * from olist_order_payments_dataset\"), [[\"index\",\"order_id\",\"payment_sequential\",\"payment_type\",\"payment_installments\",\"payment_value\"]])\n",
    "olistOrderReviews = create_df(get_result(\"Select * from olist_order_reviews_dataset\"), [[\"index\",\"review_id\",\"order_id\",\"review_score\",\"review_comment_title\",\"review_comment_message\",\"review_reaction_date\",\"review_answer_timestamp\"]])\n",
    "olistOrders = create_df(get_result(\"Select * From olist_order_dataset\"), [[\"index\", \"order_id\",\"customer_id\",\"order_status\",\"order_purchase_timestamp\",\"order_approved_at\",\"order_delivered_carrier_date\",\"order_delivered_customer_date\",\"order_estimated_delivery_date\"]])\n",
    "olistProducts = create_df(get_result(\"Select * from olist_products_dataset\"),[[\"index\",\"product_id\",\"product_category_name\",\"product_name_lenght\",\"product_description_lenght\",\"product_photos_qty\",\"product_weight_g\",\"product_length_cm\",\"product_height_cm\",\"product_width_cm\"]])\n",
    "olistSeller = create_df(get_result(\"Select * From olist_sellers_dataset\"),[[\"index\", \"seller_id\",\"seller_zip_code_prefix\",\"seller_city\",\"seller_state\"]])\n",
    "olistProductCategory = create_df(get_result(\"Select * From product_category_name_translation\"),[[\"index\",\"product_category_name\", \"product_category_name_english\"]])\n"
   ]
  },
  {
   "cell_type": "markdown",
   "metadata": {},
   "source": [
    "### Objective\n"
   ]
  },
  {
   "cell_type": "markdown",
   "metadata": {},
   "source": [
    "\n",
    "1. Kategori produk yang banyak dipesan di Olist\n",
    "2. Tren penjualan 10 kategori produk yang banyak dipesan di Olist selama 2016–2018\n",
    "3. Persebaran pengguna Olist berdasarkan kota"
   ]
  },
  {
   "cell_type": "markdown",
   "metadata": {},
   "source": [
    "### Read Data\n",
    "Pada proses ini, kita akan menyiapkan data-data yang akan digunakan untuk menyelesaikan objective. Tabel tersebut adalah tabel olist_order_customer_dataset, olist_products_dataset, olist_order_items_dataset, olist_order_dataset, product_category_name_translation, dan olist_geolocation_dataset.\n"
   ]
  },
  {
   "cell_type": "code",
   "execution_count": 5,
   "metadata": {},
   "outputs": [
    {
     "data": {
      "text/html": [
       "<div>\n",
       "<style scoped>\n",
       "    .dataframe tbody tr th:only-of-type {\n",
       "        vertical-align: middle;\n",
       "    }\n",
       "\n",
       "    .dataframe tbody tr th {\n",
       "        vertical-align: top;\n",
       "    }\n",
       "\n",
       "    .dataframe thead th {\n",
       "        text-align: right;\n",
       "    }\n",
       "</style>\n",
       "<table border=\"1\" class=\"dataframe\">\n",
       "  <thead>\n",
       "    <tr style=\"text-align: right;\">\n",
       "      <th></th>\n",
       "      <th>customer_id</th>\n",
       "      <th>customers_uniq_id</th>\n",
       "      <th>customers_zip_code_prefix</th>\n",
       "      <th>customer_city</th>\n",
       "      <th>customer_state</th>\n",
       "    </tr>\n",
       "  </thead>\n",
       "  <tbody>\n",
       "    <tr>\n",
       "      <th>0</th>\n",
       "      <td>06b8999e2fba1a1fbc88172c00ba8bc7</td>\n",
       "      <td>861eff4711a542e4b93843c6dd7febb0</td>\n",
       "      <td>14409</td>\n",
       "      <td>franca</td>\n",
       "      <td>SP</td>\n",
       "    </tr>\n",
       "    <tr>\n",
       "      <th>1</th>\n",
       "      <td>18955e83d337fd6b2def6b18a428ac77</td>\n",
       "      <td>290c77bc529b7ac935b93aa66c333dc3</td>\n",
       "      <td>9790</td>\n",
       "      <td>sao bernardo do campo</td>\n",
       "      <td>SP</td>\n",
       "    </tr>\n",
       "    <tr>\n",
       "      <th>2</th>\n",
       "      <td>4e7b3e00288586ebd08712fdd0374a03</td>\n",
       "      <td>060e732b5b29e8181a18229c7b0b2b5e</td>\n",
       "      <td>1151</td>\n",
       "      <td>sao paulo</td>\n",
       "      <td>SP</td>\n",
       "    </tr>\n",
       "    <tr>\n",
       "      <th>3</th>\n",
       "      <td>b2b6027bc5c5109e529d4dc6358b12c3</td>\n",
       "      <td>259dac757896d24d7702b9acbbff3f3c</td>\n",
       "      <td>8775</td>\n",
       "      <td>mogi das cruzes</td>\n",
       "      <td>SP</td>\n",
       "    </tr>\n",
       "    <tr>\n",
       "      <th>4</th>\n",
       "      <td>4f2d8ab171c80ec8364f7c12e35b23ad</td>\n",
       "      <td>345ecd01c38d18a9036ed96c73b8d066</td>\n",
       "      <td>13056</td>\n",
       "      <td>campinas</td>\n",
       "      <td>SP</td>\n",
       "    </tr>\n",
       "    <tr>\n",
       "      <th>...</th>\n",
       "      <td>...</td>\n",
       "      <td>...</td>\n",
       "      <td>...</td>\n",
       "      <td>...</td>\n",
       "      <td>...</td>\n",
       "    </tr>\n",
       "    <tr>\n",
       "      <th>99436</th>\n",
       "      <td>17ddf5dd5d51696bb3d7c6291687be6f</td>\n",
       "      <td>1a29b476fee25c95fbafc67c5ac95cf8</td>\n",
       "      <td>3937</td>\n",
       "      <td>sao paulo</td>\n",
       "      <td>SP</td>\n",
       "    </tr>\n",
       "    <tr>\n",
       "      <th>99437</th>\n",
       "      <td>e7b71a9017aa05c9a7fd292d714858e8</td>\n",
       "      <td>d52a67c98be1cf6a5c84435bd38d095d</td>\n",
       "      <td>6764</td>\n",
       "      <td>taboao da serra</td>\n",
       "      <td>SP</td>\n",
       "    </tr>\n",
       "    <tr>\n",
       "      <th>99438</th>\n",
       "      <td>5e28dfe12db7fb50a4b2f691faecea5e</td>\n",
       "      <td>e9f50caf99f032f0bf3c55141f019d99</td>\n",
       "      <td>60115</td>\n",
       "      <td>fortaleza</td>\n",
       "      <td>CE</td>\n",
       "    </tr>\n",
       "    <tr>\n",
       "      <th>99439</th>\n",
       "      <td>56b18e2166679b8a959d72dd06da27f9</td>\n",
       "      <td>73c2643a0a458b49f58cea58833b192e</td>\n",
       "      <td>92120</td>\n",
       "      <td>canoas</td>\n",
       "      <td>RS</td>\n",
       "    </tr>\n",
       "    <tr>\n",
       "      <th>99440</th>\n",
       "      <td>274fa6071e5e17fe303b9748641082c8</td>\n",
       "      <td>84732c5050c01db9b23e19ba39899398</td>\n",
       "      <td>6703</td>\n",
       "      <td>cotia</td>\n",
       "      <td>SP</td>\n",
       "    </tr>\n",
       "  </tbody>\n",
       "</table>\n",
       "<p>99441 rows × 5 columns</p>\n",
       "</div>"
      ],
      "text/plain": [
       "                            customer_id                 customers_uniq_id  \\\n",
       "0      06b8999e2fba1a1fbc88172c00ba8bc7  861eff4711a542e4b93843c6dd7febb0   \n",
       "1      18955e83d337fd6b2def6b18a428ac77  290c77bc529b7ac935b93aa66c333dc3   \n",
       "2      4e7b3e00288586ebd08712fdd0374a03  060e732b5b29e8181a18229c7b0b2b5e   \n",
       "3      b2b6027bc5c5109e529d4dc6358b12c3  259dac757896d24d7702b9acbbff3f3c   \n",
       "4      4f2d8ab171c80ec8364f7c12e35b23ad  345ecd01c38d18a9036ed96c73b8d066   \n",
       "...                                 ...                               ...   \n",
       "99436  17ddf5dd5d51696bb3d7c6291687be6f  1a29b476fee25c95fbafc67c5ac95cf8   \n",
       "99437  e7b71a9017aa05c9a7fd292d714858e8  d52a67c98be1cf6a5c84435bd38d095d   \n",
       "99438  5e28dfe12db7fb50a4b2f691faecea5e  e9f50caf99f032f0bf3c55141f019d99   \n",
       "99439  56b18e2166679b8a959d72dd06da27f9  73c2643a0a458b49f58cea58833b192e   \n",
       "99440  274fa6071e5e17fe303b9748641082c8  84732c5050c01db9b23e19ba39899398   \n",
       "\n",
       "       customers_zip_code_prefix          customer_city customer_state  \n",
       "0                          14409                 franca             SP  \n",
       "1                           9790  sao bernardo do campo             SP  \n",
       "2                           1151              sao paulo             SP  \n",
       "3                           8775        mogi das cruzes             SP  \n",
       "4                          13056               campinas             SP  \n",
       "...                          ...                    ...            ...  \n",
       "99436                       3937              sao paulo             SP  \n",
       "99437                       6764        taboao da serra             SP  \n",
       "99438                      60115              fortaleza             CE  \n",
       "99439                      92120                 canoas             RS  \n",
       "99440                       6703                  cotia             SP  \n",
       "\n",
       "[99441 rows x 5 columns]"
      ]
     },
     "execution_count": 5,
     "metadata": {},
     "output_type": "execute_result"
    }
   ],
   "source": [
    "# Membuka tabel olist_order_customer_dataset atau olistCustomer\n",
    "olistCustomer"
   ]
  },
  {
   "cell_type": "code",
   "execution_count": 6,
   "metadata": {},
   "outputs": [
    {
     "data": {
      "text/html": [
       "<div>\n",
       "<style scoped>\n",
       "    .dataframe tbody tr th:only-of-type {\n",
       "        vertical-align: middle;\n",
       "    }\n",
       "\n",
       "    .dataframe tbody tr th {\n",
       "        vertical-align: top;\n",
       "    }\n",
       "\n",
       "    .dataframe thead th {\n",
       "        text-align: right;\n",
       "    }\n",
       "</style>\n",
       "<table border=\"1\" class=\"dataframe\">\n",
       "  <thead>\n",
       "    <tr style=\"text-align: right;\">\n",
       "      <th></th>\n",
       "      <th>product_category_name</th>\n",
       "      <th>product_category_name_english</th>\n",
       "    </tr>\n",
       "  </thead>\n",
       "  <tbody>\n",
       "    <tr>\n",
       "      <th>0</th>\n",
       "      <td>beleza_saude</td>\n",
       "      <td>health_beauty</td>\n",
       "    </tr>\n",
       "    <tr>\n",
       "      <th>1</th>\n",
       "      <td>informatica_acessorios</td>\n",
       "      <td>computers_accessories</td>\n",
       "    </tr>\n",
       "    <tr>\n",
       "      <th>2</th>\n",
       "      <td>automotivo</td>\n",
       "      <td>auto</td>\n",
       "    </tr>\n",
       "    <tr>\n",
       "      <th>3</th>\n",
       "      <td>cama_mesa_banho</td>\n",
       "      <td>bed_bath_table</td>\n",
       "    </tr>\n",
       "    <tr>\n",
       "      <th>4</th>\n",
       "      <td>moveis_decoracao</td>\n",
       "      <td>furniture_decor</td>\n",
       "    </tr>\n",
       "  </tbody>\n",
       "</table>\n",
       "</div>"
      ],
      "text/plain": [
       "    product_category_name product_category_name_english\n",
       "0            beleza_saude                 health_beauty\n",
       "1  informatica_acessorios         computers_accessories\n",
       "2              automotivo                          auto\n",
       "3         cama_mesa_banho                bed_bath_table\n",
       "4        moveis_decoracao               furniture_decor"
      ]
     },
     "execution_count": 6,
     "metadata": {},
     "output_type": "execute_result"
    }
   ],
   "source": [
    "# Membuka tabel product_category_name_translation atau tabel olistProductCategory\n",
    "olistProductCategory.head()"
   ]
  },
  {
   "cell_type": "code",
   "execution_count": 7,
   "metadata": {},
   "outputs": [
    {
     "data": {
      "text/html": [
       "<div>\n",
       "<style scoped>\n",
       "    .dataframe tbody tr th:only-of-type {\n",
       "        vertical-align: middle;\n",
       "    }\n",
       "\n",
       "    .dataframe tbody tr th {\n",
       "        vertical-align: top;\n",
       "    }\n",
       "\n",
       "    .dataframe thead th {\n",
       "        text-align: right;\n",
       "    }\n",
       "</style>\n",
       "<table border=\"1\" class=\"dataframe\">\n",
       "  <thead>\n",
       "    <tr style=\"text-align: right;\">\n",
       "      <th></th>\n",
       "      <th>product_id</th>\n",
       "      <th>product_category_name</th>\n",
       "      <th>product_category_name_english</th>\n",
       "    </tr>\n",
       "  </thead>\n",
       "  <tbody>\n",
       "    <tr>\n",
       "      <th>0</th>\n",
       "      <td>1e9e8ef04dbcff4541ed26657ea517e5</td>\n",
       "      <td>perfumaria</td>\n",
       "      <td>perfumery</td>\n",
       "    </tr>\n",
       "    <tr>\n",
       "      <th>1</th>\n",
       "      <td>3aa071139cb16b67ca9e5dea641aaa2f</td>\n",
       "      <td>artes</td>\n",
       "      <td>art</td>\n",
       "    </tr>\n",
       "    <tr>\n",
       "      <th>2</th>\n",
       "      <td>96bd76ec8810374ed1b65e291975717f</td>\n",
       "      <td>esporte_lazer</td>\n",
       "      <td>sports_leisure</td>\n",
       "    </tr>\n",
       "    <tr>\n",
       "      <th>3</th>\n",
       "      <td>cef67bcfe19066a932b7673e239eb23d</td>\n",
       "      <td>bebes</td>\n",
       "      <td>baby</td>\n",
       "    </tr>\n",
       "    <tr>\n",
       "      <th>4</th>\n",
       "      <td>9dc1a7de274444849c219cff195d0b71</td>\n",
       "      <td>utilidades_domesticas</td>\n",
       "      <td>housewares</td>\n",
       "    </tr>\n",
       "    <tr>\n",
       "      <th>...</th>\n",
       "      <td>...</td>\n",
       "      <td>...</td>\n",
       "      <td>...</td>\n",
       "    </tr>\n",
       "    <tr>\n",
       "      <th>32946</th>\n",
       "      <td>a0b7d5a992ccda646f2d34e418fff5a0</td>\n",
       "      <td>moveis_decoracao</td>\n",
       "      <td>furniture_decor</td>\n",
       "    </tr>\n",
       "    <tr>\n",
       "      <th>32947</th>\n",
       "      <td>bf4538d88321d0fd4412a93c974510e6</td>\n",
       "      <td>construcao_ferramentas_iluminacao</td>\n",
       "      <td>construction_tools_lights</td>\n",
       "    </tr>\n",
       "    <tr>\n",
       "      <th>32948</th>\n",
       "      <td>9a7c6041fa9592d9d9ef6cfe62a71f8c</td>\n",
       "      <td>cama_mesa_banho</td>\n",
       "      <td>bed_bath_table</td>\n",
       "    </tr>\n",
       "    <tr>\n",
       "      <th>32949</th>\n",
       "      <td>83808703fc0706a22e264b9d75f04a2e</td>\n",
       "      <td>informatica_acessorios</td>\n",
       "      <td>computers_accessories</td>\n",
       "    </tr>\n",
       "    <tr>\n",
       "      <th>32950</th>\n",
       "      <td>106392145fca363410d287a815be6de4</td>\n",
       "      <td>cama_mesa_banho</td>\n",
       "      <td>bed_bath_table</td>\n",
       "    </tr>\n",
       "  </tbody>\n",
       "</table>\n",
       "<p>32951 rows × 3 columns</p>\n",
       "</div>"
      ],
      "text/plain": [
       "                             product_id              product_category_name  \\\n",
       "0      1e9e8ef04dbcff4541ed26657ea517e5                         perfumaria   \n",
       "1      3aa071139cb16b67ca9e5dea641aaa2f                              artes   \n",
       "2      96bd76ec8810374ed1b65e291975717f                      esporte_lazer   \n",
       "3      cef67bcfe19066a932b7673e239eb23d                              bebes   \n",
       "4      9dc1a7de274444849c219cff195d0b71              utilidades_domesticas   \n",
       "...                                 ...                                ...   \n",
       "32946  a0b7d5a992ccda646f2d34e418fff5a0                   moveis_decoracao   \n",
       "32947  bf4538d88321d0fd4412a93c974510e6  construcao_ferramentas_iluminacao   \n",
       "32948  9a7c6041fa9592d9d9ef6cfe62a71f8c                    cama_mesa_banho   \n",
       "32949  83808703fc0706a22e264b9d75f04a2e             informatica_acessorios   \n",
       "32950  106392145fca363410d287a815be6de4                    cama_mesa_banho   \n",
       "\n",
       "      product_category_name_english  \n",
       "0                         perfumery  \n",
       "1                               art  \n",
       "2                    sports_leisure  \n",
       "3                              baby  \n",
       "4                        housewares  \n",
       "...                             ...  \n",
       "32946               furniture_decor  \n",
       "32947     construction_tools_lights  \n",
       "32948                bed_bath_table  \n",
       "32949         computers_accessories  \n",
       "32950                bed_bath_table  \n",
       "\n",
       "[32951 rows x 3 columns]"
      ]
     },
     "execution_count": 7,
     "metadata": {},
     "output_type": "execute_result"
    }
   ],
   "source": [
    "# Membuka tabel olist_products_dataset dan menggabungkannya dengan tabel product_category_name_translation\n",
    "join_product = \"\"\" select product_id, \n",
    "                          product_category_name,\n",
    "                          product_category_name_english\n",
    "                    from olist_products_dataset\n",
    "                    left join product_category_name_translation\n",
    "                    using (product_category_name)\n",
    "               \"\"\"\n",
    "\n",
    "join_product = pd.read_sql(join_product, conn)\n",
    "join_product"
   ]
  },
  {
   "cell_type": "code",
   "execution_count": 8,
   "metadata": {},
   "outputs": [
    {
     "data": {
      "text/html": [
       "<div>\n",
       "<style scoped>\n",
       "    .dataframe tbody tr th:only-of-type {\n",
       "        vertical-align: middle;\n",
       "    }\n",
       "\n",
       "    .dataframe tbody tr th {\n",
       "        vertical-align: top;\n",
       "    }\n",
       "\n",
       "    .dataframe thead th {\n",
       "        text-align: right;\n",
       "    }\n",
       "</style>\n",
       "<table border=\"1\" class=\"dataframe\">\n",
       "  <thead>\n",
       "    <tr style=\"text-align: right;\">\n",
       "      <th></th>\n",
       "      <th>order_id</th>\n",
       "      <th>product_id</th>\n",
       "      <th>seller_id</th>\n",
       "    </tr>\n",
       "  </thead>\n",
       "  <tbody>\n",
       "    <tr>\n",
       "      <th>0</th>\n",
       "      <td>00010242fe8c5a6d1ba2dd792cb16214</td>\n",
       "      <td>4244733e06e7ecb4970a6e2683c13e61</td>\n",
       "      <td>48436dade18ac8b2bce089ec2a041202</td>\n",
       "    </tr>\n",
       "    <tr>\n",
       "      <th>1</th>\n",
       "      <td>00018f77f2f0320c557190d7a144bdd3</td>\n",
       "      <td>e5f2d52b802189ee658865ca93d83a8f</td>\n",
       "      <td>dd7ddc04e1b6c2c614352b383efe2d36</td>\n",
       "    </tr>\n",
       "    <tr>\n",
       "      <th>2</th>\n",
       "      <td>000229ec398224ef6ca0657da4fc703e</td>\n",
       "      <td>c777355d18b72b67abbeef9df44fd0fd</td>\n",
       "      <td>5b51032eddd242adc84c38acab88f23d</td>\n",
       "    </tr>\n",
       "    <tr>\n",
       "      <th>3</th>\n",
       "      <td>00024acbcdf0a6daa1e931b038114c75</td>\n",
       "      <td>7634da152a4610f1595efa32f14722fc</td>\n",
       "      <td>9d7a1d34a5052409006425275ba1c2b4</td>\n",
       "    </tr>\n",
       "    <tr>\n",
       "      <th>4</th>\n",
       "      <td>00042b26cf59d7ce69dfabb4e55b4fd9</td>\n",
       "      <td>ac6c3623068f30de03045865e4e10089</td>\n",
       "      <td>df560393f3a51e74553ab94004ba5c87</td>\n",
       "    </tr>\n",
       "    <tr>\n",
       "      <th>...</th>\n",
       "      <td>...</td>\n",
       "      <td>...</td>\n",
       "      <td>...</td>\n",
       "    </tr>\n",
       "    <tr>\n",
       "      <th>112645</th>\n",
       "      <td>fffc94f6ce00a00581880bf54a75a037</td>\n",
       "      <td>4aa6014eceb682077f9dc4bffebc05b0</td>\n",
       "      <td>b8bc237ba3788b23da09c0f1f3a3288c</td>\n",
       "    </tr>\n",
       "    <tr>\n",
       "      <th>112646</th>\n",
       "      <td>fffcd46ef2263f404302a634eb57f7eb</td>\n",
       "      <td>32e07fd915822b0765e448c4dd74c828</td>\n",
       "      <td>f3c38ab652836d21de61fb8314b69182</td>\n",
       "    </tr>\n",
       "    <tr>\n",
       "      <th>112647</th>\n",
       "      <td>fffce4705a9662cd70adb13d4a31832d</td>\n",
       "      <td>72a30483855e2eafc67aee5dc2560482</td>\n",
       "      <td>c3cfdc648177fdbbbb35635a37472c53</td>\n",
       "    </tr>\n",
       "    <tr>\n",
       "      <th>112648</th>\n",
       "      <td>fffe18544ffabc95dfada21779c9644f</td>\n",
       "      <td>9c422a519119dcad7575db5af1ba540e</td>\n",
       "      <td>2b3e4a2a3ea8e01938cabda2a3e5cc79</td>\n",
       "    </tr>\n",
       "    <tr>\n",
       "      <th>112649</th>\n",
       "      <td>fffe41c64501cc87c801fd61db3f6244</td>\n",
       "      <td>350688d9dc1e75ff97be326363655e01</td>\n",
       "      <td>f7ccf836d21b2fb1de37564105216cc1</td>\n",
       "    </tr>\n",
       "  </tbody>\n",
       "</table>\n",
       "<p>112650 rows × 3 columns</p>\n",
       "</div>"
      ],
      "text/plain": [
       "                                order_id                        product_id  \\\n",
       "0       00010242fe8c5a6d1ba2dd792cb16214  4244733e06e7ecb4970a6e2683c13e61   \n",
       "1       00018f77f2f0320c557190d7a144bdd3  e5f2d52b802189ee658865ca93d83a8f   \n",
       "2       000229ec398224ef6ca0657da4fc703e  c777355d18b72b67abbeef9df44fd0fd   \n",
       "3       00024acbcdf0a6daa1e931b038114c75  7634da152a4610f1595efa32f14722fc   \n",
       "4       00042b26cf59d7ce69dfabb4e55b4fd9  ac6c3623068f30de03045865e4e10089   \n",
       "...                                  ...                               ...   \n",
       "112645  fffc94f6ce00a00581880bf54a75a037  4aa6014eceb682077f9dc4bffebc05b0   \n",
       "112646  fffcd46ef2263f404302a634eb57f7eb  32e07fd915822b0765e448c4dd74c828   \n",
       "112647  fffce4705a9662cd70adb13d4a31832d  72a30483855e2eafc67aee5dc2560482   \n",
       "112648  fffe18544ffabc95dfada21779c9644f  9c422a519119dcad7575db5af1ba540e   \n",
       "112649  fffe41c64501cc87c801fd61db3f6244  350688d9dc1e75ff97be326363655e01   \n",
       "\n",
       "                               seller_id  \n",
       "0       48436dade18ac8b2bce089ec2a041202  \n",
       "1       dd7ddc04e1b6c2c614352b383efe2d36  \n",
       "2       5b51032eddd242adc84c38acab88f23d  \n",
       "3       9d7a1d34a5052409006425275ba1c2b4  \n",
       "4       df560393f3a51e74553ab94004ba5c87  \n",
       "...                                  ...  \n",
       "112645  b8bc237ba3788b23da09c0f1f3a3288c  \n",
       "112646  f3c38ab652836d21de61fb8314b69182  \n",
       "112647  c3cfdc648177fdbbbb35635a37472c53  \n",
       "112648  2b3e4a2a3ea8e01938cabda2a3e5cc79  \n",
       "112649  f7ccf836d21b2fb1de37564105216cc1  \n",
       "\n",
       "[112650 rows x 3 columns]"
      ]
     },
     "execution_count": 8,
     "metadata": {},
     "output_type": "execute_result"
    }
   ],
   "source": [
    "# Membuka tabel olist_order_items_dataset\n",
    "order_item = \"\"\"\n",
    "                 Select order_id, \n",
    "                        product_id,\n",
    "                        seller_id\n",
    "                 from olist_order_items_dataset\n",
    "              \"\"\"\n",
    "\n",
    "order_item=pd.read_sql(order_item, conn)\n",
    "order_item"
   ]
  },
  {
   "cell_type": "code",
   "execution_count": 9,
   "metadata": {},
   "outputs": [
    {
     "data": {
      "text/html": [
       "<div>\n",
       "<style scoped>\n",
       "    .dataframe tbody tr th:only-of-type {\n",
       "        vertical-align: middle;\n",
       "    }\n",
       "\n",
       "    .dataframe tbody tr th {\n",
       "        vertical-align: top;\n",
       "    }\n",
       "\n",
       "    .dataframe thead th {\n",
       "        text-align: right;\n",
       "    }\n",
       "</style>\n",
       "<table border=\"1\" class=\"dataframe\">\n",
       "  <thead>\n",
       "    <tr style=\"text-align: right;\">\n",
       "      <th></th>\n",
       "      <th>product_category_name</th>\n",
       "      <th>product_category_name_english</th>\n",
       "    </tr>\n",
       "  </thead>\n",
       "  <tbody>\n",
       "    <tr>\n",
       "      <th>0</th>\n",
       "      <td>beleza_saude</td>\n",
       "      <td>health_beauty</td>\n",
       "    </tr>\n",
       "    <tr>\n",
       "      <th>1</th>\n",
       "      <td>informatica_acessorios</td>\n",
       "      <td>computers_accessories</td>\n",
       "    </tr>\n",
       "    <tr>\n",
       "      <th>2</th>\n",
       "      <td>automotivo</td>\n",
       "      <td>auto</td>\n",
       "    </tr>\n",
       "    <tr>\n",
       "      <th>3</th>\n",
       "      <td>cama_mesa_banho</td>\n",
       "      <td>bed_bath_table</td>\n",
       "    </tr>\n",
       "    <tr>\n",
       "      <th>4</th>\n",
       "      <td>moveis_decoracao</td>\n",
       "      <td>furniture_decor</td>\n",
       "    </tr>\n",
       "  </tbody>\n",
       "</table>\n",
       "</div>"
      ],
      "text/plain": [
       "    product_category_name product_category_name_english\n",
       "0            beleza_saude                 health_beauty\n",
       "1  informatica_acessorios         computers_accessories\n",
       "2              automotivo                          auto\n",
       "3         cama_mesa_banho                bed_bath_table\n",
       "4        moveis_decoracao               furniture_decor"
      ]
     },
     "execution_count": 9,
     "metadata": {},
     "output_type": "execute_result"
    }
   ],
   "source": [
    "# Membuka tabel product_category_name_translation\n",
    "olistProductCategory.head()"
   ]
  },
  {
   "cell_type": "code",
   "execution_count": 10,
   "metadata": {},
   "outputs": [
    {
     "data": {
      "text/html": [
       "<div>\n",
       "<style scoped>\n",
       "    .dataframe tbody tr th:only-of-type {\n",
       "        vertical-align: middle;\n",
       "    }\n",
       "\n",
       "    .dataframe tbody tr th {\n",
       "        vertical-align: top;\n",
       "    }\n",
       "\n",
       "    .dataframe thead th {\n",
       "        text-align: right;\n",
       "    }\n",
       "</style>\n",
       "<table border=\"1\" class=\"dataframe\">\n",
       "  <thead>\n",
       "    <tr style=\"text-align: right;\">\n",
       "      <th></th>\n",
       "      <th>order_id</th>\n",
       "      <th>customer_id</th>\n",
       "      <th>order_purchase_timestamp</th>\n",
       "    </tr>\n",
       "  </thead>\n",
       "  <tbody>\n",
       "    <tr>\n",
       "      <th>0</th>\n",
       "      <td>e481f51cbdc54678b7cc49136f2d6af7</td>\n",
       "      <td>9ef432eb6251297304e76186b10a928d</td>\n",
       "      <td>2017-10-02 10:56:33</td>\n",
       "    </tr>\n",
       "    <tr>\n",
       "      <th>1</th>\n",
       "      <td>53cdb2fc8bc7dce0b6741e2150273451</td>\n",
       "      <td>b0830fb4747a6c6d20dea0b8c802d7ef</td>\n",
       "      <td>2018-07-24 20:41:37</td>\n",
       "    </tr>\n",
       "    <tr>\n",
       "      <th>2</th>\n",
       "      <td>47770eb9100c2d0c44946d9cf07ec65d</td>\n",
       "      <td>41ce2a54c0b03bf3443c3d931a367089</td>\n",
       "      <td>2018-08-08 08:38:49</td>\n",
       "    </tr>\n",
       "    <tr>\n",
       "      <th>3</th>\n",
       "      <td>949d5b44dbf5de918fe9c16f97b45f8a</td>\n",
       "      <td>f88197465ea7920adcdbec7375364d82</td>\n",
       "      <td>2017-11-18 19:28:06</td>\n",
       "    </tr>\n",
       "    <tr>\n",
       "      <th>4</th>\n",
       "      <td>ad21c59c0840e6cb83a9ceb5573f8159</td>\n",
       "      <td>8ab97904e6daea8866dbdbc4fb7aad2c</td>\n",
       "      <td>2018-02-13 21:18:39</td>\n",
       "    </tr>\n",
       "    <tr>\n",
       "      <th>...</th>\n",
       "      <td>...</td>\n",
       "      <td>...</td>\n",
       "      <td>...</td>\n",
       "    </tr>\n",
       "    <tr>\n",
       "      <th>99436</th>\n",
       "      <td>9c5dedf39a927c1b2549525ed64a053c</td>\n",
       "      <td>39bd1228ee8140590ac3aca26f2dfe00</td>\n",
       "      <td>2017-03-09 09:54:05</td>\n",
       "    </tr>\n",
       "    <tr>\n",
       "      <th>99437</th>\n",
       "      <td>63943bddc261676b46f01ca7ac2f7bd8</td>\n",
       "      <td>1fca14ff2861355f6e5f14306ff977a7</td>\n",
       "      <td>2018-02-06 12:58:58</td>\n",
       "    </tr>\n",
       "    <tr>\n",
       "      <th>99438</th>\n",
       "      <td>83c1379a015df1e13d02aae0204711ab</td>\n",
       "      <td>1aa71eb042121263aafbe80c1b562c9c</td>\n",
       "      <td>2017-08-27 14:46:43</td>\n",
       "    </tr>\n",
       "    <tr>\n",
       "      <th>99439</th>\n",
       "      <td>11c177c8e97725db2631073c19f07b62</td>\n",
       "      <td>b331b74b18dc79bcdf6532d51e1637c1</td>\n",
       "      <td>2018-01-08 21:28:27</td>\n",
       "    </tr>\n",
       "    <tr>\n",
       "      <th>99440</th>\n",
       "      <td>66dea50a8b16d9b4dee7af250b4be1a5</td>\n",
       "      <td>edb027a75a1449115f6b43211ae02a24</td>\n",
       "      <td>2018-03-08 20:57:30</td>\n",
       "    </tr>\n",
       "  </tbody>\n",
       "</table>\n",
       "<p>99441 rows × 3 columns</p>\n",
       "</div>"
      ],
      "text/plain": [
       "                               order_id                       customer_id  \\\n",
       "0      e481f51cbdc54678b7cc49136f2d6af7  9ef432eb6251297304e76186b10a928d   \n",
       "1      53cdb2fc8bc7dce0b6741e2150273451  b0830fb4747a6c6d20dea0b8c802d7ef   \n",
       "2      47770eb9100c2d0c44946d9cf07ec65d  41ce2a54c0b03bf3443c3d931a367089   \n",
       "3      949d5b44dbf5de918fe9c16f97b45f8a  f88197465ea7920adcdbec7375364d82   \n",
       "4      ad21c59c0840e6cb83a9ceb5573f8159  8ab97904e6daea8866dbdbc4fb7aad2c   \n",
       "...                                 ...                               ...   \n",
       "99436  9c5dedf39a927c1b2549525ed64a053c  39bd1228ee8140590ac3aca26f2dfe00   \n",
       "99437  63943bddc261676b46f01ca7ac2f7bd8  1fca14ff2861355f6e5f14306ff977a7   \n",
       "99438  83c1379a015df1e13d02aae0204711ab  1aa71eb042121263aafbe80c1b562c9c   \n",
       "99439  11c177c8e97725db2631073c19f07b62  b331b74b18dc79bcdf6532d51e1637c1   \n",
       "99440  66dea50a8b16d9b4dee7af250b4be1a5  edb027a75a1449115f6b43211ae02a24   \n",
       "\n",
       "      order_purchase_timestamp  \n",
       "0          2017-10-02 10:56:33  \n",
       "1          2018-07-24 20:41:37  \n",
       "2          2018-08-08 08:38:49  \n",
       "3          2017-11-18 19:28:06  \n",
       "4          2018-02-13 21:18:39  \n",
       "...                        ...  \n",
       "99436      2017-03-09 09:54:05  \n",
       "99437      2018-02-06 12:58:58  \n",
       "99438      2017-08-27 14:46:43  \n",
       "99439      2018-01-08 21:28:27  \n",
       "99440      2018-03-08 20:57:30  \n",
       "\n",
       "[99441 rows x 3 columns]"
      ]
     },
     "execution_count": 10,
     "metadata": {},
     "output_type": "execute_result"
    }
   ],
   "source": [
    "# Membuka dan menggabungkan tabel olist_order_dataset dengan tabel olist_order_customer_dataset\n",
    "\n",
    "orders_product = \"\"\" select order_id,\n",
    "                            customer_id,\n",
    "                            order_purchase_timestamp\n",
    "                     from olist_order_dataset\n",
    "                     left join olist_order_customer_dataset\n",
    "                     using (customer_id)\n",
    "            \n",
    "                 \"\"\"\n",
    "\n",
    "orders_product = pd.read_sql(orders_product, conn)\n",
    "orders_product"
   ]
  },
  {
   "cell_type": "code",
   "execution_count": 11,
   "metadata": {},
   "outputs": [
    {
     "data": {
      "text/html": [
       "<div>\n",
       "<style scoped>\n",
       "    .dataframe tbody tr th:only-of-type {\n",
       "        vertical-align: middle;\n",
       "    }\n",
       "\n",
       "    .dataframe tbody tr th {\n",
       "        vertical-align: top;\n",
       "    }\n",
       "\n",
       "    .dataframe thead th {\n",
       "        text-align: right;\n",
       "    }\n",
       "</style>\n",
       "<table border=\"1\" class=\"dataframe\">\n",
       "  <thead>\n",
       "    <tr style=\"text-align: right;\">\n",
       "      <th></th>\n",
       "      <th>product_id</th>\n",
       "      <th>product_category_name</th>\n",
       "      <th>product_category_name_english</th>\n",
       "      <th>order_id</th>\n",
       "      <th>seller_id</th>\n",
       "      <th>customer_id</th>\n",
       "      <th>order_purchase_timestamp</th>\n",
       "    </tr>\n",
       "  </thead>\n",
       "  <tbody>\n",
       "    <tr>\n",
       "      <th>0</th>\n",
       "      <td>1e9e8ef04dbcff4541ed26657ea517e5</td>\n",
       "      <td>perfumaria</td>\n",
       "      <td>perfumery</td>\n",
       "      <td>e17e4f88e31525f7deef66779844ddce</td>\n",
       "      <td>5670f4db5b62c43d542e1b2d56b0cf7c</td>\n",
       "      <td>f8a3e963a310aa58b60a5b1fed5bceb5</td>\n",
       "      <td>2018-04-24 16:16:53</td>\n",
       "    </tr>\n",
       "    <tr>\n",
       "      <th>1</th>\n",
       "      <td>3aa071139cb16b67ca9e5dea641aaa2f</td>\n",
       "      <td>artes</td>\n",
       "      <td>art</td>\n",
       "      <td>5236307716393b7114b53ee991f36956</td>\n",
       "      <td>b561927807645834b59ef0d16ba55a24</td>\n",
       "      <td>03fc97548af8f58fefc768d12b546c9c</td>\n",
       "      <td>2018-01-31 18:55:36</td>\n",
       "    </tr>\n",
       "    <tr>\n",
       "      <th>2</th>\n",
       "      <td>96bd76ec8810374ed1b65e291975717f</td>\n",
       "      <td>esporte_lazer</td>\n",
       "      <td>sports_leisure</td>\n",
       "      <td>01f66e58769f84129811d43eefd187fb</td>\n",
       "      <td>7b07b3c7487f0ea825fc6df75abd658b</td>\n",
       "      <td>e41819d1c95c12c9ce495b630eab8aee</td>\n",
       "      <td>2018-07-09 21:18:01</td>\n",
       "    </tr>\n",
       "    <tr>\n",
       "      <th>3</th>\n",
       "      <td>cef67bcfe19066a932b7673e239eb23d</td>\n",
       "      <td>bebes</td>\n",
       "      <td>baby</td>\n",
       "      <td>143d00a4f2dde4e0364ee1821577adb3</td>\n",
       "      <td>c510bc1718f0f2961eaa42a23330681a</td>\n",
       "      <td>322162b5ca010c2b059cb5224dd818b1</td>\n",
       "      <td>2018-08-03 08:55:50</td>\n",
       "    </tr>\n",
       "    <tr>\n",
       "      <th>4</th>\n",
       "      <td>9dc1a7de274444849c219cff195d0b71</td>\n",
       "      <td>utilidades_domesticas</td>\n",
       "      <td>housewares</td>\n",
       "      <td>86cafb8794cb99a9b1b77fc8e48fbbbb</td>\n",
       "      <td>0be8ff43f22e456b4e0371b2245e4d01</td>\n",
       "      <td>c11c31965ff02cc1d7132df8edfcbc22</td>\n",
       "      <td>2018-04-11 01:06:37</td>\n",
       "    </tr>\n",
       "    <tr>\n",
       "      <th>...</th>\n",
       "      <td>...</td>\n",
       "      <td>...</td>\n",
       "      <td>...</td>\n",
       "      <td>...</td>\n",
       "      <td>...</td>\n",
       "      <td>...</td>\n",
       "      <td>...</td>\n",
       "    </tr>\n",
       "    <tr>\n",
       "      <th>112645</th>\n",
       "      <td>83808703fc0706a22e264b9d75f04a2e</td>\n",
       "      <td>informatica_acessorios</td>\n",
       "      <td>computers_accessories</td>\n",
       "      <td>59e88b7d3675e89aceaf86f372d3bc9a</td>\n",
       "      <td>4324dd16853115efb0fd9d0d131ba6f4</td>\n",
       "      <td>e750210dde7e68dbd5194c0809e97f7e</td>\n",
       "      <td>2018-01-03 15:05:53</td>\n",
       "    </tr>\n",
       "    <tr>\n",
       "      <th>112646</th>\n",
       "      <td>83808703fc0706a22e264b9d75f04a2e</td>\n",
       "      <td>informatica_acessorios</td>\n",
       "      <td>computers_accessories</td>\n",
       "      <td>6e4465d771f02e4fe335225de3c6c043</td>\n",
       "      <td>4324dd16853115efb0fd9d0d131ba6f4</td>\n",
       "      <td>0f139d1b208a62a37671423e5eff5016</td>\n",
       "      <td>2018-03-06 11:51:44</td>\n",
       "    </tr>\n",
       "    <tr>\n",
       "      <th>112647</th>\n",
       "      <td>83808703fc0706a22e264b9d75f04a2e</td>\n",
       "      <td>informatica_acessorios</td>\n",
       "      <td>computers_accessories</td>\n",
       "      <td>6e4465d771f02e4fe335225de3c6c043</td>\n",
       "      <td>4324dd16853115efb0fd9d0d131ba6f4</td>\n",
       "      <td>0f139d1b208a62a37671423e5eff5016</td>\n",
       "      <td>2018-03-06 11:51:44</td>\n",
       "    </tr>\n",
       "    <tr>\n",
       "      <th>112648</th>\n",
       "      <td>83808703fc0706a22e264b9d75f04a2e</td>\n",
       "      <td>informatica_acessorios</td>\n",
       "      <td>computers_accessories</td>\n",
       "      <td>6e4465d771f02e4fe335225de3c6c043</td>\n",
       "      <td>4324dd16853115efb0fd9d0d131ba6f4</td>\n",
       "      <td>0f139d1b208a62a37671423e5eff5016</td>\n",
       "      <td>2018-03-06 11:51:44</td>\n",
       "    </tr>\n",
       "    <tr>\n",
       "      <th>112649</th>\n",
       "      <td>106392145fca363410d287a815be6de4</td>\n",
       "      <td>cama_mesa_banho</td>\n",
       "      <td>bed_bath_table</td>\n",
       "      <td>f3a47ba087f05d39a74ed1b653f0be1b</td>\n",
       "      <td>4a3ca9315b744ce9f8e9374361493884</td>\n",
       "      <td>b7fbfcea57659b5d18c20c95db45e908</td>\n",
       "      <td>2018-06-28 08:15:31</td>\n",
       "    </tr>\n",
       "  </tbody>\n",
       "</table>\n",
       "<p>112650 rows × 7 columns</p>\n",
       "</div>"
      ],
      "text/plain": [
       "                              product_id   product_category_name  \\\n",
       "0       1e9e8ef04dbcff4541ed26657ea517e5              perfumaria   \n",
       "1       3aa071139cb16b67ca9e5dea641aaa2f                   artes   \n",
       "2       96bd76ec8810374ed1b65e291975717f           esporte_lazer   \n",
       "3       cef67bcfe19066a932b7673e239eb23d                   bebes   \n",
       "4       9dc1a7de274444849c219cff195d0b71   utilidades_domesticas   \n",
       "...                                  ...                     ...   \n",
       "112645  83808703fc0706a22e264b9d75f04a2e  informatica_acessorios   \n",
       "112646  83808703fc0706a22e264b9d75f04a2e  informatica_acessorios   \n",
       "112647  83808703fc0706a22e264b9d75f04a2e  informatica_acessorios   \n",
       "112648  83808703fc0706a22e264b9d75f04a2e  informatica_acessorios   \n",
       "112649  106392145fca363410d287a815be6de4         cama_mesa_banho   \n",
       "\n",
       "       product_category_name_english                          order_id  \\\n",
       "0                          perfumery  e17e4f88e31525f7deef66779844ddce   \n",
       "1                                art  5236307716393b7114b53ee991f36956   \n",
       "2                     sports_leisure  01f66e58769f84129811d43eefd187fb   \n",
       "3                               baby  143d00a4f2dde4e0364ee1821577adb3   \n",
       "4                         housewares  86cafb8794cb99a9b1b77fc8e48fbbbb   \n",
       "...                              ...                               ...   \n",
       "112645         computers_accessories  59e88b7d3675e89aceaf86f372d3bc9a   \n",
       "112646         computers_accessories  6e4465d771f02e4fe335225de3c6c043   \n",
       "112647         computers_accessories  6e4465d771f02e4fe335225de3c6c043   \n",
       "112648         computers_accessories  6e4465d771f02e4fe335225de3c6c043   \n",
       "112649                bed_bath_table  f3a47ba087f05d39a74ed1b653f0be1b   \n",
       "\n",
       "                               seller_id                       customer_id  \\\n",
       "0       5670f4db5b62c43d542e1b2d56b0cf7c  f8a3e963a310aa58b60a5b1fed5bceb5   \n",
       "1       b561927807645834b59ef0d16ba55a24  03fc97548af8f58fefc768d12b546c9c   \n",
       "2       7b07b3c7487f0ea825fc6df75abd658b  e41819d1c95c12c9ce495b630eab8aee   \n",
       "3       c510bc1718f0f2961eaa42a23330681a  322162b5ca010c2b059cb5224dd818b1   \n",
       "4       0be8ff43f22e456b4e0371b2245e4d01  c11c31965ff02cc1d7132df8edfcbc22   \n",
       "...                                  ...                               ...   \n",
       "112645  4324dd16853115efb0fd9d0d131ba6f4  e750210dde7e68dbd5194c0809e97f7e   \n",
       "112646  4324dd16853115efb0fd9d0d131ba6f4  0f139d1b208a62a37671423e5eff5016   \n",
       "112647  4324dd16853115efb0fd9d0d131ba6f4  0f139d1b208a62a37671423e5eff5016   \n",
       "112648  4324dd16853115efb0fd9d0d131ba6f4  0f139d1b208a62a37671423e5eff5016   \n",
       "112649  4a3ca9315b744ce9f8e9374361493884  b7fbfcea57659b5d18c20c95db45e908   \n",
       "\n",
       "       order_purchase_timestamp  \n",
       "0           2018-04-24 16:16:53  \n",
       "1           2018-01-31 18:55:36  \n",
       "2           2018-07-09 21:18:01  \n",
       "3           2018-08-03 08:55:50  \n",
       "4           2018-04-11 01:06:37  \n",
       "...                         ...  \n",
       "112645      2018-01-03 15:05:53  \n",
       "112646      2018-03-06 11:51:44  \n",
       "112647      2018-03-06 11:51:44  \n",
       "112648      2018-03-06 11:51:44  \n",
       "112649      2018-06-28 08:15:31  \n",
       "\n",
       "[112650 rows x 7 columns]"
      ]
     },
     "execution_count": 11,
     "metadata": {},
     "output_type": "execute_result"
    }
   ],
   "source": [
    "# Menggabungkan tabel order_item, dan product.\n",
    "product_merge = pd.merge(join_product, order_item, on='product_id', how='left').merge(orders_product, on='order_id', how='left')\n",
    "product_merge"
   ]
  },
  {
   "cell_type": "code",
   "execution_count": 12,
   "metadata": {},
   "outputs": [
    {
     "name": "stdout",
     "output_type": "stream",
     "text": [
      "<class 'pandas.core.frame.DataFrame'>\n",
      "RangeIndex: 112650 entries, 0 to 112649\n",
      "Data columns (total 7 columns):\n",
      " #   Column                         Non-Null Count   Dtype \n",
      "---  ------                         --------------   ----- \n",
      " 0   product_id                     112650 non-null  object\n",
      " 1   product_category_name          111047 non-null  object\n",
      " 2   product_category_name_english  111023 non-null  object\n",
      " 3   order_id                       112650 non-null  object\n",
      " 4   seller_id                      112650 non-null  object\n",
      " 5   customer_id                    112650 non-null  object\n",
      " 6   order_purchase_timestamp       112650 non-null  object\n",
      "dtypes: object(7)\n",
      "memory usage: 6.0+ MB\n"
     ]
    }
   ],
   "source": [
    "# Mengecek informasi pada tabel yang akan digunakan\n",
    "product_merge.info()"
   ]
  },
  {
   "cell_type": "markdown",
   "metadata": {},
   "source": [
    "Tabel yang digunakan memiliki 112650 baris. Beberapa kolom memiliki nilai kosong dan tipe data yang kurang sesuai.\n"
   ]
  },
  {
   "cell_type": "markdown",
   "metadata": {},
   "source": [
    "### Data Cleaning"
   ]
  },
  {
   "cell_type": "code",
   "execution_count": 13,
   "metadata": {},
   "outputs": [
    {
     "data": {
      "text/html": [
       "<div>\n",
       "<style scoped>\n",
       "    .dataframe tbody tr th:only-of-type {\n",
       "        vertical-align: middle;\n",
       "    }\n",
       "\n",
       "    .dataframe tbody tr th {\n",
       "        vertical-align: top;\n",
       "    }\n",
       "\n",
       "    .dataframe thead th {\n",
       "        text-align: right;\n",
       "    }\n",
       "</style>\n",
       "<table border=\"1\" class=\"dataframe\">\n",
       "  <thead>\n",
       "    <tr style=\"text-align: right;\">\n",
       "      <th></th>\n",
       "      <th>product_id</th>\n",
       "      <th>product_category_name</th>\n",
       "      <th>product_category_name_english</th>\n",
       "      <th>order_id</th>\n",
       "      <th>seller_id</th>\n",
       "      <th>customer_id</th>\n",
       "      <th>order_purchase_timestamp</th>\n",
       "    </tr>\n",
       "  </thead>\n",
       "  <tbody>\n",
       "    <tr>\n",
       "      <th>0</th>\n",
       "      <td>False</td>\n",
       "      <td>False</td>\n",
       "      <td>False</td>\n",
       "      <td>False</td>\n",
       "      <td>False</td>\n",
       "      <td>False</td>\n",
       "      <td>False</td>\n",
       "    </tr>\n",
       "    <tr>\n",
       "      <th>1</th>\n",
       "      <td>False</td>\n",
       "      <td>False</td>\n",
       "      <td>False</td>\n",
       "      <td>False</td>\n",
       "      <td>False</td>\n",
       "      <td>False</td>\n",
       "      <td>False</td>\n",
       "    </tr>\n",
       "    <tr>\n",
       "      <th>2</th>\n",
       "      <td>False</td>\n",
       "      <td>False</td>\n",
       "      <td>False</td>\n",
       "      <td>False</td>\n",
       "      <td>False</td>\n",
       "      <td>False</td>\n",
       "      <td>False</td>\n",
       "    </tr>\n",
       "    <tr>\n",
       "      <th>3</th>\n",
       "      <td>False</td>\n",
       "      <td>False</td>\n",
       "      <td>False</td>\n",
       "      <td>False</td>\n",
       "      <td>False</td>\n",
       "      <td>False</td>\n",
       "      <td>False</td>\n",
       "    </tr>\n",
       "    <tr>\n",
       "      <th>4</th>\n",
       "      <td>False</td>\n",
       "      <td>False</td>\n",
       "      <td>False</td>\n",
       "      <td>False</td>\n",
       "      <td>False</td>\n",
       "      <td>False</td>\n",
       "      <td>False</td>\n",
       "    </tr>\n",
       "    <tr>\n",
       "      <th>...</th>\n",
       "      <td>...</td>\n",
       "      <td>...</td>\n",
       "      <td>...</td>\n",
       "      <td>...</td>\n",
       "      <td>...</td>\n",
       "      <td>...</td>\n",
       "      <td>...</td>\n",
       "    </tr>\n",
       "    <tr>\n",
       "      <th>112645</th>\n",
       "      <td>False</td>\n",
       "      <td>False</td>\n",
       "      <td>False</td>\n",
       "      <td>False</td>\n",
       "      <td>False</td>\n",
       "      <td>False</td>\n",
       "      <td>False</td>\n",
       "    </tr>\n",
       "    <tr>\n",
       "      <th>112646</th>\n",
       "      <td>False</td>\n",
       "      <td>False</td>\n",
       "      <td>False</td>\n",
       "      <td>False</td>\n",
       "      <td>False</td>\n",
       "      <td>False</td>\n",
       "      <td>False</td>\n",
       "    </tr>\n",
       "    <tr>\n",
       "      <th>112647</th>\n",
       "      <td>False</td>\n",
       "      <td>False</td>\n",
       "      <td>False</td>\n",
       "      <td>False</td>\n",
       "      <td>False</td>\n",
       "      <td>False</td>\n",
       "      <td>False</td>\n",
       "    </tr>\n",
       "    <tr>\n",
       "      <th>112648</th>\n",
       "      <td>False</td>\n",
       "      <td>False</td>\n",
       "      <td>False</td>\n",
       "      <td>False</td>\n",
       "      <td>False</td>\n",
       "      <td>False</td>\n",
       "      <td>False</td>\n",
       "    </tr>\n",
       "    <tr>\n",
       "      <th>112649</th>\n",
       "      <td>False</td>\n",
       "      <td>False</td>\n",
       "      <td>False</td>\n",
       "      <td>False</td>\n",
       "      <td>False</td>\n",
       "      <td>False</td>\n",
       "      <td>False</td>\n",
       "    </tr>\n",
       "  </tbody>\n",
       "</table>\n",
       "<p>112650 rows × 7 columns</p>\n",
       "</div>"
      ],
      "text/plain": [
       "        product_id  product_category_name  product_category_name_english  \\\n",
       "0            False                  False                          False   \n",
       "1            False                  False                          False   \n",
       "2            False                  False                          False   \n",
       "3            False                  False                          False   \n",
       "4            False                  False                          False   \n",
       "...            ...                    ...                            ...   \n",
       "112645       False                  False                          False   \n",
       "112646       False                  False                          False   \n",
       "112647       False                  False                          False   \n",
       "112648       False                  False                          False   \n",
       "112649       False                  False                          False   \n",
       "\n",
       "        order_id  seller_id  customer_id  order_purchase_timestamp  \n",
       "0          False      False        False                     False  \n",
       "1          False      False        False                     False  \n",
       "2          False      False        False                     False  \n",
       "3          False      False        False                     False  \n",
       "4          False      False        False                     False  \n",
       "...          ...        ...          ...                       ...  \n",
       "112645     False      False        False                     False  \n",
       "112646     False      False        False                     False  \n",
       "112647     False      False        False                     False  \n",
       "112648     False      False        False                     False  \n",
       "112649     False      False        False                     False  \n",
       "\n",
       "[112650 rows x 7 columns]"
      ]
     },
     "execution_count": 13,
     "metadata": {},
     "output_type": "execute_result"
    }
   ],
   "source": [
    "# Handling Missing/NaN value\n",
    "product_merge.isna()"
   ]
  },
  {
   "cell_type": "code",
   "execution_count": 14,
   "metadata": {},
   "outputs": [
    {
     "data": {
      "text/plain": [
       "product_id                          0\n",
       "product_category_name            1603\n",
       "product_category_name_english    1627\n",
       "order_id                            0\n",
       "seller_id                           0\n",
       "customer_id                         0\n",
       "order_purchase_timestamp            0\n",
       "dtype: int64"
      ]
     },
     "execution_count": 14,
     "metadata": {},
     "output_type": "execute_result"
    }
   ],
   "source": [
    "# Mengecek jumlah Handling Missing/NaN value\n",
    "\n",
    "product_merge.isna().sum()"
   ]
  },
  {
   "cell_type": "code",
   "execution_count": 15,
   "metadata": {},
   "outputs": [
    {
     "data": {
      "text/html": [
       "<div>\n",
       "<style scoped>\n",
       "    .dataframe tbody tr th:only-of-type {\n",
       "        vertical-align: middle;\n",
       "    }\n",
       "\n",
       "    .dataframe tbody tr th {\n",
       "        vertical-align: top;\n",
       "    }\n",
       "\n",
       "    .dataframe thead th {\n",
       "        text-align: right;\n",
       "    }\n",
       "</style>\n",
       "<table border=\"1\" class=\"dataframe\">\n",
       "  <thead>\n",
       "    <tr style=\"text-align: right;\">\n",
       "      <th></th>\n",
       "      <th>product_id</th>\n",
       "      <th>product_category_name</th>\n",
       "      <th>product_category_name_english</th>\n",
       "      <th>order_id</th>\n",
       "      <th>seller_id</th>\n",
       "      <th>customer_id</th>\n",
       "      <th>order_purchase_timestamp</th>\n",
       "    </tr>\n",
       "  </thead>\n",
       "  <tbody>\n",
       "    <tr>\n",
       "      <th>273</th>\n",
       "      <td>a41e356c76fab66334f36de622ecbd3a</td>\n",
       "      <td>None</td>\n",
       "      <td>None</td>\n",
       "      <td>b8bfa12431142333a0c84802f9529d87</td>\n",
       "      <td>d9cb0052a666de5308b32f32ad5f1b1c</td>\n",
       "      <td>c81be24f970cdf800017108e48d4b098</td>\n",
       "      <td>2018-01-19 00:21:43</td>\n",
       "    </tr>\n",
       "    <tr>\n",
       "      <th>338</th>\n",
       "      <td>d8dee61c2034d6d075997acef1870e9b</td>\n",
       "      <td>None</td>\n",
       "      <td>None</td>\n",
       "      <td>9d7f2c9f33008498700ffdc3162878fb</td>\n",
       "      <td>c826c40d7b19f62a09e2d7c5e7295ee2</td>\n",
       "      <td>4d54bd3326ad77cbe4e1bd929a209106</td>\n",
       "      <td>2017-08-27 13:02:01</td>\n",
       "    </tr>\n",
       "    <tr>\n",
       "      <th>364</th>\n",
       "      <td>56139431d72cd51f19eb9f7dae4d1617</td>\n",
       "      <td>None</td>\n",
       "      <td>None</td>\n",
       "      <td>36750bfd3e70a5f8f95edf2e28f1d60e</td>\n",
       "      <td>b0f2a6122a90a93eb03e68653dd960e3</td>\n",
       "      <td>352960fe6741c7944bd2007d8d1d3f64</td>\n",
       "      <td>2018-06-22 21:30:06</td>\n",
       "    </tr>\n",
       "    <tr>\n",
       "      <th>387</th>\n",
       "      <td>46b48281eb6d663ced748f324108c733</td>\n",
       "      <td>None</td>\n",
       "      <td>None</td>\n",
       "      <td>3495e966748a04cd5d7f4537a57fa3ef</td>\n",
       "      <td>dd7ddc04e1b6c2c614352b383efe2d36</td>\n",
       "      <td>227d70f3020b7eda1573401a7d5e1aff</td>\n",
       "      <td>2017-09-04 22:02:17</td>\n",
       "    </tr>\n",
       "    <tr>\n",
       "      <th>388</th>\n",
       "      <td>46b48281eb6d663ced748f324108c733</td>\n",
       "      <td>None</td>\n",
       "      <td>None</td>\n",
       "      <td>5dc05f32211efb743fde17f226adfb6b</td>\n",
       "      <td>dd7ddc04e1b6c2c614352b383efe2d36</td>\n",
       "      <td>d0a06220865cc230d39188471bffd4f6</td>\n",
       "      <td>2017-08-11 16:25:03</td>\n",
       "    </tr>\n",
       "    <tr>\n",
       "      <th>...</th>\n",
       "      <td>...</td>\n",
       "      <td>...</td>\n",
       "      <td>...</td>\n",
       "      <td>...</td>\n",
       "      <td>...</td>\n",
       "      <td>...</td>\n",
       "      <td>...</td>\n",
       "    </tr>\n",
       "    <tr>\n",
       "      <th>111596</th>\n",
       "      <td>10dbe0fbaa2c505123c17fdc34a63c56</td>\n",
       "      <td>None</td>\n",
       "      <td>None</td>\n",
       "      <td>a908872306574c9405b29a838aee5521</td>\n",
       "      <td>0c8380b62e38e8a1e6adbeba7eb9688c</td>\n",
       "      <td>66248865be7641119877386694de1598</td>\n",
       "      <td>2018-07-24 17:04:52</td>\n",
       "    </tr>\n",
       "    <tr>\n",
       "      <th>111633</th>\n",
       "      <td>bd2ada37b58ae94cc838b9c0569fecd8</td>\n",
       "      <td>None</td>\n",
       "      <td>None</td>\n",
       "      <td>b9138517d788504f3732765e32ffc3d7</td>\n",
       "      <td>e5d4b2b0c3bca22085f7a19a28de0c42</td>\n",
       "      <td>5288e45224162bdb75c2c4147aac76bb</td>\n",
       "      <td>2017-11-26 05:27:45</td>\n",
       "    </tr>\n",
       "    <tr>\n",
       "      <th>112027</th>\n",
       "      <td>fa51e914046aab32764c41356b9d4ea4</td>\n",
       "      <td>None</td>\n",
       "      <td>None</td>\n",
       "      <td>5a06ec99090e75d00d2b33b0efdce2f4</td>\n",
       "      <td>1b8b75e227c9a9c100d0c210fb6176ce</td>\n",
       "      <td>4275510de6637b903e69994771170784</td>\n",
       "      <td>2017-02-01 21:33:14</td>\n",
       "    </tr>\n",
       "    <tr>\n",
       "      <th>112028</th>\n",
       "      <td>fa51e914046aab32764c41356b9d4ea4</td>\n",
       "      <td>None</td>\n",
       "      <td>None</td>\n",
       "      <td>fe51db9ff7a67edc7468c14e0a2e9aa1</td>\n",
       "      <td>1b8b75e227c9a9c100d0c210fb6176ce</td>\n",
       "      <td>7247106f634d1730b57da177148bbc0f</td>\n",
       "      <td>2017-02-06 17:10:51</td>\n",
       "    </tr>\n",
       "    <tr>\n",
       "      <th>112324</th>\n",
       "      <td>c4ceee876c82b8328e9c293fa0e1989b</td>\n",
       "      <td>None</td>\n",
       "      <td>None</td>\n",
       "      <td>2a93ce7a0ff5c657ce85f7b75d26408f</td>\n",
       "      <td>25e47381a6c510ddeb36084e33b89f0c</td>\n",
       "      <td>2ca557d0643e6728725b61db2c891ec7</td>\n",
       "      <td>2017-05-24 15:46:11</td>\n",
       "    </tr>\n",
       "  </tbody>\n",
       "</table>\n",
       "<p>1627 rows × 7 columns</p>\n",
       "</div>"
      ],
      "text/plain": [
       "                              product_id product_category_name  \\\n",
       "273     a41e356c76fab66334f36de622ecbd3a                  None   \n",
       "338     d8dee61c2034d6d075997acef1870e9b                  None   \n",
       "364     56139431d72cd51f19eb9f7dae4d1617                  None   \n",
       "387     46b48281eb6d663ced748f324108c733                  None   \n",
       "388     46b48281eb6d663ced748f324108c733                  None   \n",
       "...                                  ...                   ...   \n",
       "111596  10dbe0fbaa2c505123c17fdc34a63c56                  None   \n",
       "111633  bd2ada37b58ae94cc838b9c0569fecd8                  None   \n",
       "112027  fa51e914046aab32764c41356b9d4ea4                  None   \n",
       "112028  fa51e914046aab32764c41356b9d4ea4                  None   \n",
       "112324  c4ceee876c82b8328e9c293fa0e1989b                  None   \n",
       "\n",
       "       product_category_name_english                          order_id  \\\n",
       "273                             None  b8bfa12431142333a0c84802f9529d87   \n",
       "338                             None  9d7f2c9f33008498700ffdc3162878fb   \n",
       "364                             None  36750bfd3e70a5f8f95edf2e28f1d60e   \n",
       "387                             None  3495e966748a04cd5d7f4537a57fa3ef   \n",
       "388                             None  5dc05f32211efb743fde17f226adfb6b   \n",
       "...                              ...                               ...   \n",
       "111596                          None  a908872306574c9405b29a838aee5521   \n",
       "111633                          None  b9138517d788504f3732765e32ffc3d7   \n",
       "112027                          None  5a06ec99090e75d00d2b33b0efdce2f4   \n",
       "112028                          None  fe51db9ff7a67edc7468c14e0a2e9aa1   \n",
       "112324                          None  2a93ce7a0ff5c657ce85f7b75d26408f   \n",
       "\n",
       "                               seller_id                       customer_id  \\\n",
       "273     d9cb0052a666de5308b32f32ad5f1b1c  c81be24f970cdf800017108e48d4b098   \n",
       "338     c826c40d7b19f62a09e2d7c5e7295ee2  4d54bd3326ad77cbe4e1bd929a209106   \n",
       "364     b0f2a6122a90a93eb03e68653dd960e3  352960fe6741c7944bd2007d8d1d3f64   \n",
       "387     dd7ddc04e1b6c2c614352b383efe2d36  227d70f3020b7eda1573401a7d5e1aff   \n",
       "388     dd7ddc04e1b6c2c614352b383efe2d36  d0a06220865cc230d39188471bffd4f6   \n",
       "...                                  ...                               ...   \n",
       "111596  0c8380b62e38e8a1e6adbeba7eb9688c  66248865be7641119877386694de1598   \n",
       "111633  e5d4b2b0c3bca22085f7a19a28de0c42  5288e45224162bdb75c2c4147aac76bb   \n",
       "112027  1b8b75e227c9a9c100d0c210fb6176ce  4275510de6637b903e69994771170784   \n",
       "112028  1b8b75e227c9a9c100d0c210fb6176ce  7247106f634d1730b57da177148bbc0f   \n",
       "112324  25e47381a6c510ddeb36084e33b89f0c  2ca557d0643e6728725b61db2c891ec7   \n",
       "\n",
       "       order_purchase_timestamp  \n",
       "273         2018-01-19 00:21:43  \n",
       "338         2017-08-27 13:02:01  \n",
       "364         2018-06-22 21:30:06  \n",
       "387         2017-09-04 22:02:17  \n",
       "388         2017-08-11 16:25:03  \n",
       "...                         ...  \n",
       "111596      2018-07-24 17:04:52  \n",
       "111633      2017-11-26 05:27:45  \n",
       "112027      2017-02-01 21:33:14  \n",
       "112028      2017-02-06 17:10:51  \n",
       "112324      2017-05-24 15:46:11  \n",
       "\n",
       "[1627 rows x 7 columns]"
      ]
     },
     "execution_count": 15,
     "metadata": {},
     "output_type": "execute_result"
    }
   ],
   "source": [
    "# Handling Missing atau NaN Value\n",
    "product_merge[product_merge['product_category_name_english'].isna()]"
   ]
  },
  {
   "cell_type": "code",
   "execution_count": 16,
   "metadata": {},
   "outputs": [
    {
     "data": {
      "text/plain": [
       "['product_category_name', 'product_category_name_english']"
      ]
     },
     "execution_count": 16,
     "metadata": {},
     "output_type": "execute_result"
    }
   ],
   "source": [
    "# Mengecek Kolom yang memiliki nilai NaN\n",
    "column_NaN = product_merge.columns[product_merge.isna().any()].tolist()\n",
    "column_NaN"
   ]
  },
  {
   "cell_type": "code",
   "execution_count": 17,
   "metadata": {},
   "outputs": [
    {
     "name": "stdout",
     "output_type": "stream",
     "text": [
      "1603 rows doesn't have category name\n"
     ]
    }
   ],
   "source": [
    "# Mengecek jumlah Handling Missing/NaN value\n",
    "\n",
    "cek_category_name = product_merge[product_merge.product_category_name.isna()]\n",
    "print(f\"{len(cek_category_name.product_id)} rows doesn't have category name\")"
   ]
  },
  {
   "cell_type": "markdown",
   "metadata": {},
   "source": [
    "Pada kolom product_category_name terdapat nilai NaN atau missing values sebanyak 1603 baris. Kemungkinan data ini telah dihapus dari database atau mengalami kerusakan. Oleh sebab itu, data sebanyak 1603 baris akan dihapus."
   ]
  },
  {
   "cell_type": "code",
   "execution_count": 18,
   "metadata": {},
   "outputs": [
    {
     "name": "stdout",
     "output_type": "stream",
     "text": [
      "<class 'pandas.core.frame.DataFrame'>\n",
      "Index: 111047 entries, 0 to 112649\n",
      "Data columns (total 7 columns):\n",
      " #   Column                         Non-Null Count   Dtype \n",
      "---  ------                         --------------   ----- \n",
      " 0   product_id                     111047 non-null  object\n",
      " 1   product_category_name          111047 non-null  object\n",
      " 2   product_category_name_english  111023 non-null  object\n",
      " 3   order_id                       111047 non-null  object\n",
      " 4   seller_id                      111047 non-null  object\n",
      " 5   customer_id                    111047 non-null  object\n",
      " 6   order_purchase_timestamp       111047 non-null  object\n",
      "dtypes: object(7)\n",
      "memory usage: 6.8+ MB\n"
     ]
    }
   ],
   "source": [
    "# Menghapus data kosong\n",
    "product_merge = product_merge.dropna(subset=['product_category_name'])\n",
    "\n",
    "product_merge.info()"
   ]
  },
  {
   "cell_type": "code",
   "execution_count": 19,
   "metadata": {},
   "outputs": [
    {
     "data": {
      "text/html": [
       "<div>\n",
       "<style scoped>\n",
       "    .dataframe tbody tr th:only-of-type {\n",
       "        vertical-align: middle;\n",
       "    }\n",
       "\n",
       "    .dataframe tbody tr th {\n",
       "        vertical-align: top;\n",
       "    }\n",
       "\n",
       "    .dataframe thead th {\n",
       "        text-align: right;\n",
       "    }\n",
       "</style>\n",
       "<table border=\"1\" class=\"dataframe\">\n",
       "  <thead>\n",
       "    <tr style=\"text-align: right;\">\n",
       "      <th></th>\n",
       "      <th>product_id</th>\n",
       "      <th>product_category_name</th>\n",
       "      <th>product_category_name_english</th>\n",
       "      <th>order_id</th>\n",
       "      <th>seller_id</th>\n",
       "      <th>customer_id</th>\n",
       "      <th>order_purchase_timestamp</th>\n",
       "    </tr>\n",
       "  </thead>\n",
       "  <tbody>\n",
       "    <tr>\n",
       "      <th>5365</th>\n",
       "      <td>0105b5323d24fc655f73052694dbbb3a</td>\n",
       "      <td>pc_gamer</td>\n",
       "      <td>None</td>\n",
       "      <td>4821d5af4c2ac98b0f70e47c5d845520</td>\n",
       "      <td>2138ccb85b11a4ec1e37afbd1c8eda1f</td>\n",
       "      <td>ae1f2f01f136f0172bbceffa5d31613c</td>\n",
       "      <td>2017-04-24 19:57:30</td>\n",
       "    </tr>\n",
       "    <tr>\n",
       "      <th>5366</th>\n",
       "      <td>0105b5323d24fc655f73052694dbbb3a</td>\n",
       "      <td>pc_gamer</td>\n",
       "      <td>None</td>\n",
       "      <td>804e5ddab73def7d5e86b8ae6f27e83b</td>\n",
       "      <td>2138ccb85b11a4ec1e37afbd1c8eda1f</td>\n",
       "      <td>ae9d8bf13681f31ec761764094e6ab95</td>\n",
       "      <td>2017-06-15 14:51:11</td>\n",
       "    </tr>\n",
       "    <tr>\n",
       "      <th>5367</th>\n",
       "      <td>0105b5323d24fc655f73052694dbbb3a</td>\n",
       "      <td>pc_gamer</td>\n",
       "      <td>None</td>\n",
       "      <td>94f94ebc2e26aeea2aa9e8945cb9fb0c</td>\n",
       "      <td>2138ccb85b11a4ec1e37afbd1c8eda1f</td>\n",
       "      <td>e00a5ec8d72cb3c5ed58f50fb1a55cbf</td>\n",
       "      <td>2017-04-17 14:31:24</td>\n",
       "    </tr>\n",
       "    <tr>\n",
       "      <th>5368</th>\n",
       "      <td>0105b5323d24fc655f73052694dbbb3a</td>\n",
       "      <td>pc_gamer</td>\n",
       "      <td>None</td>\n",
       "      <td>d7ae3c10c3a4c7a721e64ba401ee745b</td>\n",
       "      <td>2138ccb85b11a4ec1e37afbd1c8eda1f</td>\n",
       "      <td>8622c629a0890a4ca20d1e7016e1a613</td>\n",
       "      <td>2018-02-20 14:59:40</td>\n",
       "    </tr>\n",
       "    <tr>\n",
       "      <th>5369</th>\n",
       "      <td>0105b5323d24fc655f73052694dbbb3a</td>\n",
       "      <td>pc_gamer</td>\n",
       "      <td>None</td>\n",
       "      <td>e4aac63ea6f6b75b6d91ead05207fb43</td>\n",
       "      <td>2138ccb85b11a4ec1e37afbd1c8eda1f</td>\n",
       "      <td>9aa2c4bac83761140a8703ebdf9e49bd</td>\n",
       "      <td>2017-05-25 12:51:37</td>\n",
       "    </tr>\n",
       "    <tr>\n",
       "      <th>20076</th>\n",
       "      <td>6fd83eb3e0799b775e4f946bd66657c0</td>\n",
       "      <td>portateis_cozinha_e_preparadores_de_alimentos</td>\n",
       "      <td>None</td>\n",
       "      <td>d94600e5b855ffe8db3b9bc06e21b1bd</td>\n",
       "      <td>ed8cb7b190ceb6067227478e48cf8dde</td>\n",
       "      <td>9f35486803ac72d115dedc28ef6156e1</td>\n",
       "      <td>2018-07-27 14:33:28</td>\n",
       "    </tr>\n",
       "    <tr>\n",
       "      <th>20077</th>\n",
       "      <td>6fd83eb3e0799b775e4f946bd66657c0</td>\n",
       "      <td>portateis_cozinha_e_preparadores_de_alimentos</td>\n",
       "      <td>None</td>\n",
       "      <td>d94600e5b855ffe8db3b9bc06e21b1bd</td>\n",
       "      <td>ed8cb7b190ceb6067227478e48cf8dde</td>\n",
       "      <td>9f35486803ac72d115dedc28ef6156e1</td>\n",
       "      <td>2018-07-27 14:33:28</td>\n",
       "    </tr>\n",
       "    <tr>\n",
       "      <th>25144</th>\n",
       "      <td>5d923ead886c44b86845f69e50520c3e</td>\n",
       "      <td>portateis_cozinha_e_preparadores_de_alimentos</td>\n",
       "      <td>None</td>\n",
       "      <td>b1829b9fc61d2f28d8668cd5bde29e3f</td>\n",
       "      <td>ed8cb7b190ceb6067227478e48cf8dde</td>\n",
       "      <td>bd371cfbb78aa6bd8d2ad4dc52565d8f</td>\n",
       "      <td>2018-07-20 01:38:27</td>\n",
       "    </tr>\n",
       "    <tr>\n",
       "      <th>25616</th>\n",
       "      <td>6727051471a0fc4a0e7737b57bff2549</td>\n",
       "      <td>pc_gamer</td>\n",
       "      <td>None</td>\n",
       "      <td>1d7542bb5262913fe0516f7943b69a58</td>\n",
       "      <td>1961c3e1272bfeceb05d0b78b5bbfdaf</td>\n",
       "      <td>a7bf5e6fa311950360efc620e590fa74</td>\n",
       "      <td>2018-07-28 23:32:46</td>\n",
       "    </tr>\n",
       "    <tr>\n",
       "      <th>25617</th>\n",
       "      <td>6727051471a0fc4a0e7737b57bff2549</td>\n",
       "      <td>pc_gamer</td>\n",
       "      <td>None</td>\n",
       "      <td>1d7542bb5262913fe0516f7943b69a58</td>\n",
       "      <td>1961c3e1272bfeceb05d0b78b5bbfdaf</td>\n",
       "      <td>a7bf5e6fa311950360efc620e590fa74</td>\n",
       "      <td>2018-07-28 23:32:46</td>\n",
       "    </tr>\n",
       "    <tr>\n",
       "      <th>25618</th>\n",
       "      <td>6727051471a0fc4a0e7737b57bff2549</td>\n",
       "      <td>pc_gamer</td>\n",
       "      <td>None</td>\n",
       "      <td>4a8493d781a65dfb623103a5dedf44fa</td>\n",
       "      <td>1961c3e1272bfeceb05d0b78b5bbfdaf</td>\n",
       "      <td>d721d37c2317b409cf35b0de1fd9438b</td>\n",
       "      <td>2018-08-18 22:35:15</td>\n",
       "    </tr>\n",
       "    <tr>\n",
       "      <th>29962</th>\n",
       "      <td>bed164d9d628cf0593003389c535c6e0</td>\n",
       "      <td>portateis_cozinha_e_preparadores_de_alimentos</td>\n",
       "      <td>None</td>\n",
       "      <td>542dd8c7a80f7006b56c9cbb95e6433b</td>\n",
       "      <td>ea1776927851da2532aa70d6a32c095a</td>\n",
       "      <td>416d7934b96e1c5d46b332d32ee0e356</td>\n",
       "      <td>2018-07-20 17:53:08</td>\n",
       "    </tr>\n",
       "    <tr>\n",
       "      <th>37440</th>\n",
       "      <td>1220978a08a6b29a202bc015b18250e9</td>\n",
       "      <td>portateis_cozinha_e_preparadores_de_alimentos</td>\n",
       "      <td>None</td>\n",
       "      <td>c67c6e7178cff9848b2d6556d1670fd8</td>\n",
       "      <td>ed8cb7b190ceb6067227478e48cf8dde</td>\n",
       "      <td>3237a9ea092013b7b44c0c8d5174006d</td>\n",
       "      <td>2018-07-22 13:32:50</td>\n",
       "    </tr>\n",
       "    <tr>\n",
       "      <th>48960</th>\n",
       "      <td>ae62bb0f95af63d64eae5f93dddea8d3</td>\n",
       "      <td>portateis_cozinha_e_preparadores_de_alimentos</td>\n",
       "      <td>None</td>\n",
       "      <td>a73d469a8747dea1740e9545d1051002</td>\n",
       "      <td>3296662b1331dea51e744505065ae889</td>\n",
       "      <td>fa5e5ede73e8f02fe888b6f3bd44a714</td>\n",
       "      <td>2018-08-27 12:41:49</td>\n",
       "    </tr>\n",
       "    <tr>\n",
       "      <th>55811</th>\n",
       "      <td>1954739d84629e7323a4295812a3e0ec</td>\n",
       "      <td>portateis_cozinha_e_preparadores_de_alimentos</td>\n",
       "      <td>None</td>\n",
       "      <td>8dbdb81783a3c754dc9441826510a36a</td>\n",
       "      <td>7aa538dd6e114e503a2e6154ea352253</td>\n",
       "      <td>2d0c34b4b379c290f079d39df12304e2</td>\n",
       "      <td>2018-08-10 14:54:25</td>\n",
       "    </tr>\n",
       "    <tr>\n",
       "      <th>57888</th>\n",
       "      <td>dbe520fb381ad695a7e1f2807d20c765</td>\n",
       "      <td>pc_gamer</td>\n",
       "      <td>None</td>\n",
       "      <td>2ad4df0af7a71d632dccc0129bee3268</td>\n",
       "      <td>1961c3e1272bfeceb05d0b78b5bbfdaf</td>\n",
       "      <td>915ce1e45a3b10fb61f5d32924bdb7f6</td>\n",
       "      <td>2018-07-30 12:04:19</td>\n",
       "    </tr>\n",
       "    <tr>\n",
       "      <th>60528</th>\n",
       "      <td>c7a3f1a7f9eef146cc499368b578b884</td>\n",
       "      <td>portateis_cozinha_e_preparadores_de_alimentos</td>\n",
       "      <td>None</td>\n",
       "      <td>2d3bc1f6ed458a137c51adc3cab7a488</td>\n",
       "      <td>ba90964cff9b9e0e6f32b23b82465f7b</td>\n",
       "      <td>e620a9a4cdf12ab1e817c17496e9c5d7</td>\n",
       "      <td>2018-08-06 09:21:25</td>\n",
       "    </tr>\n",
       "    <tr>\n",
       "      <th>60529</th>\n",
       "      <td>c7a3f1a7f9eef146cc499368b578b884</td>\n",
       "      <td>portateis_cozinha_e_preparadores_de_alimentos</td>\n",
       "      <td>None</td>\n",
       "      <td>7faf8b9448b66f4a3ac98a312b3e7609</td>\n",
       "      <td>ba90964cff9b9e0e6f32b23b82465f7b</td>\n",
       "      <td>c0cc59cb5d494116de580acf7e6c46ac</td>\n",
       "      <td>2018-05-08 17:18:14</td>\n",
       "    </tr>\n",
       "    <tr>\n",
       "      <th>60530</th>\n",
       "      <td>c7a3f1a7f9eef146cc499368b578b884</td>\n",
       "      <td>portateis_cozinha_e_preparadores_de_alimentos</td>\n",
       "      <td>None</td>\n",
       "      <td>a653bb2e2418fd13d746e3639879aa83</td>\n",
       "      <td>ba90964cff9b9e0e6f32b23b82465f7b</td>\n",
       "      <td>404e9aa29dd2f4f68be287245f0e1e50</td>\n",
       "      <td>2018-05-09 10:34:53</td>\n",
       "    </tr>\n",
       "    <tr>\n",
       "      <th>62995</th>\n",
       "      <td>7afdd65f79f63819ff5bee328843fa37</td>\n",
       "      <td>portateis_cozinha_e_preparadores_de_alimentos</td>\n",
       "      <td>None</td>\n",
       "      <td>53fa17c349c4b3dcbbadd8aad2eb559b</td>\n",
       "      <td>ed8cb7b190ceb6067227478e48cf8dde</td>\n",
       "      <td>de4347cfed448a35884a19949bc53087</td>\n",
       "      <td>2018-07-27 13:09:23</td>\n",
       "    </tr>\n",
       "    <tr>\n",
       "      <th>62996</th>\n",
       "      <td>7afdd65f79f63819ff5bee328843fa37</td>\n",
       "      <td>portateis_cozinha_e_preparadores_de_alimentos</td>\n",
       "      <td>None</td>\n",
       "      <td>67f38c0b9d8a42541af92de7b6a19ea5</td>\n",
       "      <td>ed8cb7b190ceb6067227478e48cf8dde</td>\n",
       "      <td>46ae9e1a0e2b936715ed2634a524f8ab</td>\n",
       "      <td>2018-07-27 16:59:35</td>\n",
       "    </tr>\n",
       "    <tr>\n",
       "      <th>62997</th>\n",
       "      <td>7afdd65f79f63819ff5bee328843fa37</td>\n",
       "      <td>portateis_cozinha_e_preparadores_de_alimentos</td>\n",
       "      <td>None</td>\n",
       "      <td>b35a771164a9defa3b4767f1b66918b1</td>\n",
       "      <td>ed8cb7b190ceb6067227478e48cf8dde</td>\n",
       "      <td>db72b1bc11dfa3a7d4dc04332a77b651</td>\n",
       "      <td>2018-07-23 00:49:15</td>\n",
       "    </tr>\n",
       "    <tr>\n",
       "      <th>91102</th>\n",
       "      <td>a4756663d007b0cd1af865754d08d968</td>\n",
       "      <td>portateis_cozinha_e_preparadores_de_alimentos</td>\n",
       "      <td>None</td>\n",
       "      <td>0745fd0c5e5bd55f752798a152b1d04b</td>\n",
       "      <td>7aa538dd6e114e503a2e6154ea352253</td>\n",
       "      <td>c24fc4f24d2c6bd64d612774f52d6a97</td>\n",
       "      <td>2018-08-17 15:45:42</td>\n",
       "    </tr>\n",
       "    <tr>\n",
       "      <th>102257</th>\n",
       "      <td>cb9d764f38ee4d0c00af64d5c388f837</td>\n",
       "      <td>portateis_cozinha_e_preparadores_de_alimentos</td>\n",
       "      <td>None</td>\n",
       "      <td>1d911134e95ec6f299e80fe19b5b88c5</td>\n",
       "      <td>ea1776927851da2532aa70d6a32c095a</td>\n",
       "      <td>4dfe57404141dbca39b1eae2ec077e78</td>\n",
       "      <td>2018-08-05 22:27:23</td>\n",
       "    </tr>\n",
       "  </tbody>\n",
       "</table>\n",
       "</div>"
      ],
      "text/plain": [
       "                              product_id  \\\n",
       "5365    0105b5323d24fc655f73052694dbbb3a   \n",
       "5366    0105b5323d24fc655f73052694dbbb3a   \n",
       "5367    0105b5323d24fc655f73052694dbbb3a   \n",
       "5368    0105b5323d24fc655f73052694dbbb3a   \n",
       "5369    0105b5323d24fc655f73052694dbbb3a   \n",
       "20076   6fd83eb3e0799b775e4f946bd66657c0   \n",
       "20077   6fd83eb3e0799b775e4f946bd66657c0   \n",
       "25144   5d923ead886c44b86845f69e50520c3e   \n",
       "25616   6727051471a0fc4a0e7737b57bff2549   \n",
       "25617   6727051471a0fc4a0e7737b57bff2549   \n",
       "25618   6727051471a0fc4a0e7737b57bff2549   \n",
       "29962   bed164d9d628cf0593003389c535c6e0   \n",
       "37440   1220978a08a6b29a202bc015b18250e9   \n",
       "48960   ae62bb0f95af63d64eae5f93dddea8d3   \n",
       "55811   1954739d84629e7323a4295812a3e0ec   \n",
       "57888   dbe520fb381ad695a7e1f2807d20c765   \n",
       "60528   c7a3f1a7f9eef146cc499368b578b884   \n",
       "60529   c7a3f1a7f9eef146cc499368b578b884   \n",
       "60530   c7a3f1a7f9eef146cc499368b578b884   \n",
       "62995   7afdd65f79f63819ff5bee328843fa37   \n",
       "62996   7afdd65f79f63819ff5bee328843fa37   \n",
       "62997   7afdd65f79f63819ff5bee328843fa37   \n",
       "91102   a4756663d007b0cd1af865754d08d968   \n",
       "102257  cb9d764f38ee4d0c00af64d5c388f837   \n",
       "\n",
       "                                product_category_name  \\\n",
       "5365                                         pc_gamer   \n",
       "5366                                         pc_gamer   \n",
       "5367                                         pc_gamer   \n",
       "5368                                         pc_gamer   \n",
       "5369                                         pc_gamer   \n",
       "20076   portateis_cozinha_e_preparadores_de_alimentos   \n",
       "20077   portateis_cozinha_e_preparadores_de_alimentos   \n",
       "25144   portateis_cozinha_e_preparadores_de_alimentos   \n",
       "25616                                        pc_gamer   \n",
       "25617                                        pc_gamer   \n",
       "25618                                        pc_gamer   \n",
       "29962   portateis_cozinha_e_preparadores_de_alimentos   \n",
       "37440   portateis_cozinha_e_preparadores_de_alimentos   \n",
       "48960   portateis_cozinha_e_preparadores_de_alimentos   \n",
       "55811   portateis_cozinha_e_preparadores_de_alimentos   \n",
       "57888                                        pc_gamer   \n",
       "60528   portateis_cozinha_e_preparadores_de_alimentos   \n",
       "60529   portateis_cozinha_e_preparadores_de_alimentos   \n",
       "60530   portateis_cozinha_e_preparadores_de_alimentos   \n",
       "62995   portateis_cozinha_e_preparadores_de_alimentos   \n",
       "62996   portateis_cozinha_e_preparadores_de_alimentos   \n",
       "62997   portateis_cozinha_e_preparadores_de_alimentos   \n",
       "91102   portateis_cozinha_e_preparadores_de_alimentos   \n",
       "102257  portateis_cozinha_e_preparadores_de_alimentos   \n",
       "\n",
       "       product_category_name_english                          order_id  \\\n",
       "5365                            None  4821d5af4c2ac98b0f70e47c5d845520   \n",
       "5366                            None  804e5ddab73def7d5e86b8ae6f27e83b   \n",
       "5367                            None  94f94ebc2e26aeea2aa9e8945cb9fb0c   \n",
       "5368                            None  d7ae3c10c3a4c7a721e64ba401ee745b   \n",
       "5369                            None  e4aac63ea6f6b75b6d91ead05207fb43   \n",
       "20076                           None  d94600e5b855ffe8db3b9bc06e21b1bd   \n",
       "20077                           None  d94600e5b855ffe8db3b9bc06e21b1bd   \n",
       "25144                           None  b1829b9fc61d2f28d8668cd5bde29e3f   \n",
       "25616                           None  1d7542bb5262913fe0516f7943b69a58   \n",
       "25617                           None  1d7542bb5262913fe0516f7943b69a58   \n",
       "25618                           None  4a8493d781a65dfb623103a5dedf44fa   \n",
       "29962                           None  542dd8c7a80f7006b56c9cbb95e6433b   \n",
       "37440                           None  c67c6e7178cff9848b2d6556d1670fd8   \n",
       "48960                           None  a73d469a8747dea1740e9545d1051002   \n",
       "55811                           None  8dbdb81783a3c754dc9441826510a36a   \n",
       "57888                           None  2ad4df0af7a71d632dccc0129bee3268   \n",
       "60528                           None  2d3bc1f6ed458a137c51adc3cab7a488   \n",
       "60529                           None  7faf8b9448b66f4a3ac98a312b3e7609   \n",
       "60530                           None  a653bb2e2418fd13d746e3639879aa83   \n",
       "62995                           None  53fa17c349c4b3dcbbadd8aad2eb559b   \n",
       "62996                           None  67f38c0b9d8a42541af92de7b6a19ea5   \n",
       "62997                           None  b35a771164a9defa3b4767f1b66918b1   \n",
       "91102                           None  0745fd0c5e5bd55f752798a152b1d04b   \n",
       "102257                          None  1d911134e95ec6f299e80fe19b5b88c5   \n",
       "\n",
       "                               seller_id                       customer_id  \\\n",
       "5365    2138ccb85b11a4ec1e37afbd1c8eda1f  ae1f2f01f136f0172bbceffa5d31613c   \n",
       "5366    2138ccb85b11a4ec1e37afbd1c8eda1f  ae9d8bf13681f31ec761764094e6ab95   \n",
       "5367    2138ccb85b11a4ec1e37afbd1c8eda1f  e00a5ec8d72cb3c5ed58f50fb1a55cbf   \n",
       "5368    2138ccb85b11a4ec1e37afbd1c8eda1f  8622c629a0890a4ca20d1e7016e1a613   \n",
       "5369    2138ccb85b11a4ec1e37afbd1c8eda1f  9aa2c4bac83761140a8703ebdf9e49bd   \n",
       "20076   ed8cb7b190ceb6067227478e48cf8dde  9f35486803ac72d115dedc28ef6156e1   \n",
       "20077   ed8cb7b190ceb6067227478e48cf8dde  9f35486803ac72d115dedc28ef6156e1   \n",
       "25144   ed8cb7b190ceb6067227478e48cf8dde  bd371cfbb78aa6bd8d2ad4dc52565d8f   \n",
       "25616   1961c3e1272bfeceb05d0b78b5bbfdaf  a7bf5e6fa311950360efc620e590fa74   \n",
       "25617   1961c3e1272bfeceb05d0b78b5bbfdaf  a7bf5e6fa311950360efc620e590fa74   \n",
       "25618   1961c3e1272bfeceb05d0b78b5bbfdaf  d721d37c2317b409cf35b0de1fd9438b   \n",
       "29962   ea1776927851da2532aa70d6a32c095a  416d7934b96e1c5d46b332d32ee0e356   \n",
       "37440   ed8cb7b190ceb6067227478e48cf8dde  3237a9ea092013b7b44c0c8d5174006d   \n",
       "48960   3296662b1331dea51e744505065ae889  fa5e5ede73e8f02fe888b6f3bd44a714   \n",
       "55811   7aa538dd6e114e503a2e6154ea352253  2d0c34b4b379c290f079d39df12304e2   \n",
       "57888   1961c3e1272bfeceb05d0b78b5bbfdaf  915ce1e45a3b10fb61f5d32924bdb7f6   \n",
       "60528   ba90964cff9b9e0e6f32b23b82465f7b  e620a9a4cdf12ab1e817c17496e9c5d7   \n",
       "60529   ba90964cff9b9e0e6f32b23b82465f7b  c0cc59cb5d494116de580acf7e6c46ac   \n",
       "60530   ba90964cff9b9e0e6f32b23b82465f7b  404e9aa29dd2f4f68be287245f0e1e50   \n",
       "62995   ed8cb7b190ceb6067227478e48cf8dde  de4347cfed448a35884a19949bc53087   \n",
       "62996   ed8cb7b190ceb6067227478e48cf8dde  46ae9e1a0e2b936715ed2634a524f8ab   \n",
       "62997   ed8cb7b190ceb6067227478e48cf8dde  db72b1bc11dfa3a7d4dc04332a77b651   \n",
       "91102   7aa538dd6e114e503a2e6154ea352253  c24fc4f24d2c6bd64d612774f52d6a97   \n",
       "102257  ea1776927851da2532aa70d6a32c095a  4dfe57404141dbca39b1eae2ec077e78   \n",
       "\n",
       "       order_purchase_timestamp  \n",
       "5365        2017-04-24 19:57:30  \n",
       "5366        2017-06-15 14:51:11  \n",
       "5367        2017-04-17 14:31:24  \n",
       "5368        2018-02-20 14:59:40  \n",
       "5369        2017-05-25 12:51:37  \n",
       "20076       2018-07-27 14:33:28  \n",
       "20077       2018-07-27 14:33:28  \n",
       "25144       2018-07-20 01:38:27  \n",
       "25616       2018-07-28 23:32:46  \n",
       "25617       2018-07-28 23:32:46  \n",
       "25618       2018-08-18 22:35:15  \n",
       "29962       2018-07-20 17:53:08  \n",
       "37440       2018-07-22 13:32:50  \n",
       "48960       2018-08-27 12:41:49  \n",
       "55811       2018-08-10 14:54:25  \n",
       "57888       2018-07-30 12:04:19  \n",
       "60528       2018-08-06 09:21:25  \n",
       "60529       2018-05-08 17:18:14  \n",
       "60530       2018-05-09 10:34:53  \n",
       "62995       2018-07-27 13:09:23  \n",
       "62996       2018-07-27 16:59:35  \n",
       "62997       2018-07-23 00:49:15  \n",
       "91102       2018-08-17 15:45:42  \n",
       "102257      2018-08-05 22:27:23  "
      ]
     },
     "execution_count": 19,
     "metadata": {},
     "output_type": "execute_result"
    }
   ],
   "source": [
    "# Handling Missing atau NaN Value pada kolom product_category_name_english\n",
    "\n",
    "product_merge[product_merge['product_category_name_english'].isna()]"
   ]
  },
  {
   "cell_type": "markdown",
   "metadata": {},
   "source": [
    "Terdapat 111047 entries setelah dilakukan penghapusan data NaN Values di kolom product_category_name. Namun, pada kolom product_category_name_english juga terdapat NaN Value."
   ]
  },
  {
   "cell_type": "markdown",
   "metadata": {},
   "source": [
    "Setelah dilihat, data NaN Values di kolom product_category_name_english berasal dari data pada kolom product_category_name yang tidak diterjemahkan, yaitu \"portateis_cozinha_e_preparadores_de_alimentos\" dan \"pc_gamer\". Maka NaN values akan diisi dengan terjemahan dari kedua kategori tersebut, yaitu \"kitchen_and_foot_preparators_portables\" dan \"pc_gamer\""
   ]
  },
  {
   "cell_type": "code",
   "execution_count": 20,
   "metadata": {},
   "outputs": [
    {
     "name": "stdout",
     "output_type": "stream",
     "text": [
      "<class 'pandas.core.frame.DataFrame'>\n",
      "Index: 111047 entries, 0 to 112649\n",
      "Data columns (total 7 columns):\n",
      " #   Column                         Non-Null Count   Dtype \n",
      "---  ------                         --------------   ----- \n",
      " 0   product_id                     111047 non-null  object\n",
      " 1   product_category_name          111047 non-null  object\n",
      " 2   product_category_name_english  111047 non-null  object\n",
      " 3   order_id                       111047 non-null  object\n",
      " 4   seller_id                      111047 non-null  object\n",
      " 5   customer_id                    111047 non-null  object\n",
      " 6   order_purchase_timestamp       111047 non-null  object\n",
      "dtypes: object(7)\n",
      "memory usage: 6.8+ MB\n"
     ]
    }
   ],
   "source": [
    "# Mengganti NaN Values pada kolom product_category_name_english\n",
    "\n",
    "ganti_value = {\n",
    "    'portateis_cozinha_e_preparadores_de_alimentos' : 'kitchen_and_foot_preparators_portables',\n",
    "    'pc_gamer' : 'pc_gamer'\n",
    "}\n",
    "\n",
    "product_merge['product_category_name_english'].fillna(product_merge['product_category_name'].map(ganti_value), inplace=True)\n",
    "product_merge.info()\n"
   ]
  },
  {
   "cell_type": "code",
   "execution_count": 21,
   "metadata": {},
   "outputs": [
    {
     "data": {
      "text/html": [
       "<div>\n",
       "<style scoped>\n",
       "    .dataframe tbody tr th:only-of-type {\n",
       "        vertical-align: middle;\n",
       "    }\n",
       "\n",
       "    .dataframe tbody tr th {\n",
       "        vertical-align: top;\n",
       "    }\n",
       "\n",
       "    .dataframe thead th {\n",
       "        text-align: right;\n",
       "    }\n",
       "</style>\n",
       "<table border=\"1\" class=\"dataframe\">\n",
       "  <thead>\n",
       "    <tr style=\"text-align: right;\">\n",
       "      <th></th>\n",
       "      <th>product_id</th>\n",
       "      <th>product_category_name_english</th>\n",
       "      <th>order_id</th>\n",
       "      <th>seller_id</th>\n",
       "      <th>customer_id</th>\n",
       "      <th>order_purchase_timestamp</th>\n",
       "    </tr>\n",
       "  </thead>\n",
       "  <tbody>\n",
       "    <tr>\n",
       "      <th>0</th>\n",
       "      <td>1e9e8ef04dbcff4541ed26657ea517e5</td>\n",
       "      <td>perfumery</td>\n",
       "      <td>e17e4f88e31525f7deef66779844ddce</td>\n",
       "      <td>5670f4db5b62c43d542e1b2d56b0cf7c</td>\n",
       "      <td>f8a3e963a310aa58b60a5b1fed5bceb5</td>\n",
       "      <td>2018-04-24 16:16:53</td>\n",
       "    </tr>\n",
       "    <tr>\n",
       "      <th>1</th>\n",
       "      <td>3aa071139cb16b67ca9e5dea641aaa2f</td>\n",
       "      <td>art</td>\n",
       "      <td>5236307716393b7114b53ee991f36956</td>\n",
       "      <td>b561927807645834b59ef0d16ba55a24</td>\n",
       "      <td>03fc97548af8f58fefc768d12b546c9c</td>\n",
       "      <td>2018-01-31 18:55:36</td>\n",
       "    </tr>\n",
       "    <tr>\n",
       "      <th>2</th>\n",
       "      <td>96bd76ec8810374ed1b65e291975717f</td>\n",
       "      <td>sports_leisure</td>\n",
       "      <td>01f66e58769f84129811d43eefd187fb</td>\n",
       "      <td>7b07b3c7487f0ea825fc6df75abd658b</td>\n",
       "      <td>e41819d1c95c12c9ce495b630eab8aee</td>\n",
       "      <td>2018-07-09 21:18:01</td>\n",
       "    </tr>\n",
       "    <tr>\n",
       "      <th>3</th>\n",
       "      <td>cef67bcfe19066a932b7673e239eb23d</td>\n",
       "      <td>baby</td>\n",
       "      <td>143d00a4f2dde4e0364ee1821577adb3</td>\n",
       "      <td>c510bc1718f0f2961eaa42a23330681a</td>\n",
       "      <td>322162b5ca010c2b059cb5224dd818b1</td>\n",
       "      <td>2018-08-03 08:55:50</td>\n",
       "    </tr>\n",
       "    <tr>\n",
       "      <th>4</th>\n",
       "      <td>9dc1a7de274444849c219cff195d0b71</td>\n",
       "      <td>housewares</td>\n",
       "      <td>86cafb8794cb99a9b1b77fc8e48fbbbb</td>\n",
       "      <td>0be8ff43f22e456b4e0371b2245e4d01</td>\n",
       "      <td>c11c31965ff02cc1d7132df8edfcbc22</td>\n",
       "      <td>2018-04-11 01:06:37</td>\n",
       "    </tr>\n",
       "  </tbody>\n",
       "</table>\n",
       "</div>"
      ],
      "text/plain": [
       "                         product_id product_category_name_english  \\\n",
       "0  1e9e8ef04dbcff4541ed26657ea517e5                     perfumery   \n",
       "1  3aa071139cb16b67ca9e5dea641aaa2f                           art   \n",
       "2  96bd76ec8810374ed1b65e291975717f                sports_leisure   \n",
       "3  cef67bcfe19066a932b7673e239eb23d                          baby   \n",
       "4  9dc1a7de274444849c219cff195d0b71                    housewares   \n",
       "\n",
       "                           order_id                         seller_id  \\\n",
       "0  e17e4f88e31525f7deef66779844ddce  5670f4db5b62c43d542e1b2d56b0cf7c   \n",
       "1  5236307716393b7114b53ee991f36956  b561927807645834b59ef0d16ba55a24   \n",
       "2  01f66e58769f84129811d43eefd187fb  7b07b3c7487f0ea825fc6df75abd658b   \n",
       "3  143d00a4f2dde4e0364ee1821577adb3  c510bc1718f0f2961eaa42a23330681a   \n",
       "4  86cafb8794cb99a9b1b77fc8e48fbbbb  0be8ff43f22e456b4e0371b2245e4d01   \n",
       "\n",
       "                        customer_id order_purchase_timestamp  \n",
       "0  f8a3e963a310aa58b60a5b1fed5bceb5      2018-04-24 16:16:53  \n",
       "1  03fc97548af8f58fefc768d12b546c9c      2018-01-31 18:55:36  \n",
       "2  e41819d1c95c12c9ce495b630eab8aee      2018-07-09 21:18:01  \n",
       "3  322162b5ca010c2b059cb5224dd818b1      2018-08-03 08:55:50  \n",
       "4  c11c31965ff02cc1d7132df8edfcbc22      2018-04-11 01:06:37  "
      ]
     },
     "execution_count": 21,
     "metadata": {},
     "output_type": "execute_result"
    }
   ],
   "source": [
    "# Menghapus kolom product_category_name karena tidak digunakan.\n",
    "product_merge.drop('product_category_name', axis=1, inplace=True)\n",
    "product_merge.head()"
   ]
  },
  {
   "cell_type": "markdown",
   "metadata": {},
   "source": [
    "Kolom product_category_name dihapus karena kolom tersebut tidak digunakan. Proses selanjutnya akan menggunakan kolom product_category_name_english."
   ]
  },
  {
   "cell_type": "code",
   "execution_count": 22,
   "metadata": {},
   "outputs": [
    {
     "data": {
      "text/plain": [
       "0         False\n",
       "1         False\n",
       "2         False\n",
       "3         False\n",
       "4         False\n",
       "          ...  \n",
       "112645     True\n",
       "112646     True\n",
       "112647     True\n",
       "112648     True\n",
       "112649    False\n",
       "Length: 111047, dtype: bool"
      ]
     },
     "execution_count": 22,
     "metadata": {},
     "output_type": "execute_result"
    }
   ],
   "source": [
    "# Handling Duplicated Data\n",
    "product_merge.duplicated(keep=False)"
   ]
  },
  {
   "cell_type": "code",
   "execution_count": 23,
   "metadata": {},
   "outputs": [
    {
     "data": {
      "text/html": [
       "<div>\n",
       "<style scoped>\n",
       "    .dataframe tbody tr th:only-of-type {\n",
       "        vertical-align: middle;\n",
       "    }\n",
       "\n",
       "    .dataframe tbody tr th {\n",
       "        vertical-align: top;\n",
       "    }\n",
       "\n",
       "    .dataframe thead th {\n",
       "        text-align: right;\n",
       "    }\n",
       "</style>\n",
       "<table border=\"1\" class=\"dataframe\">\n",
       "  <thead>\n",
       "    <tr style=\"text-align: right;\">\n",
       "      <th></th>\n",
       "      <th>product_id</th>\n",
       "      <th>product_category_name_english</th>\n",
       "      <th>order_id</th>\n",
       "      <th>seller_id</th>\n",
       "      <th>customer_id</th>\n",
       "      <th>order_purchase_timestamp</th>\n",
       "    </tr>\n",
       "  </thead>\n",
       "  <tbody>\n",
       "    <tr>\n",
       "      <th>9</th>\n",
       "      <td>2548af3e6e77a690cf3eb6368e9ab61e</td>\n",
       "      <td>furniture_decor</td>\n",
       "      <td>6ecf7023e8dd4ec8b08746c35b9fcb60</td>\n",
       "      <td>95f83f51203c626648c875dd41874c7f</td>\n",
       "      <td>181e2217f874cb5390be37f378db5e07</td>\n",
       "      <td>2017-11-24 14:22:48</td>\n",
       "    </tr>\n",
       "    <tr>\n",
       "      <th>11</th>\n",
       "      <td>2548af3e6e77a690cf3eb6368e9ab61e</td>\n",
       "      <td>furniture_decor</td>\n",
       "      <td>8ac5b235603eee2e21e36261b2df536c</td>\n",
       "      <td>95f83f51203c626648c875dd41874c7f</td>\n",
       "      <td>2ea5983ec2edde5dcba726ea64e9fadb</td>\n",
       "      <td>2017-11-27 11:26:14</td>\n",
       "    </tr>\n",
       "    <tr>\n",
       "      <th>13</th>\n",
       "      <td>2548af3e6e77a690cf3eb6368e9ab61e</td>\n",
       "      <td>furniture_decor</td>\n",
       "      <td>c5874d438cf199ea7c0f27967f6cf462</td>\n",
       "      <td>95f83f51203c626648c875dd41874c7f</td>\n",
       "      <td>014fb09b34197c57ae3c77a43d18475e</td>\n",
       "      <td>2017-11-26 14:41:13</td>\n",
       "    </tr>\n",
       "    <tr>\n",
       "      <th>14</th>\n",
       "      <td>2548af3e6e77a690cf3eb6368e9ab61e</td>\n",
       "      <td>furniture_decor</td>\n",
       "      <td>c5874d438cf199ea7c0f27967f6cf462</td>\n",
       "      <td>95f83f51203c626648c875dd41874c7f</td>\n",
       "      <td>014fb09b34197c57ae3c77a43d18475e</td>\n",
       "      <td>2017-11-26 14:41:13</td>\n",
       "    </tr>\n",
       "    <tr>\n",
       "      <th>15</th>\n",
       "      <td>2548af3e6e77a690cf3eb6368e9ab61e</td>\n",
       "      <td>furniture_decor</td>\n",
       "      <td>c5874d438cf199ea7c0f27967f6cf462</td>\n",
       "      <td>95f83f51203c626648c875dd41874c7f</td>\n",
       "      <td>014fb09b34197c57ae3c77a43d18475e</td>\n",
       "      <td>2017-11-26 14:41:13</td>\n",
       "    </tr>\n",
       "    <tr>\n",
       "      <th>...</th>\n",
       "      <td>...</td>\n",
       "      <td>...</td>\n",
       "      <td>...</td>\n",
       "      <td>...</td>\n",
       "      <td>...</td>\n",
       "      <td>...</td>\n",
       "    </tr>\n",
       "    <tr>\n",
       "      <th>112597</th>\n",
       "      <td>c4e71b64511b959455e2107fe7859020</td>\n",
       "      <td>housewares</td>\n",
       "      <td>cba21bedbcfe88bcc7e6918e9555355c</td>\n",
       "      <td>aced59e9b31ef866a94f9e7f29d8d418</td>\n",
       "      <td>24c7b4e5422cb09dd297eb1b3fc7565e</td>\n",
       "      <td>2017-11-30 15:43:15</td>\n",
       "    </tr>\n",
       "    <tr>\n",
       "      <th>112643</th>\n",
       "      <td>83808703fc0706a22e264b9d75f04a2e</td>\n",
       "      <td>computers_accessories</td>\n",
       "      <td>420937423f0cb3d3fe689330b5d385a9</td>\n",
       "      <td>4324dd16853115efb0fd9d0d131ba6f4</td>\n",
       "      <td>c17ef88b39d731163898d59a3a9b6e47</td>\n",
       "      <td>2017-10-19 09:26:47</td>\n",
       "    </tr>\n",
       "    <tr>\n",
       "      <th>112645</th>\n",
       "      <td>83808703fc0706a22e264b9d75f04a2e</td>\n",
       "      <td>computers_accessories</td>\n",
       "      <td>59e88b7d3675e89aceaf86f372d3bc9a</td>\n",
       "      <td>4324dd16853115efb0fd9d0d131ba6f4</td>\n",
       "      <td>e750210dde7e68dbd5194c0809e97f7e</td>\n",
       "      <td>2018-01-03 15:05:53</td>\n",
       "    </tr>\n",
       "    <tr>\n",
       "      <th>112647</th>\n",
       "      <td>83808703fc0706a22e264b9d75f04a2e</td>\n",
       "      <td>computers_accessories</td>\n",
       "      <td>6e4465d771f02e4fe335225de3c6c043</td>\n",
       "      <td>4324dd16853115efb0fd9d0d131ba6f4</td>\n",
       "      <td>0f139d1b208a62a37671423e5eff5016</td>\n",
       "      <td>2018-03-06 11:51:44</td>\n",
       "    </tr>\n",
       "    <tr>\n",
       "      <th>112648</th>\n",
       "      <td>83808703fc0706a22e264b9d75f04a2e</td>\n",
       "      <td>computers_accessories</td>\n",
       "      <td>6e4465d771f02e4fe335225de3c6c043</td>\n",
       "      <td>4324dd16853115efb0fd9d0d131ba6f4</td>\n",
       "      <td>0f139d1b208a62a37671423e5eff5016</td>\n",
       "      <td>2018-03-06 11:51:44</td>\n",
       "    </tr>\n",
       "  </tbody>\n",
       "</table>\n",
       "<p>10082 rows × 6 columns</p>\n",
       "</div>"
      ],
      "text/plain": [
       "                              product_id product_category_name_english  \\\n",
       "9       2548af3e6e77a690cf3eb6368e9ab61e               furniture_decor   \n",
       "11      2548af3e6e77a690cf3eb6368e9ab61e               furniture_decor   \n",
       "13      2548af3e6e77a690cf3eb6368e9ab61e               furniture_decor   \n",
       "14      2548af3e6e77a690cf3eb6368e9ab61e               furniture_decor   \n",
       "15      2548af3e6e77a690cf3eb6368e9ab61e               furniture_decor   \n",
       "...                                  ...                           ...   \n",
       "112597  c4e71b64511b959455e2107fe7859020                    housewares   \n",
       "112643  83808703fc0706a22e264b9d75f04a2e         computers_accessories   \n",
       "112645  83808703fc0706a22e264b9d75f04a2e         computers_accessories   \n",
       "112647  83808703fc0706a22e264b9d75f04a2e         computers_accessories   \n",
       "112648  83808703fc0706a22e264b9d75f04a2e         computers_accessories   \n",
       "\n",
       "                                order_id                         seller_id  \\\n",
       "9       6ecf7023e8dd4ec8b08746c35b9fcb60  95f83f51203c626648c875dd41874c7f   \n",
       "11      8ac5b235603eee2e21e36261b2df536c  95f83f51203c626648c875dd41874c7f   \n",
       "13      c5874d438cf199ea7c0f27967f6cf462  95f83f51203c626648c875dd41874c7f   \n",
       "14      c5874d438cf199ea7c0f27967f6cf462  95f83f51203c626648c875dd41874c7f   \n",
       "15      c5874d438cf199ea7c0f27967f6cf462  95f83f51203c626648c875dd41874c7f   \n",
       "...                                  ...                               ...   \n",
       "112597  cba21bedbcfe88bcc7e6918e9555355c  aced59e9b31ef866a94f9e7f29d8d418   \n",
       "112643  420937423f0cb3d3fe689330b5d385a9  4324dd16853115efb0fd9d0d131ba6f4   \n",
       "112645  59e88b7d3675e89aceaf86f372d3bc9a  4324dd16853115efb0fd9d0d131ba6f4   \n",
       "112647  6e4465d771f02e4fe335225de3c6c043  4324dd16853115efb0fd9d0d131ba6f4   \n",
       "112648  6e4465d771f02e4fe335225de3c6c043  4324dd16853115efb0fd9d0d131ba6f4   \n",
       "\n",
       "                             customer_id order_purchase_timestamp  \n",
       "9       181e2217f874cb5390be37f378db5e07      2017-11-24 14:22:48  \n",
       "11      2ea5983ec2edde5dcba726ea64e9fadb      2017-11-27 11:26:14  \n",
       "13      014fb09b34197c57ae3c77a43d18475e      2017-11-26 14:41:13  \n",
       "14      014fb09b34197c57ae3c77a43d18475e      2017-11-26 14:41:13  \n",
       "15      014fb09b34197c57ae3c77a43d18475e      2017-11-26 14:41:13  \n",
       "...                                  ...                      ...  \n",
       "112597  24c7b4e5422cb09dd297eb1b3fc7565e      2017-11-30 15:43:15  \n",
       "112643  c17ef88b39d731163898d59a3a9b6e47      2017-10-19 09:26:47  \n",
       "112645  e750210dde7e68dbd5194c0809e97f7e      2018-01-03 15:05:53  \n",
       "112647  0f139d1b208a62a37671423e5eff5016      2018-03-06 11:51:44  \n",
       "112648  0f139d1b208a62a37671423e5eff5016      2018-03-06 11:51:44  \n",
       "\n",
       "[10082 rows x 6 columns]"
      ]
     },
     "execution_count": 23,
     "metadata": {},
     "output_type": "execute_result"
    }
   ],
   "source": [
    "# Mengecek Duplicated Data\n",
    "product_merge[product_merge.duplicated()]"
   ]
  },
  {
   "cell_type": "markdown",
   "metadata": {},
   "source": [
    "Terdapat 10082 baris yang duplicated data. Namun, tidak dapat menghapus data duplikat. Hal ini dikarenakan dalam order_id,\n",
    "seorang customer dapat membeli barang yang sama dengan jumlah lebih dari satu barang."
   ]
  },
  {
   "cell_type": "code",
   "execution_count": 24,
   "metadata": {},
   "outputs": [
    {
     "name": "stdout",
     "output_type": "stream",
     "text": [
      "<class 'pandas.core.frame.DataFrame'>\n",
      "Index: 111047 entries, 0 to 112649\n",
      "Data columns (total 6 columns):\n",
      " #   Column                         Non-Null Count   Dtype \n",
      "---  ------                         --------------   ----- \n",
      " 0   product_id                     111047 non-null  object\n",
      " 1   product_category_name_english  111047 non-null  object\n",
      " 2   order_id                       111047 non-null  object\n",
      " 3   seller_id                      111047 non-null  object\n",
      " 4   customer_id                    111047 non-null  object\n",
      " 5   order_purchase_timestamp       111047 non-null  object\n",
      "dtypes: object(6)\n",
      "memory usage: 5.9+ MB\n"
     ]
    }
   ],
   "source": [
    "product_merge.info()"
   ]
  },
  {
   "cell_type": "markdown",
   "metadata": {},
   "source": [
    "### 1. Kategori produk yang banyak dipesan di Olist."
   ]
  },
  {
   "cell_type": "code",
   "execution_count": 25,
   "metadata": {},
   "outputs": [
    {
     "data": {
      "text/html": [
       "<div>\n",
       "<style scoped>\n",
       "    .dataframe tbody tr th:only-of-type {\n",
       "        vertical-align: middle;\n",
       "    }\n",
       "\n",
       "    .dataframe tbody tr th {\n",
       "        vertical-align: top;\n",
       "    }\n",
       "\n",
       "    .dataframe thead th {\n",
       "        text-align: right;\n",
       "    }\n",
       "</style>\n",
       "<table border=\"1\" class=\"dataframe\">\n",
       "  <thead>\n",
       "    <tr style=\"text-align: right;\">\n",
       "      <th></th>\n",
       "      <th>product_category_name_english</th>\n",
       "      <th>order_id</th>\n",
       "    </tr>\n",
       "  </thead>\n",
       "  <tbody>\n",
       "    <tr>\n",
       "      <th>7</th>\n",
       "      <td>bed_bath_table</td>\n",
       "      <td>11115</td>\n",
       "    </tr>\n",
       "    <tr>\n",
       "      <th>43</th>\n",
       "      <td>health_beauty</td>\n",
       "      <td>9670</td>\n",
       "    </tr>\n",
       "    <tr>\n",
       "      <th>67</th>\n",
       "      <td>sports_leisure</td>\n",
       "      <td>8641</td>\n",
       "    </tr>\n",
       "    <tr>\n",
       "      <th>39</th>\n",
       "      <td>furniture_decor</td>\n",
       "      <td>8334</td>\n",
       "    </tr>\n",
       "    <tr>\n",
       "      <th>15</th>\n",
       "      <td>computers_accessories</td>\n",
       "      <td>7827</td>\n",
       "    </tr>\n",
       "    <tr>\n",
       "      <th>49</th>\n",
       "      <td>housewares</td>\n",
       "      <td>6964</td>\n",
       "    </tr>\n",
       "    <tr>\n",
       "      <th>72</th>\n",
       "      <td>watches_gifts</td>\n",
       "      <td>5991</td>\n",
       "    </tr>\n",
       "    <tr>\n",
       "      <th>70</th>\n",
       "      <td>telephony</td>\n",
       "      <td>4545</td>\n",
       "    </tr>\n",
       "    <tr>\n",
       "      <th>42</th>\n",
       "      <td>garden_tools</td>\n",
       "      <td>4347</td>\n",
       "    </tr>\n",
       "    <tr>\n",
       "      <th>5</th>\n",
       "      <td>auto</td>\n",
       "      <td>4235</td>\n",
       "    </tr>\n",
       "  </tbody>\n",
       "</table>\n",
       "</div>"
      ],
      "text/plain": [
       "   product_category_name_english  order_id\n",
       "7                 bed_bath_table     11115\n",
       "43                 health_beauty      9670\n",
       "67                sports_leisure      8641\n",
       "39               furniture_decor      8334\n",
       "15         computers_accessories      7827\n",
       "49                    housewares      6964\n",
       "72                 watches_gifts      5991\n",
       "70                     telephony      4545\n",
       "42                  garden_tools      4347\n",
       "5                           auto      4235"
      ]
     },
     "execution_count": 25,
     "metadata": {},
     "output_type": "execute_result"
    }
   ],
   "source": [
    "group_product = product_merge.groupby(['product_category_name_english'])['order_id'].count().reset_index()\n",
    "group_product_filter = group_product.sort_values('order_id', ascending=False).head(10)\n",
    "group_product_filter.head(10)"
   ]
  },
  {
   "cell_type": "code",
   "execution_count": 26,
   "metadata": {},
   "outputs": [
    {
     "data": {
      "text/plain": [
       "7            bed bath table\n",
       "43            health beauty\n",
       "67           sports leisure\n",
       "39          furniture decor\n",
       "15    computers accessories\n",
       "49               housewares\n",
       "72            watches gifts\n",
       "70                telephony\n",
       "42             garden tools\n",
       "5                      auto\n",
       "Name: product_category_name_english, dtype: object"
      ]
     },
     "execution_count": 26,
     "metadata": {},
     "output_type": "execute_result"
    }
   ],
   "source": [
    "# Menghilangkan \"_\" pada penulisan kategori produk\n",
    "\n",
    "group_product_filter.product_category_name_english = group_product_filter.product_category_name_english.str.replace(\"_\",\" \")\n",
    "group_product_filter.product_category_name_english\n"
   ]
  },
  {
   "cell_type": "code",
   "execution_count": 27,
   "metadata": {},
   "outputs": [
    {
     "data": {
      "text/plain": [
       "[Text(0, 0.5, 'Kategori Produk')]"
      ]
     },
     "execution_count": 27,
     "metadata": {},
     "output_type": "execute_result"
    },
    {
     "data": {
      "image/png": "[encoded data removed]",
      "text/plain": [
       "<Figure size 500x1000 with 1 Axes>"
      ]
     },
     "metadata": {},
     "output_type": "display_data"
    }
   ],
   "source": [
    "# Menampilkan 10 Kategori Produk Paling Banyak Dipesan di Olist\n",
    "\n",
    "fig, ax = plt.subplots(figsize=(5, 10))\n",
    "\n",
    "ax = sns.barplot(data=group_product_filter.head(10), y='product_category_name_english', x='order_id',\n",
    "                 orient='h',\n",
    "                 order=group_product_filter.sort_values('order_id', ascending=False).product_category_name_english\n",
    "                 )\n",
    "\n",
    "for i in ax.containers:\n",
    "    ax.bar_label(i,)\n",
    "\n",
    "sns.despine()\n",
    "ax.set(title='10 Kategori Produk Paling Banyak Dipesan di Olist')\n",
    "ax.set(xlabel=None)\n",
    "ax.set(xticks=[])\n",
    "ax.set(ylabel='Kategori Produk')"
   ]
  },
  {
   "cell_type": "markdown",
   "metadata": {},
   "source": [
    "### 2. Tren Pembelian Pada Tahun 2016-2018 di Olist"
   ]
  },
  {
   "cell_type": "code",
   "execution_count": 28,
   "metadata": {},
   "outputs": [
    {
     "data": {
      "text/plain": [
       "product_id                               object\n",
       "product_category_name_english            object\n",
       "order_id                                 object\n",
       "seller_id                                object\n",
       "customer_id                              object\n",
       "order_purchase_timestamp         datetime64[ns]\n",
       "dtype: object"
      ]
     },
     "execution_count": 28,
     "metadata": {},
     "output_type": "execute_result"
    }
   ],
   "source": [
    "# Mengubah format data pada kolom order_purchase_timestamp menjadi format datetime \n",
    "product_merge.order_purchase_timestamp = pd.to_datetime(product_merge.order_purchase_timestamp, yearfirst=True)\n",
    "product_merge.dtypes\n"
   ]
  },
  {
   "cell_type": "code",
   "execution_count": 29,
   "metadata": {},
   "outputs": [
    {
     "data": {
      "text/html": [
       "<div>\n",
       "<style scoped>\n",
       "    .dataframe tbody tr th:only-of-type {\n",
       "        vertical-align: middle;\n",
       "    }\n",
       "\n",
       "    .dataframe tbody tr th {\n",
       "        vertical-align: top;\n",
       "    }\n",
       "\n",
       "    .dataframe thead th {\n",
       "        text-align: right;\n",
       "    }\n",
       "</style>\n",
       "<table border=\"1\" class=\"dataframe\">\n",
       "  <thead>\n",
       "    <tr style=\"text-align: right;\">\n",
       "      <th></th>\n",
       "      <th>product_category_name_english</th>\n",
       "      <th>order_id</th>\n",
       "    </tr>\n",
       "  </thead>\n",
       "  <tbody>\n",
       "    <tr>\n",
       "      <th>7</th>\n",
       "      <td>bed bath table</td>\n",
       "      <td>11115</td>\n",
       "    </tr>\n",
       "    <tr>\n",
       "      <th>43</th>\n",
       "      <td>health beauty</td>\n",
       "      <td>9670</td>\n",
       "    </tr>\n",
       "    <tr>\n",
       "      <th>67</th>\n",
       "      <td>sports leisure</td>\n",
       "      <td>8641</td>\n",
       "    </tr>\n",
       "    <tr>\n",
       "      <th>39</th>\n",
       "      <td>furniture decor</td>\n",
       "      <td>8334</td>\n",
       "    </tr>\n",
       "    <tr>\n",
       "      <th>15</th>\n",
       "      <td>computers accessories</td>\n",
       "      <td>7827</td>\n",
       "    </tr>\n",
       "    <tr>\n",
       "      <th>49</th>\n",
       "      <td>housewares</td>\n",
       "      <td>6964</td>\n",
       "    </tr>\n",
       "    <tr>\n",
       "      <th>72</th>\n",
       "      <td>watches gifts</td>\n",
       "      <td>5991</td>\n",
       "    </tr>\n",
       "    <tr>\n",
       "      <th>70</th>\n",
       "      <td>telephony</td>\n",
       "      <td>4545</td>\n",
       "    </tr>\n",
       "    <tr>\n",
       "      <th>42</th>\n",
       "      <td>garden tools</td>\n",
       "      <td>4347</td>\n",
       "    </tr>\n",
       "    <tr>\n",
       "      <th>5</th>\n",
       "      <td>auto</td>\n",
       "      <td>4235</td>\n",
       "    </tr>\n",
       "  </tbody>\n",
       "</table>\n",
       "</div>"
      ],
      "text/plain": [
       "   product_category_name_english  order_id\n",
       "7                 bed bath table     11115\n",
       "43                 health beauty      9670\n",
       "67                sports leisure      8641\n",
       "39               furniture decor      8334\n",
       "15         computers accessories      7827\n",
       "49                    housewares      6964\n",
       "72                 watches gifts      5991\n",
       "70                     telephony      4545\n",
       "42                  garden tools      4347\n",
       "5                           auto      4235"
      ]
     },
     "execution_count": 29,
     "metadata": {},
     "output_type": "execute_result"
    }
   ],
   "source": [
    "# Menampilkan kategori produk di Olist\n",
    "group_product_filter.head(10)"
   ]
  },
  {
   "cell_type": "code",
   "execution_count": 30,
   "metadata": {},
   "outputs": [
    {
     "data": {
      "text/html": [
       "<div>\n",
       "<style scoped>\n",
       "    .dataframe tbody tr th:only-of-type {\n",
       "        vertical-align: middle;\n",
       "    }\n",
       "\n",
       "    .dataframe tbody tr th {\n",
       "        vertical-align: top;\n",
       "    }\n",
       "\n",
       "    .dataframe thead th {\n",
       "        text-align: right;\n",
       "    }\n",
       "</style>\n",
       "<table border=\"1\" class=\"dataframe\">\n",
       "  <thead>\n",
       "    <tr style=\"text-align: right;\">\n",
       "      <th></th>\n",
       "      <th>order_purchase_timestamp_year</th>\n",
       "      <th>order_id</th>\n",
       "    </tr>\n",
       "  </thead>\n",
       "  <tbody>\n",
       "    <tr>\n",
       "      <th>0</th>\n",
       "      <td>2016</td>\n",
       "      <td>8</td>\n",
       "    </tr>\n",
       "    <tr>\n",
       "      <th>1</th>\n",
       "      <td>2017</td>\n",
       "      <td>5223</td>\n",
       "    </tr>\n",
       "    <tr>\n",
       "      <th>2</th>\n",
       "      <td>2018</td>\n",
       "      <td>5884</td>\n",
       "    </tr>\n",
       "  </tbody>\n",
       "</table>\n",
       "</div>"
      ],
      "text/plain": [
       "   order_purchase_timestamp_year  order_id\n",
       "0                           2016         8\n",
       "1                           2017      5223\n",
       "2                           2018      5884"
      ]
     },
     "execution_count": 30,
     "metadata": {},
     "output_type": "execute_result"
    }
   ],
   "source": [
    "# Menghitung jumlah penjualan kategori produk bed_bath_table\n",
    "# Melakukan parsing date pada kolom order_purchase_timestamp\n",
    "table_bed_bath_order = product_merge[product_merge.product_category_name_english == 'bed_bath_table']\n",
    "table_bed_bath_order['order_purchase_timestamp_year'] = table_bed_bath_order['order_purchase_timestamp'].dt.year\n",
    "table_bed_bath_order\n",
    "\n",
    "\n",
    "group_bed_bath = table_bed_bath_order.groupby('order_purchase_timestamp_year')['order_id'].count().reset_index()\n",
    "group_bed_bath"
   ]
  },
  {
   "cell_type": "code",
   "execution_count": 31,
   "metadata": {},
   "outputs": [
    {
     "data": {
      "text/html": [
       "<div>\n",
       "<style scoped>\n",
       "    .dataframe tbody tr th:only-of-type {\n",
       "        vertical-align: middle;\n",
       "    }\n",
       "\n",
       "    .dataframe tbody tr th {\n",
       "        vertical-align: top;\n",
       "    }\n",
       "\n",
       "    .dataframe thead th {\n",
       "        text-align: right;\n",
       "    }\n",
       "</style>\n",
       "<table border=\"1\" class=\"dataframe\">\n",
       "  <thead>\n",
       "    <tr style=\"text-align: right;\">\n",
       "      <th></th>\n",
       "      <th>order_purchase_timestamp_year</th>\n",
       "      <th>order_id</th>\n",
       "    </tr>\n",
       "  </thead>\n",
       "  <tbody>\n",
       "    <tr>\n",
       "      <th>0</th>\n",
       "      <td>2016</td>\n",
       "      <td>51</td>\n",
       "    </tr>\n",
       "    <tr>\n",
       "      <th>1</th>\n",
       "      <td>2017</td>\n",
       "      <td>3668</td>\n",
       "    </tr>\n",
       "    <tr>\n",
       "      <th>2</th>\n",
       "      <td>2018</td>\n",
       "      <td>5951</td>\n",
       "    </tr>\n",
       "  </tbody>\n",
       "</table>\n",
       "</div>"
      ],
      "text/plain": [
       "   order_purchase_timestamp_year  order_id\n",
       "0                           2016        51\n",
       "1                           2017      3668\n",
       "2                           2018      5951"
      ]
     },
     "execution_count": 31,
     "metadata": {},
     "output_type": "execute_result"
    }
   ],
   "source": [
    "# Menghitung jumlah penjualan kategori produk health_beauty\n",
    "# Melakukan parsing date pada kolom order_purchase_timestamp\n",
    "\n",
    "table_health_beauty = product_merge[product_merge.product_category_name_english == 'health_beauty']\n",
    "table_health_beauty['order_purchase_timestamp_year'] = table_health_beauty['order_purchase_timestamp'].dt.year\n",
    "table_health_beauty\n",
    "\n",
    "group_health_beauty = table_health_beauty.groupby('order_purchase_timestamp_year')['order_id'].count().reset_index()\n",
    "group_health_beauty"
   ]
  },
  {
   "cell_type": "code",
   "execution_count": 32,
   "metadata": {},
   "outputs": [
    {
     "data": {
      "text/html": [
       "<div>\n",
       "<style scoped>\n",
       "    .dataframe tbody tr th:only-of-type {\n",
       "        vertical-align: middle;\n",
       "    }\n",
       "\n",
       "    .dataframe tbody tr th {\n",
       "        vertical-align: top;\n",
       "    }\n",
       "\n",
       "    .dataframe thead th {\n",
       "        text-align: right;\n",
       "    }\n",
       "</style>\n",
       "<table border=\"1\" class=\"dataframe\">\n",
       "  <thead>\n",
       "    <tr style=\"text-align: right;\">\n",
       "      <th></th>\n",
       "      <th>order_purchase_timestamp_year</th>\n",
       "      <th>order_id</th>\n",
       "    </tr>\n",
       "  </thead>\n",
       "  <tbody>\n",
       "    <tr>\n",
       "      <th>0</th>\n",
       "      <td>2016</td>\n",
       "      <td>19</td>\n",
       "    </tr>\n",
       "    <tr>\n",
       "      <th>1</th>\n",
       "      <td>2017</td>\n",
       "      <td>4095</td>\n",
       "    </tr>\n",
       "    <tr>\n",
       "      <th>2</th>\n",
       "      <td>2018</td>\n",
       "      <td>4527</td>\n",
       "    </tr>\n",
       "  </tbody>\n",
       "</table>\n",
       "</div>"
      ],
      "text/plain": [
       "   order_purchase_timestamp_year  order_id\n",
       "0                           2016        19\n",
       "1                           2017      4095\n",
       "2                           2018      4527"
      ]
     },
     "execution_count": 32,
     "metadata": {},
     "output_type": "execute_result"
    }
   ],
   "source": [
    "# Menghitung jumlah penjualan kategori produk sport leisure\n",
    "# Melakukan parsing date pada kolom order_purchase_timestamp\n",
    "\n",
    "table_sports_leisure = product_merge[product_merge.product_category_name_english == \"sports_leisure\"]\n",
    "table_sports_leisure['order_purchase_timestamp_year'] = table_sports_leisure['order_purchase_timestamp'].dt.year\n",
    "table_sports_leisure\n",
    "\n",
    "group_sports_leisure = table_sports_leisure.groupby('order_purchase_timestamp_year')['order_id'].count().reset_index()\n",
    "group_sports_leisure"
   ]
  },
  {
   "cell_type": "code",
   "execution_count": 33,
   "metadata": {},
   "outputs": [
    {
     "data": {
      "text/html": [
       "<div>\n",
       "<style scoped>\n",
       "    .dataframe tbody tr th:only-of-type {\n",
       "        vertical-align: middle;\n",
       "    }\n",
       "\n",
       "    .dataframe tbody tr th {\n",
       "        vertical-align: top;\n",
       "    }\n",
       "\n",
       "    .dataframe thead th {\n",
       "        text-align: right;\n",
       "    }\n",
       "</style>\n",
       "<table border=\"1\" class=\"dataframe\">\n",
       "  <thead>\n",
       "    <tr style=\"text-align: right;\">\n",
       "      <th></th>\n",
       "      <th>order_purchase_timestamp_year</th>\n",
       "      <th>order_id</th>\n",
       "    </tr>\n",
       "  </thead>\n",
       "  <tbody>\n",
       "    <tr>\n",
       "      <th>0</th>\n",
       "      <td>2016</td>\n",
       "      <td>69</td>\n",
       "    </tr>\n",
       "    <tr>\n",
       "      <th>1</th>\n",
       "      <td>2017</td>\n",
       "      <td>4147</td>\n",
       "    </tr>\n",
       "    <tr>\n",
       "      <th>2</th>\n",
       "      <td>2018</td>\n",
       "      <td>4118</td>\n",
       "    </tr>\n",
       "  </tbody>\n",
       "</table>\n",
       "</div>"
      ],
      "text/plain": [
       "   order_purchase_timestamp_year  order_id\n",
       "0                           2016        69\n",
       "1                           2017      4147\n",
       "2                           2018      4118"
      ]
     },
     "execution_count": 33,
     "metadata": {},
     "output_type": "execute_result"
    }
   ],
   "source": [
    "# Menghitung jumlah penjualan furniture_decor\n",
    "# Melakukan parsing date pada kolom order_purchase_timestamp\n",
    "\n",
    "table_furniture_decor = product_merge[product_merge.product_category_name_english == \"furniture_decor\"]\n",
    "table_furniture_decor['order_purchase_timestamp_year'] = table_furniture_decor['order_purchase_timestamp'].dt.year\n",
    "table_furniture_decor\n",
    "\n",
    "group_furniture_decor = table_furniture_decor.groupby('order_purchase_timestamp_year')['order_id'].count().reset_index()\n",
    "group_furniture_decor"
   ]
  },
  {
   "cell_type": "code",
   "execution_count": 34,
   "metadata": {},
   "outputs": [
    {
     "data": {
      "text/html": [
       "<div>\n",
       "<style scoped>\n",
       "    .dataframe tbody tr th:only-of-type {\n",
       "        vertical-align: middle;\n",
       "    }\n",
       "\n",
       "    .dataframe tbody tr th {\n",
       "        vertical-align: top;\n",
       "    }\n",
       "\n",
       "    .dataframe thead th {\n",
       "        text-align: right;\n",
       "    }\n",
       "</style>\n",
       "<table border=\"1\" class=\"dataframe\">\n",
       "  <thead>\n",
       "    <tr style=\"text-align: right;\">\n",
       "      <th></th>\n",
       "      <th>order_purchase_timestamp_year</th>\n",
       "      <th>order_id</th>\n",
       "    </tr>\n",
       "  </thead>\n",
       "  <tbody>\n",
       "    <tr>\n",
       "      <th>0</th>\n",
       "      <td>2016</td>\n",
       "      <td>21</td>\n",
       "    </tr>\n",
       "    <tr>\n",
       "      <th>1</th>\n",
       "      <td>2017</td>\n",
       "      <td>3098</td>\n",
       "    </tr>\n",
       "    <tr>\n",
       "      <th>2</th>\n",
       "      <td>2018</td>\n",
       "      <td>4708</td>\n",
       "    </tr>\n",
       "  </tbody>\n",
       "</table>\n",
       "</div>"
      ],
      "text/plain": [
       "   order_purchase_timestamp_year  order_id\n",
       "0                           2016        21\n",
       "1                           2017      3098\n",
       "2                           2018      4708"
      ]
     },
     "execution_count": 34,
     "metadata": {},
     "output_type": "execute_result"
    }
   ],
   "source": [
    "# Menghitung jumlah penjualan computer_accessories\n",
    "# Melakukan parsing date pada kolom order_purchase_timestamp\n",
    "\n",
    "table_computer_access = product_merge[product_merge.product_category_name_english == \"computers_accessories\"]\n",
    "table_computer_access['order_purchase_timestamp_year'] = table_computer_access['order_purchase_timestamp'].dt.year\n",
    "table_computer_access\n",
    "\n",
    "group_computer_access = table_computer_access.groupby('order_purchase_timestamp_year')['order_id'].count().reset_index()\n",
    "group_computer_access"
   ]
  },
  {
   "cell_type": "code",
   "execution_count": 35,
   "metadata": {},
   "outputs": [
    {
     "data": {
      "text/html": [
       "<div>\n",
       "<style scoped>\n",
       "    .dataframe tbody tr th:only-of-type {\n",
       "        vertical-align: middle;\n",
       "    }\n",
       "\n",
       "    .dataframe tbody tr th {\n",
       "        vertical-align: top;\n",
       "    }\n",
       "\n",
       "    .dataframe thead th {\n",
       "        text-align: right;\n",
       "    }\n",
       "</style>\n",
       "<table border=\"1\" class=\"dataframe\">\n",
       "  <thead>\n",
       "    <tr style=\"text-align: right;\">\n",
       "      <th></th>\n",
       "      <th>order_purchase_timestamp_year</th>\n",
       "      <th>order_id</th>\n",
       "    </tr>\n",
       "  </thead>\n",
       "  <tbody>\n",
       "    <tr>\n",
       "      <th>0</th>\n",
       "      <td>2016</td>\n",
       "      <td>12</td>\n",
       "    </tr>\n",
       "    <tr>\n",
       "      <th>1</th>\n",
       "      <td>2017</td>\n",
       "      <td>2906</td>\n",
       "    </tr>\n",
       "    <tr>\n",
       "      <th>2</th>\n",
       "      <td>2018</td>\n",
       "      <td>4046</td>\n",
       "    </tr>\n",
       "  </tbody>\n",
       "</table>\n",
       "</div>"
      ],
      "text/plain": [
       "   order_purchase_timestamp_year  order_id\n",
       "0                           2016        12\n",
       "1                           2017      2906\n",
       "2                           2018      4046"
      ]
     },
     "execution_count": 35,
     "metadata": {},
     "output_type": "execute_result"
    }
   ],
   "source": [
    "# Menghitung jumlah penjualan Housewares\n",
    "# Melakukan parsing date pada kolom order_purchase_timestamp\n",
    "\n",
    "table_housewares = product_merge[product_merge.product_category_name_english == \"housewares\"]\n",
    "table_housewares['order_purchase_timestamp_year'] = table_housewares['order_purchase_timestamp'].dt.year\n",
    "table_housewares\n",
    "\n",
    "group_housewares = table_housewares.groupby('order_purchase_timestamp_year')['order_id'].count().reset_index()\n",
    "group_housewares"
   ]
  },
  {
   "cell_type": "code",
   "execution_count": 36,
   "metadata": {},
   "outputs": [
    {
     "data": {
      "text/html": [
       "<div>\n",
       "<style scoped>\n",
       "    .dataframe tbody tr th:only-of-type {\n",
       "        vertical-align: middle;\n",
       "    }\n",
       "\n",
       "    .dataframe tbody tr th {\n",
       "        vertical-align: top;\n",
       "    }\n",
       "\n",
       "    .dataframe thead th {\n",
       "        text-align: right;\n",
       "    }\n",
       "</style>\n",
       "<table border=\"1\" class=\"dataframe\">\n",
       "  <thead>\n",
       "    <tr style=\"text-align: right;\">\n",
       "      <th></th>\n",
       "      <th>order_purchase_timestamp_year</th>\n",
       "      <th>order_id</th>\n",
       "    </tr>\n",
       "  </thead>\n",
       "  <tbody>\n",
       "    <tr>\n",
       "      <th>0</th>\n",
       "      <td>2016</td>\n",
       "      <td>5</td>\n",
       "    </tr>\n",
       "    <tr>\n",
       "      <th>1</th>\n",
       "      <td>2017</td>\n",
       "      <td>2283</td>\n",
       "    </tr>\n",
       "    <tr>\n",
       "      <th>2</th>\n",
       "      <td>2018</td>\n",
       "      <td>3703</td>\n",
       "    </tr>\n",
       "  </tbody>\n",
       "</table>\n",
       "</div>"
      ],
      "text/plain": [
       "   order_purchase_timestamp_year  order_id\n",
       "0                           2016         5\n",
       "1                           2017      2283\n",
       "2                           2018      3703"
      ]
     },
     "execution_count": 36,
     "metadata": {},
     "output_type": "execute_result"
    }
   ],
   "source": [
    "# Menghitung jumlah penjualan kategori produk watches_gift\n",
    "# Melakukan parsing date pada kolom order_purchase_timestamp\n",
    "table_watches_gifts = product_merge[product_merge.product_category_name_english == 'watches_gifts']\n",
    "table_watches_gifts['order_purchase_timestamp_year'] = table_watches_gifts['order_purchase_timestamp'].dt.year\n",
    "table_watches_gifts\n",
    "\n",
    "\n",
    "group_watches_gifts = table_watches_gifts.groupby('order_purchase_timestamp_year')['order_id'].count().reset_index()\n",
    "group_watches_gifts"
   ]
  },
  {
   "cell_type": "code",
   "execution_count": 37,
   "metadata": {},
   "outputs": [
    {
     "data": {
      "text/html": [
       "<div>\n",
       "<style scoped>\n",
       "    .dataframe tbody tr th:only-of-type {\n",
       "        vertical-align: middle;\n",
       "    }\n",
       "\n",
       "    .dataframe tbody tr th {\n",
       "        vertical-align: top;\n",
       "    }\n",
       "\n",
       "    .dataframe thead th {\n",
       "        text-align: right;\n",
       "    }\n",
       "</style>\n",
       "<table border=\"1\" class=\"dataframe\">\n",
       "  <thead>\n",
       "    <tr style=\"text-align: right;\">\n",
       "      <th></th>\n",
       "      <th>order_purchase_timestamp_year</th>\n",
       "      <th>order_id</th>\n",
       "    </tr>\n",
       "  </thead>\n",
       "  <tbody>\n",
       "    <tr>\n",
       "      <th>0</th>\n",
       "      <td>2016</td>\n",
       "      <td>11</td>\n",
       "    </tr>\n",
       "    <tr>\n",
       "      <th>1</th>\n",
       "      <td>2017</td>\n",
       "      <td>2198</td>\n",
       "    </tr>\n",
       "    <tr>\n",
       "      <th>2</th>\n",
       "      <td>2018</td>\n",
       "      <td>2336</td>\n",
       "    </tr>\n",
       "  </tbody>\n",
       "</table>\n",
       "</div>"
      ],
      "text/plain": [
       "   order_purchase_timestamp_year  order_id\n",
       "0                           2016        11\n",
       "1                           2017      2198\n",
       "2                           2018      2336"
      ]
     },
     "execution_count": 37,
     "metadata": {},
     "output_type": "execute_result"
    }
   ],
   "source": [
    "# Menghitung jumlah penjualan kategori produk telephony\n",
    "# Melakukan parsing date pada kolom order_purchase_timestamp\n",
    "table_telephony = product_merge[product_merge.product_category_name_english == 'telephony']\n",
    "table_telephony['order_purchase_timestamp_year'] = table_telephony['order_purchase_timestamp'].dt.year\n",
    "table_telephony\n",
    "\n",
    "\n",
    "group_telephony = table_telephony.groupby('order_purchase_timestamp_year')['order_id'].count().reset_index()\n",
    "group_telephony"
   ]
  },
  {
   "cell_type": "code",
   "execution_count": 38,
   "metadata": {},
   "outputs": [
    {
     "data": {
      "text/html": [
       "<div>\n",
       "<style scoped>\n",
       "    .dataframe tbody tr th:only-of-type {\n",
       "        vertical-align: middle;\n",
       "    }\n",
       "\n",
       "    .dataframe tbody tr th {\n",
       "        vertical-align: top;\n",
       "    }\n",
       "\n",
       "    .dataframe thead th {\n",
       "        text-align: right;\n",
       "    }\n",
       "</style>\n",
       "<table border=\"1\" class=\"dataframe\">\n",
       "  <thead>\n",
       "    <tr style=\"text-align: right;\">\n",
       "      <th></th>\n",
       "      <th>order_purchase_timestamp_year</th>\n",
       "      <th>order_id</th>\n",
       "    </tr>\n",
       "  </thead>\n",
       "  <tbody>\n",
       "    <tr>\n",
       "      <th>0</th>\n",
       "      <td>2016</td>\n",
       "      <td>5</td>\n",
       "    </tr>\n",
       "    <tr>\n",
       "      <th>1</th>\n",
       "      <td>2017</td>\n",
       "      <td>2463</td>\n",
       "    </tr>\n",
       "    <tr>\n",
       "      <th>2</th>\n",
       "      <td>2018</td>\n",
       "      <td>1879</td>\n",
       "    </tr>\n",
       "  </tbody>\n",
       "</table>\n",
       "</div>"
      ],
      "text/plain": [
       "   order_purchase_timestamp_year  order_id\n",
       "0                           2016         5\n",
       "1                           2017      2463\n",
       "2                           2018      1879"
      ]
     },
     "execution_count": 38,
     "metadata": {},
     "output_type": "execute_result"
    }
   ],
   "source": [
    "# Menghitung jumlah penjualan kategori garden_tools\t\n",
    "# Melakukan parsing date pada kolom order_purchase_timestamp\n",
    "table_garden_tools = product_merge[product_merge.product_category_name_english == 'garden_tools']\n",
    "table_garden_tools['order_purchase_timestamp_year'] = table_garden_tools['order_purchase_timestamp'].dt.year\n",
    "table_garden_tools\n",
    "\n",
    "\n",
    "group_garden_tools = table_garden_tools.groupby('order_purchase_timestamp_year')['order_id'].count().reset_index()\n",
    "group_garden_tools"
   ]
  },
  {
   "cell_type": "code",
   "execution_count": 39,
   "metadata": {},
   "outputs": [
    {
     "data": {
      "text/html": [
       "<div>\n",
       "<style scoped>\n",
       "    .dataframe tbody tr th:only-of-type {\n",
       "        vertical-align: middle;\n",
       "    }\n",
       "\n",
       "    .dataframe tbody tr th {\n",
       "        vertical-align: top;\n",
       "    }\n",
       "\n",
       "    .dataframe thead th {\n",
       "        text-align: right;\n",
       "    }\n",
       "</style>\n",
       "<table border=\"1\" class=\"dataframe\">\n",
       "  <thead>\n",
       "    <tr style=\"text-align: right;\">\n",
       "      <th></th>\n",
       "      <th>order_purchase_timestamp_year</th>\n",
       "      <th>order_id</th>\n",
       "    </tr>\n",
       "  </thead>\n",
       "  <tbody>\n",
       "    <tr>\n",
       "      <th>0</th>\n",
       "      <td>2016</td>\n",
       "      <td>12</td>\n",
       "    </tr>\n",
       "    <tr>\n",
       "      <th>1</th>\n",
       "      <td>2017</td>\n",
       "      <td>1604</td>\n",
       "    </tr>\n",
       "    <tr>\n",
       "      <th>2</th>\n",
       "      <td>2018</td>\n",
       "      <td>2619</td>\n",
       "    </tr>\n",
       "  </tbody>\n",
       "</table>\n",
       "</div>"
      ],
      "text/plain": [
       "   order_purchase_timestamp_year  order_id\n",
       "0                           2016        12\n",
       "1                           2017      1604\n",
       "2                           2018      2619"
      ]
     },
     "execution_count": 39,
     "metadata": {},
     "output_type": "execute_result"
    }
   ],
   "source": [
    "# Menghitung jumlah penjualan kategori auto\n",
    "# Melakukan parsing date pada kolom order_purchase_timestamp\n",
    "table_auto = product_merge[product_merge.product_category_name_english == 'auto']\n",
    "table_auto['order_purchase_timestamp_year'] = table_auto['order_purchase_timestamp'].dt.year\n",
    "table_auto\n",
    "\n",
    "\n",
    "group_auto = table_auto.groupby('order_purchase_timestamp_year')['order_id'].count().reset_index()\n",
    "group_auto"
   ]
  },
  {
   "cell_type": "markdown",
   "metadata": {},
   "source": [
    "#### Pivot"
   ]
  },
  {
   "cell_type": "code",
   "execution_count": 40,
   "metadata": {},
   "outputs": [
    {
     "data": {
      "text/html": [
       "<div>\n",
       "<style scoped>\n",
       "    .dataframe tbody tr th:only-of-type {\n",
       "        vertical-align: middle;\n",
       "    }\n",
       "\n",
       "    .dataframe tbody tr th {\n",
       "        vertical-align: top;\n",
       "    }\n",
       "\n",
       "    .dataframe thead th {\n",
       "        text-align: right;\n",
       "    }\n",
       "</style>\n",
       "<table border=\"1\" class=\"dataframe\">\n",
       "  <thead>\n",
       "    <tr style=\"text-align: right;\">\n",
       "      <th></th>\n",
       "      <th>Product</th>\n",
       "      <th>Tahun</th>\n",
       "      <th>Jumlah</th>\n",
       "    </tr>\n",
       "  </thead>\n",
       "  <tbody>\n",
       "    <tr>\n",
       "      <th>0</th>\n",
       "      <td>Bed Bath Table</td>\n",
       "      <td>2016</td>\n",
       "      <td>8</td>\n",
       "    </tr>\n",
       "    <tr>\n",
       "      <th>1</th>\n",
       "      <td>Bed Bath Table</td>\n",
       "      <td>2017</td>\n",
       "      <td>5223</td>\n",
       "    </tr>\n",
       "    <tr>\n",
       "      <th>2</th>\n",
       "      <td>Bed Bath Table</td>\n",
       "      <td>2018</td>\n",
       "      <td>5884</td>\n",
       "    </tr>\n",
       "    <tr>\n",
       "      <th>3</th>\n",
       "      <td>Health Beauty</td>\n",
       "      <td>2016</td>\n",
       "      <td>51</td>\n",
       "    </tr>\n",
       "    <tr>\n",
       "      <th>4</th>\n",
       "      <td>Health Beauty</td>\n",
       "      <td>2017</td>\n",
       "      <td>3668</td>\n",
       "    </tr>\n",
       "    <tr>\n",
       "      <th>5</th>\n",
       "      <td>Health Beauty</td>\n",
       "      <td>2018</td>\n",
       "      <td>5951</td>\n",
       "    </tr>\n",
       "    <tr>\n",
       "      <th>6</th>\n",
       "      <td>Sports Leisure</td>\n",
       "      <td>2016</td>\n",
       "      <td>19</td>\n",
       "    </tr>\n",
       "    <tr>\n",
       "      <th>7</th>\n",
       "      <td>Sports Leisure</td>\n",
       "      <td>2017</td>\n",
       "      <td>4085</td>\n",
       "    </tr>\n",
       "    <tr>\n",
       "      <th>8</th>\n",
       "      <td>Sports Leisure</td>\n",
       "      <td>2018</td>\n",
       "      <td>4527</td>\n",
       "    </tr>\n",
       "    <tr>\n",
       "      <th>9</th>\n",
       "      <td>Furniture Decor</td>\n",
       "      <td>2016</td>\n",
       "      <td>69</td>\n",
       "    </tr>\n",
       "    <tr>\n",
       "      <th>10</th>\n",
       "      <td>Furniture Decor</td>\n",
       "      <td>2017</td>\n",
       "      <td>4147</td>\n",
       "    </tr>\n",
       "    <tr>\n",
       "      <th>11</th>\n",
       "      <td>Furniture Decor</td>\n",
       "      <td>2018</td>\n",
       "      <td>4118</td>\n",
       "    </tr>\n",
       "    <tr>\n",
       "      <th>12</th>\n",
       "      <td>Computers Accessories</td>\n",
       "      <td>2016</td>\n",
       "      <td>21</td>\n",
       "    </tr>\n",
       "    <tr>\n",
       "      <th>13</th>\n",
       "      <td>Computers Accessories</td>\n",
       "      <td>2017</td>\n",
       "      <td>3098</td>\n",
       "    </tr>\n",
       "    <tr>\n",
       "      <th>14</th>\n",
       "      <td>Computers Accessories</td>\n",
       "      <td>2018</td>\n",
       "      <td>4708</td>\n",
       "    </tr>\n",
       "    <tr>\n",
       "      <th>15</th>\n",
       "      <td>Housewares</td>\n",
       "      <td>2016</td>\n",
       "      <td>12</td>\n",
       "    </tr>\n",
       "    <tr>\n",
       "      <th>16</th>\n",
       "      <td>Housewares</td>\n",
       "      <td>2017</td>\n",
       "      <td>2906</td>\n",
       "    </tr>\n",
       "    <tr>\n",
       "      <th>17</th>\n",
       "      <td>Housewares</td>\n",
       "      <td>2018</td>\n",
       "      <td>4046</td>\n",
       "    </tr>\n",
       "    <tr>\n",
       "      <th>18</th>\n",
       "      <td>Watches Gift</td>\n",
       "      <td>2016</td>\n",
       "      <td>5</td>\n",
       "    </tr>\n",
       "    <tr>\n",
       "      <th>19</th>\n",
       "      <td>Watches Gift</td>\n",
       "      <td>2017</td>\n",
       "      <td>2283</td>\n",
       "    </tr>\n",
       "    <tr>\n",
       "      <th>20</th>\n",
       "      <td>Watches Gift</td>\n",
       "      <td>2018</td>\n",
       "      <td>3703</td>\n",
       "    </tr>\n",
       "    <tr>\n",
       "      <th>21</th>\n",
       "      <td>Telephony</td>\n",
       "      <td>2016</td>\n",
       "      <td>11</td>\n",
       "    </tr>\n",
       "    <tr>\n",
       "      <th>22</th>\n",
       "      <td>Telephony</td>\n",
       "      <td>2017</td>\n",
       "      <td>2198</td>\n",
       "    </tr>\n",
       "    <tr>\n",
       "      <th>23</th>\n",
       "      <td>Telephony</td>\n",
       "      <td>2018</td>\n",
       "      <td>2336</td>\n",
       "    </tr>\n",
       "    <tr>\n",
       "      <th>24</th>\n",
       "      <td>Garden Tools</td>\n",
       "      <td>2016</td>\n",
       "      <td>5</td>\n",
       "    </tr>\n",
       "    <tr>\n",
       "      <th>25</th>\n",
       "      <td>Garden Tools</td>\n",
       "      <td>2017</td>\n",
       "      <td>2463</td>\n",
       "    </tr>\n",
       "    <tr>\n",
       "      <th>26</th>\n",
       "      <td>Garden Tools</td>\n",
       "      <td>2018</td>\n",
       "      <td>1879</td>\n",
       "    </tr>\n",
       "    <tr>\n",
       "      <th>27</th>\n",
       "      <td>Auto</td>\n",
       "      <td>2016</td>\n",
       "      <td>12</td>\n",
       "    </tr>\n",
       "    <tr>\n",
       "      <th>28</th>\n",
       "      <td>Auto</td>\n",
       "      <td>2017</td>\n",
       "      <td>1604</td>\n",
       "    </tr>\n",
       "    <tr>\n",
       "      <th>29</th>\n",
       "      <td>Auto</td>\n",
       "      <td>2018</td>\n",
       "      <td>2619</td>\n",
       "    </tr>\n",
       "  </tbody>\n",
       "</table>\n",
       "</div>"
      ],
      "text/plain": [
       "                  Product Tahun  Jumlah\n",
       "0          Bed Bath Table  2016       8\n",
       "1          Bed Bath Table  2017    5223\n",
       "2          Bed Bath Table  2018    5884\n",
       "3           Health Beauty  2016      51\n",
       "4           Health Beauty  2017    3668\n",
       "5           Health Beauty  2018    5951\n",
       "6          Sports Leisure  2016      19\n",
       "7          Sports Leisure  2017    4085\n",
       "8          Sports Leisure  2018    4527\n",
       "9         Furniture Decor  2016      69\n",
       "10        Furniture Decor  2017    4147\n",
       "11        Furniture Decor  2018    4118\n",
       "12  Computers Accessories  2016      21\n",
       "13  Computers Accessories  2017    3098\n",
       "14  Computers Accessories  2018    4708\n",
       "15             Housewares  2016      12\n",
       "16             Housewares  2017    2906\n",
       "17             Housewares  2018    4046\n",
       "18           Watches Gift  2016       5\n",
       "19           Watches Gift  2017    2283\n",
       "20           Watches Gift  2018    3703\n",
       "21              Telephony  2016      11\n",
       "22              Telephony  2017    2198\n",
       "23              Telephony  2018    2336\n",
       "24           Garden Tools  2016       5\n",
       "25           Garden Tools  2017    2463\n",
       "26           Garden Tools  2018    1879\n",
       "27                   Auto  2016      12\n",
       "28                   Auto  2017    1604\n",
       "29                   Auto  2018    2619"
      ]
     },
     "execution_count": 40,
     "metadata": {},
     "output_type": "execute_result"
    }
   ],
   "source": [
    "# Menampilkan data kategori produk dalam bentuk pivot\n",
    "\n",
    "product_pivot = pd.DataFrame({\"Product\": [\"Bed Bath Table\",\"Bed Bath Table\",\"Bed Bath Table\",\n",
    "                                          \"Health Beauty\",\"Health Beauty\",\"Health Beauty\",\n",
    "                                          \"Sports Leisure\",\"Sports Leisure\",\"Sports Leisure\",\n",
    "                                          \"Furniture Decor\",\"Furniture Decor\",\"Furniture Decor\",\n",
    "                                          \"Computers Accessories\",\"Computers Accessories\",\"Computers Accessories\",\n",
    "                                          \"Housewares\",\"Housewares\",\"Housewares\",\n",
    "                                          \"Watches Gift\" , \"Watches Gift\" , \"Watches Gift\",\n",
    "                                          \"Telephony\",\"Telephony\",\"Telephony\",\n",
    "                                          \"Garden Tools\",\"Garden Tools\",\"Garden Tools\",\n",
    "                                          \"Auto\",\"Auto\",\"Auto\"\n",
    "                                          ],\n",
    "                              \"Tahun\" : [\"2016\",\"2017\",\"2018\",\n",
    "                                         \"2016\",\"2017\",\"2018\",\n",
    "                                         \"2016\",\"2017\",\"2018\",\n",
    "                                         \"2016\",\"2017\",\"2018\",\n",
    "                                         \"2016\",\"2017\",\"2018\",\n",
    "                                         \"2016\",\"2017\",\"2018\",\n",
    "                                         \"2016\",\"2017\",\"2018\",\n",
    "                                         \"2016\",\"2017\",\"2018\",\n",
    "                                         \"2016\",\"2017\",\"2018\",\n",
    "                                         \"2016\",\"2017\",\"2018\"\n",
    "                                         ],\n",
    "                              \"Jumlah\" : [8, 5223, 5884,\n",
    "                                          51, 3668, 5951,\n",
    "                                          19, 4085, 4527,\n",
    "                                          69, 4147, 4118,\n",
    "                                          21, 3098, 4708,\n",
    "                                          12, 2906, 4046,\n",
    "                                          5, 2283, 3703,\n",
    "                                          11, 2198, 2336,\n",
    "                                          5, 2463, 1879,\n",
    "                                          12, 1604, 2619\n",
    "                                          ]\n",
    "                            })\n",
    "\n",
    "product_pivot"
   ]
  },
  {
   "cell_type": "code",
   "execution_count": 41,
   "metadata": {},
   "outputs": [
    {
     "data": {
      "text/html": [
       "<div>\n",
       "<style scoped>\n",
       "    .dataframe tbody tr th:only-of-type {\n",
       "        vertical-align: middle;\n",
       "    }\n",
       "\n",
       "    .dataframe tbody tr th {\n",
       "        vertical-align: top;\n",
       "    }\n",
       "\n",
       "    .dataframe thead th {\n",
       "        text-align: right;\n",
       "    }\n",
       "</style>\n",
       "<table border=\"1\" class=\"dataframe\">\n",
       "  <thead>\n",
       "    <tr style=\"text-align: right;\">\n",
       "      <th>Tahun</th>\n",
       "      <th>Product</th>\n",
       "      <th>2016</th>\n",
       "      <th>2017</th>\n",
       "      <th>2018</th>\n",
       "      <th>All</th>\n",
       "    </tr>\n",
       "  </thead>\n",
       "  <tbody>\n",
       "    <tr>\n",
       "      <th>10</th>\n",
       "      <td>All</td>\n",
       "      <td>213</td>\n",
       "      <td>31675</td>\n",
       "      <td>39771</td>\n",
       "      <td>71659</td>\n",
       "    </tr>\n",
       "    <tr>\n",
       "      <th>1</th>\n",
       "      <td>Bed Bath Table</td>\n",
       "      <td>8</td>\n",
       "      <td>5223</td>\n",
       "      <td>5884</td>\n",
       "      <td>11115</td>\n",
       "    </tr>\n",
       "    <tr>\n",
       "      <th>5</th>\n",
       "      <td>Health Beauty</td>\n",
       "      <td>51</td>\n",
       "      <td>3668</td>\n",
       "      <td>5951</td>\n",
       "      <td>9670</td>\n",
       "    </tr>\n",
       "    <tr>\n",
       "      <th>7</th>\n",
       "      <td>Sports Leisure</td>\n",
       "      <td>19</td>\n",
       "      <td>4085</td>\n",
       "      <td>4527</td>\n",
       "      <td>8631</td>\n",
       "    </tr>\n",
       "    <tr>\n",
       "      <th>3</th>\n",
       "      <td>Furniture Decor</td>\n",
       "      <td>69</td>\n",
       "      <td>4147</td>\n",
       "      <td>4118</td>\n",
       "      <td>8334</td>\n",
       "    </tr>\n",
       "    <tr>\n",
       "      <th>2</th>\n",
       "      <td>Computers Accessories</td>\n",
       "      <td>21</td>\n",
       "      <td>3098</td>\n",
       "      <td>4708</td>\n",
       "      <td>7827</td>\n",
       "    </tr>\n",
       "    <tr>\n",
       "      <th>6</th>\n",
       "      <td>Housewares</td>\n",
       "      <td>12</td>\n",
       "      <td>2906</td>\n",
       "      <td>4046</td>\n",
       "      <td>6964</td>\n",
       "    </tr>\n",
       "    <tr>\n",
       "      <th>9</th>\n",
       "      <td>Watches Gift</td>\n",
       "      <td>5</td>\n",
       "      <td>2283</td>\n",
       "      <td>3703</td>\n",
       "      <td>5991</td>\n",
       "    </tr>\n",
       "    <tr>\n",
       "      <th>8</th>\n",
       "      <td>Telephony</td>\n",
       "      <td>11</td>\n",
       "      <td>2198</td>\n",
       "      <td>2336</td>\n",
       "      <td>4545</td>\n",
       "    </tr>\n",
       "    <tr>\n",
       "      <th>4</th>\n",
       "      <td>Garden Tools</td>\n",
       "      <td>5</td>\n",
       "      <td>2463</td>\n",
       "      <td>1879</td>\n",
       "      <td>4347</td>\n",
       "    </tr>\n",
       "    <tr>\n",
       "      <th>0</th>\n",
       "      <td>Auto</td>\n",
       "      <td>12</td>\n",
       "      <td>1604</td>\n",
       "      <td>2619</td>\n",
       "      <td>4235</td>\n",
       "    </tr>\n",
       "  </tbody>\n",
       "</table>\n",
       "</div>"
      ],
      "text/plain": [
       "Tahun                Product  2016   2017   2018    All\n",
       "10                       All   213  31675  39771  71659\n",
       "1             Bed Bath Table     8   5223   5884  11115\n",
       "5              Health Beauty    51   3668   5951   9670\n",
       "7             Sports Leisure    19   4085   4527   8631\n",
       "3            Furniture Decor    69   4147   4118   8334\n",
       "2      Computers Accessories    21   3098   4708   7827\n",
       "6                 Housewares    12   2906   4046   6964\n",
       "9               Watches Gift     5   2283   3703   5991\n",
       "8                  Telephony    11   2198   2336   4545\n",
       "4               Garden Tools     5   2463   1879   4347\n",
       "0                       Auto    12   1604   2619   4235"
      ]
     },
     "execution_count": 41,
     "metadata": {},
     "output_type": "execute_result"
    }
   ],
   "source": [
    "#Menanmpilakn kategori produk dalam bentuk pivot\n",
    "\n",
    "pd_pivot = product_pivot.pivot_table(values='Jumlah', index=['Product'], columns= ['Tahun'], aggfunc=sum, margins=True)\n",
    "pd_pivot = pd_pivot.reset_index(drop= False)\n",
    "pd_pivot = pd_pivot.sort_values('All', ascending=False)\n",
    "pd_pivot\n"
   ]
  },
  {
   "cell_type": "code",
   "execution_count": 42,
   "metadata": {},
   "outputs": [
    {
     "data": {
      "application/vnd.plotly.v1+json": {
       "config": {
        "plotlyServerURL": "https://plot.ly"
       },
       "data": [
        {
         "hovertemplate": "Product=Bed Bath Table<br>Tahun=%{x}<br>Jumlah=%{y}<extra></extra>",
         "legendgroup": "Bed Bath Table",
         "line": {
          "color": "#636efa",
          "dash": "solid"
         },
         "marker": {
          "symbol": "circle"
         },
         "mode": "lines",
         "name": "Bed Bath Table",
         "orientation": "v",
         "showlegend": true,
         "type": "scatter",
         "x": [
          "2016",
          "2017",
          "2018"
         ],
         "xaxis": "x",
         "y": [
          8,
          5223,
          5884
         ],
         "yaxis": "y"
        },
        {
         "hovertemplate": "Product=Health Beauty<br>Tahun=%{x}<br>Jumlah=%{y}<extra></extra>",
         "legendgroup": "Health Beauty",
         "line": {
          "color": "#EF553B",
          "dash": "solid"
         },
         "marker": {
          "symbol": "circle"
         },
         "mode": "lines",
         "name": "Health Beauty",
         "orientation": "v",
         "showlegend": true,
         "type": "scatter",
         "x": [
          "2016",
          "2017",
          "2018"
         ],
         "xaxis": "x",
         "y": [
          51,
          3668,
          5951
         ],
         "yaxis": "y"
        },
        {
         "hovertemplate": "Product=Sports Leisure<br>Tahun=%{x}<br>Jumlah=%{y}<extra></extra>",
         "legendgroup": "Sports Leisure",
         "line": {
          "color": "#00cc96",
          "dash": "solid"
         },
         "marker": {
          "symbol": "circle"
         },
         "mode": "lines",
         "name": "Sports Leisure",
         "orientation": "v",
         "showlegend": true,
         "type": "scatter",
         "x": [
          "2016",
          "2017",
          "2018"
         ],
         "xaxis": "x",
         "y": [
          19,
          4085,
          4527
         ],
         "yaxis": "y"
        },
        {
         "hovertemplate": "Product=Furniture Decor<br>Tahun=%{x}<br>Jumlah=%{y}<extra></extra>",
         "legendgroup": "Furniture Decor",
         "line": {
          "color": "#ab63fa",
          "dash": "solid"
         },
         "marker": {
          "symbol": "circle"
         },
         "mode": "lines",
         "name": "Furniture Decor",
         "orientation": "v",
         "showlegend": true,
         "type": "scatter",
         "x": [
          "2016",
          "2017",
          "2018"
         ],
         "xaxis": "x",
         "y": [
          69,
          4147,
          4118
         ],
         "yaxis": "y"
        },
        {
         "hovertemplate": "Product=Computers Accessories<br>Tahun=%{x}<br>Jumlah=%{y}<extra></extra>",
         "legendgroup": "Computers Accessories",
         "line": {
          "color": "#FFA15A",
          "dash": "solid"
         },
         "marker": {
          "symbol": "circle"
         },
         "mode": "lines",
         "name": "Computers Accessories",
         "orientation": "v",
         "showlegend": true,
         "type": "scatter",
         "x": [
          "2016",
          "2017",
          "2018"
         ],
         "xaxis": "x",
         "y": [
          21,
          3098,
          4708
         ],
         "yaxis": "y"
        },
        {
         "hovertemplate": "Product=Housewares<br>Tahun=%{x}<br>Jumlah=%{y}<extra></extra>",
         "legendgroup": "Housewares",
         "line": {
          "color": "#19d3f3",
          "dash": "solid"
         },
         "marker": {
          "symbol": "circle"
         },
         "mode": "lines",
         "name": "Housewares",
         "orientation": "v",
         "showlegend": true,
         "type": "scatter",
         "x": [
          "2016",
          "2017",
          "2018"
         ],
         "xaxis": "x",
         "y": [
          12,
          2906,
          4046
         ],
         "yaxis": "y"
        },
        {
         "hovertemplate": "Product=Watches Gift<br>Tahun=%{x}<br>Jumlah=%{y}<extra></extra>",
         "legendgroup": "Watches Gift",
         "line": {
          "color": "#FF6692",
          "dash": "solid"
         },
         "marker": {
          "symbol": "circle"
         },
         "mode": "lines",
         "name": "Watches Gift",
         "orientation": "v",
         "showlegend": true,
         "type": "scatter",
         "x": [
          "2016",
          "2017",
          "2018"
         ],
         "xaxis": "x",
         "y": [
          5,
          2283,
          3703
         ],
         "yaxis": "y"
        },
        {
         "hovertemplate": "Product=Telephony<br>Tahun=%{x}<br>Jumlah=%{y}<extra></extra>",
         "legendgroup": "Telephony",
         "line": {
          "color": "#B6E880",
          "dash": "solid"
         },
         "marker": {
          "symbol": "circle"
         },
         "mode": "lines",
         "name": "Telephony",
         "orientation": "v",
         "showlegend": true,
         "type": "scatter",
         "x": [
          "2016",
          "2017",
          "2018"
         ],
         "xaxis": "x",
         "y": [
          11,
          2198,
          2336
         ],
         "yaxis": "y"
        },
        {
         "hovertemplate": "Product=Garden Tools<br>Tahun=%{x}<br>Jumlah=%{y}<extra></extra>",
         "legendgroup": "Garden Tools",
         "line": {
          "color": "#FF97FF",
          "dash": "solid"
         },
         "marker": {
          "symbol": "circle"
         },
         "mode": "lines",
         "name": "Garden Tools",
         "orientation": "v",
         "showlegend": true,
         "type": "scatter",
         "x": [
          "2016",
          "2017",
          "2018"
         ],
         "xaxis": "x",
         "y": [
          5,
          2463,
          1879
         ],
         "yaxis": "y"
        },
        {
         "hovertemplate": "Product=Auto<br>Tahun=%{x}<br>Jumlah=%{y}<extra></extra>",
         "legendgroup": "Auto",
         "line": {
          "color": "#FECB52",
          "dash": "solid"
         },
         "marker": {
          "symbol": "circle"
         },
         "mode": "lines",
         "name": "Auto",
         "orientation": "v",
         "showlegend": true,
         "type": "scatter",
         "x": [
          "2016",
          "2017",
          "2018"
         ],
         "xaxis": "x",
         "y": [
          12,
          1604,
          2619
         ],
         "yaxis": "y"
        }
       ],
       "layout": {
        "legend": {
         "title": {
          "text": "Product"
         },
         "tracegroupgap": 0
        },
        "template": {
         "data": {
          "bar": [
           {
            "error_x": {
             "color": "#2a3f5f"
            },
            "error_y": {
             "color": "#2a3f5f"
            },
            "marker": {
             "line": {
              "color": "#E5ECF6",
              "width": 0.5
             },
             "pattern": {
              "fillmode": "overlay",
              "size": 10,
              "solidity": 0.2
             }
            },
            "type": "bar"
           }
          ],
          "barpolar": [
           {
            "marker": {
             "line": {
              "color": "#E5ECF6",
              "width": 0.5
             },
             "pattern": {
              "fillmode": "overlay",
              "size": 10,
              "solidity": 0.2
             }
            },
            "type": "barpolar"
           }
          ],
          "carpet": [
           {
            "aaxis": {
             "endlinecolor": "#2a3f5f",
             "gridcolor": "white",
             "linecolor": "white",
             "minorgridcolor": "white",
             "startlinecolor": "#2a3f5f"
            },
            "baxis": {
             "endlinecolor": "#2a3f5f",
             "gridcolor": "white",
             "linecolor": "white",
             "minorgridcolor": "white",
             "startlinecolor": "#2a3f5f"
            },
            "type": "carpet"
           }
          ],
          "choropleth": [
           {
            "colorbar": {
             "outlinewidth": 0,
             "ticks": ""
            },
            "type": "choropleth"
           }
          ],
          "contour": [
           {
            "colorbar": {
             "outlinewidth": 0,
             "ticks": ""
            },
            "colorscale": [
             [
              0,
              "#0d0887"
             ],
             [
              0.1111111111111111,
              "#46039f"
             ],
             [
              0.2222222222222222,
              "#7201a8"
             ],
             [
              0.3333333333333333,
              "#9c179e"
             ],
             [
              0.4444444444444444,
              "#bd3786"
             ],
             [
              0.5555555555555556,
              "#d8576b"
             ],
             [
              0.6666666666666666,
              "#ed7953"
             ],
             [
              0.7777777777777778,
              "#fb9f3a"
             ],
             [
              0.8888888888888888,
              "#fdca26"
             ],
             [
              1,
              "#f0f921"
             ]
            ],
            "type": "contour"
           }
          ],
          "contourcarpet": [
           {
            "colorbar": {
             "outlinewidth": 0,
             "ticks": ""
            },
            "type": "contourcarpet"
           }
          ],
          "heatmap": [
           {
            "colorbar": {
             "outlinewidth": 0,
             "ticks": ""
            },
            "colorscale": [
             [
              0,
              "#0d0887"
             ],
             [
              0.1111111111111111,
              "#46039f"
             ],
             [
              0.2222222222222222,
              "#7201a8"
             ],
             [
              0.3333333333333333,
              "#9c179e"
             ],
             [
              0.4444444444444444,
              "#bd3786"
             ],
             [
              0.5555555555555556,
              "#d8576b"
             ],
             [
              0.6666666666666666,
              "#ed7953"
             ],
             [
              0.7777777777777778,
              "#fb9f3a"
             ],
             [
              0.8888888888888888,
              "#fdca26"
             ],
             [
              1,
              "#f0f921"
             ]
            ],
            "type": "heatmap"
           }
          ],
          "heatmapgl": [
           {
            "colorbar": {
             "outlinewidth": 0,
             "ticks": ""
            },
            "colorscale": [
             [
              0,
              "#0d0887"
             ],
             [
              0.1111111111111111,
              "#46039f"
             ],
             [
              0.2222222222222222,
              "#7201a8"
             ],
             [
              0.3333333333333333,
              "#9c179e"
             ],
             [
              0.4444444444444444,
              "#bd3786"
             ],
             [
              0.5555555555555556,
              "#d8576b"
             ],
             [
              0.6666666666666666,
              "#ed7953"
             ],
             [
              0.7777777777777778,
              "#fb9f3a"
             ],
             [
              0.8888888888888888,
              "#fdca26"
             ],
             [
              1,
              "#f0f921"
             ]
            ],
            "type": "heatmapgl"
           }
          ],
          "histogram": [
           {
            "marker": {
             "pattern": {
              "fillmode": "overlay",
              "size": 10,
              "solidity": 0.2
             }
            },
            "type": "histogram"
           }
          ],
          "histogram2d": [
           {
            "colorbar": {
             "outlinewidth": 0,
             "ticks": ""
            },
            "colorscale": [
             [
              0,
              "#0d0887"
             ],
             [
              0.1111111111111111,
              "#46039f"
             ],
             [
              0.2222222222222222,
              "#7201a8"
             ],
             [
              0.3333333333333333,
              "#9c179e"
             ],
             [
              0.4444444444444444,
              "#bd3786"
             ],
             [
              0.5555555555555556,
              "#d8576b"
             ],
             [
              0.6666666666666666,
              "#ed7953"
             ],
             [
              0.7777777777777778,
              "#fb9f3a"
             ],
             [
              0.8888888888888888,
              "#fdca26"
             ],
             [
              1,
              "#f0f921"
             ]
            ],
            "type": "histogram2d"
           }
          ],
          "histogram2dcontour": [
           {
            "colorbar": {
             "outlinewidth": 0,
             "ticks": ""
            },
            "colorscale": [
             [
              0,
              "#0d0887"
             ],
             [
              0.1111111111111111,
              "#46039f"
             ],
             [
              0.2222222222222222,
              "#7201a8"
             ],
             [
              0.3333333333333333,
              "#9c179e"
             ],
             [
              0.4444444444444444,
              "#bd3786"
             ],
             [
              0.5555555555555556,
              "#d8576b"
             ],
             [
              0.6666666666666666,
              "#ed7953"
             ],
             [
              0.7777777777777778,
              "#fb9f3a"
             ],
             [
              0.8888888888888888,
              "#fdca26"
             ],
             [
              1,
              "#f0f921"
             ]
            ],
            "type": "histogram2dcontour"
           }
          ],
          "mesh3d": [
           {
            "colorbar": {
             "outlinewidth": 0,
             "ticks": ""
            },
            "type": "mesh3d"
           }
          ],
          "parcoords": [
           {
            "line": {
             "colorbar": {
              "outlinewidth": 0,
              "ticks": ""
             }
            },
            "type": "parcoords"
           }
          ],
          "pie": [
           {
            "automargin": true,
            "type": "pie"
           }
          ],
          "scatter": [
           {
            "fillpattern": {
             "fillmode": "overlay",
             "size": 10,
             "solidity": 0.2
            },
            "type": "scatter"
           }
          ],
          "scatter3d": [
           {
            "line": {
             "colorbar": {
              "outlinewidth": 0,
              "ticks": ""
             }
            },
            "marker": {
             "colorbar": {
              "outlinewidth": 0,
              "ticks": ""
             }
            },
            "type": "scatter3d"
           }
          ],
          "scattercarpet": [
           {
            "marker": {
             "colorbar": {
              "outlinewidth": 0,
              "ticks": ""
             }
            },
            "type": "scattercarpet"
           }
          ],
          "scattergeo": [
           {
            "marker": {
             "colorbar": {
              "outlinewidth": 0,
              "ticks": ""
             }
            },
            "type": "scattergeo"
           }
          ],
          "scattergl": [
           {
            "marker": {
             "colorbar": {
              "outlinewidth": 0,
              "ticks": ""
             }
            },
            "type": "scattergl"
           }
          ],
          "scattermapbox": [
           {
            "marker": {
             "colorbar": {
              "outlinewidth": 0,
              "ticks": ""
             }
            },
            "type": "scattermapbox"
           }
          ],
          "scatterpolar": [
           {
            "marker": {
             "colorbar": {
              "outlinewidth": 0,
              "ticks": ""
             }
            },
            "type": "scatterpolar"
           }
          ],
          "scatterpolargl": [
           {
            "marker": {
             "colorbar": {
              "outlinewidth": 0,
              "ticks": ""
             }
            },
            "type": "scatterpolargl"
           }
          ],
          "scatterternary": [
           {
            "marker": {
             "colorbar": {
              "outlinewidth": 0,
              "ticks": ""
             }
            },
            "type": "scatterternary"
           }
          ],
          "surface": [
           {
            "colorbar": {
             "outlinewidth": 0,
             "ticks": ""
            },
            "colorscale": [
             [
              0,
              "#0d0887"
             ],
             [
              0.1111111111111111,
              "#46039f"
             ],
             [
              0.2222222222222222,
              "#7201a8"
             ],
             [
              0.3333333333333333,
              "#9c179e"
             ],
             [
              0.4444444444444444,
              "#bd3786"
             ],
             [
              0.5555555555555556,
              "#d8576b"
             ],
             [
              0.6666666666666666,
              "#ed7953"
             ],
             [
              0.7777777777777778,
              "#fb9f3a"
             ],
             [
              0.8888888888888888,
              "#fdca26"
             ],
             [
              1,
              "#f0f921"
             ]
            ],
            "type": "surface"
           }
          ],
          "table": [
           {
            "cells": {
             "fill": {
              "color": "#EBF0F8"
             },
             "line": {
              "color": "white"
             }
            },
            "header": {
             "fill": {
              "color": "#C8D4E3"
             },
             "line": {
              "color": "white"
             }
            },
            "type": "table"
           }
          ]
         },
         "layout": {
          "annotationdefaults": {
           "arrowcolor": "#2a3f5f",
           "arrowhead": 0,
           "arrowwidth": 1
          },
          "autotypenumbers": "strict",
          "coloraxis": {
           "colorbar": {
            "outlinewidth": 0,
            "ticks": ""
           }
          },
          "colorscale": {
           "diverging": [
            [
             0,
             "#8e0152"
            ],
            [
             0.1,
             "#c51b7d"
            ],
            [
             0.2,
             "#de77ae"
            ],
            [
             0.3,
             "#f1b6da"
            ],
            [
             0.4,
             "#fde0ef"
            ],
            [
             0.5,
             "#f7f7f7"
            ],
            [
             0.6,
             "#e6f5d0"
            ],
            [
             0.7,
             "#b8e186"
            ],
            [
             0.8,
             "#7fbc41"
            ],
            [
             0.9,
             "#4d9221"
            ],
            [
             1,
             "#276419"
            ]
           ],
           "sequential": [
            [
             0,
             "#0d0887"
            ],
            [
             0.1111111111111111,
             "#46039f"
            ],
            [
             0.2222222222222222,
             "#7201a8"
            ],
            [
             0.3333333333333333,
             "#9c179e"
            ],
            [
             0.4444444444444444,
             "#bd3786"
            ],
            [
             0.5555555555555556,
             "#d8576b"
            ],
            [
             0.6666666666666666,
             "#ed7953"
            ],
            [
             0.7777777777777778,
             "#fb9f3a"
            ],
            [
             0.8888888888888888,
             "#fdca26"
            ],
            [
             1,
             "#f0f921"
            ]
           ],
           "sequentialminus": [
            [
             0,
             "#0d0887"
            ],
            [
             0.1111111111111111,
             "#46039f"
            ],
            [
             0.2222222222222222,
             "#7201a8"
            ],
            [
             0.3333333333333333,
             "#9c179e"
            ],
            [
             0.4444444444444444,
             "#bd3786"
            ],
            [
             0.5555555555555556,
             "#d8576b"
            ],
            [
             0.6666666666666666,
             "#ed7953"
            ],
            [
             0.7777777777777778,
             "#fb9f3a"
            ],
            [
             0.8888888888888888,
             "#fdca26"
            ],
            [
             1,
             "#f0f921"
            ]
           ]
          },
          "colorway": [
           "#636efa",
           "#EF553B",
           "#00cc96",
           "#ab63fa",
           "#FFA15A",
           "#19d3f3",
           "#FF6692",
           "#B6E880",
           "#FF97FF",
           "#FECB52"
          ],
          "font": {
           "color": "#2a3f5f"
          },
          "geo": {
           "bgcolor": "white",
           "lakecolor": "white",
           "landcolor": "#E5ECF6",
           "showlakes": true,
           "showland": true,
           "subunitcolor": "white"
          },
          "hoverlabel": {
           "align": "left"
          },
          "hovermode": "closest",
          "mapbox": {
           "style": "light"
          },
          "paper_bgcolor": "white",
          "plot_bgcolor": "#E5ECF6",
          "polar": {
           "angularaxis": {
            "gridcolor": "white",
            "linecolor": "white",
            "ticks": ""
           },
           "bgcolor": "#E5ECF6",
           "radialaxis": {
            "gridcolor": "white",
            "linecolor": "white",
            "ticks": ""
           }
          },
          "scene": {
           "xaxis": {
            "backgroundcolor": "#E5ECF6",
            "gridcolor": "white",
            "gridwidth": 2,
            "linecolor": "white",
            "showbackground": true,
            "ticks": "",
            "zerolinecolor": "white"
           },
           "yaxis": {
            "backgroundcolor": "#E5ECF6",
            "gridcolor": "white",
            "gridwidth": 2,
            "linecolor": "white",
            "showbackground": true,
            "ticks": "",
            "zerolinecolor": "white"
           },
           "zaxis": {
            "backgroundcolor": "#E5ECF6",
            "gridcolor": "white",
            "gridwidth": 2,
            "linecolor": "white",
            "showbackground": true,
            "ticks": "",
            "zerolinecolor": "white"
           }
          },
          "shapedefaults": {
           "line": {
            "color": "#2a3f5f"
           }
          },
          "ternary": {
           "aaxis": {
            "gridcolor": "white",
            "linecolor": "white",
            "ticks": ""
           },
           "baxis": {
            "gridcolor": "white",
            "linecolor": "white",
            "ticks": ""
           },
           "bgcolor": "#E5ECF6",
           "caxis": {
            "gridcolor": "white",
            "linecolor": "white",
            "ticks": ""
           }
          },
          "title": {
           "x": 0.05
          },
          "xaxis": {
           "automargin": true,
           "gridcolor": "white",
           "linecolor": "white",
           "ticks": "",
           "title": {
            "standoff": 15
           },
           "zerolinecolor": "white",
           "zerolinewidth": 2
          },
          "yaxis": {
           "automargin": true,
           "gridcolor": "white",
           "linecolor": "white",
           "ticks": "",
           "title": {
            "standoff": 15
           },
           "zerolinecolor": "white",
           "zerolinewidth": 2
          }
         }
        },
        "title": {
         "text": "Trend Penjualan Product Category (2016-2018)"
        },
        "xaxis": {
         "anchor": "y",
         "domain": [
          0,
          1
         ],
         "title": {
          "text": "Tahun"
         }
        },
        "yaxis": {
         "anchor": "x",
         "domain": [
          0,
          1
         ],
         "title": {
          "text": "Jumlah"
         }
        }
       }
      }
     },
     "metadata": {},
     "output_type": "display_data"
    }
   ],
   "source": [
    "# Menampilkan tren penjualan produk pada tahun 2016-2018\n",
    "\n",
    "fig = px.line(product_pivot, x=\"Tahun\", y=\"Jumlah\", color=\"Product\", title=\"Trend Penjualan Product Category (2016-2018)\")\n",
    "fig.show()"
   ]
  },
  {
   "cell_type": "markdown",
   "metadata": {},
   "source": [
    "### 3. Mengetahui Jumlah dan Pesebaran Pengguna Olist"
   ]
  },
  {
   "cell_type": "code",
   "execution_count": 43,
   "metadata": {},
   "outputs": [
    {
     "data": {
      "text/html": [
       "<div>\n",
       "<style scoped>\n",
       "    .dataframe tbody tr th:only-of-type {\n",
       "        vertical-align: middle;\n",
       "    }\n",
       "\n",
       "    .dataframe tbody tr th {\n",
       "        vertical-align: top;\n",
       "    }\n",
       "\n",
       "    .dataframe thead th {\n",
       "        text-align: right;\n",
       "    }\n",
       "</style>\n",
       "<table border=\"1\" class=\"dataframe\">\n",
       "  <thead>\n",
       "    <tr style=\"text-align: right;\">\n",
       "      <th></th>\n",
       "      <th>customer_id</th>\n",
       "      <th>customers_uniq_id</th>\n",
       "      <th>zip_code</th>\n",
       "      <th>customer_city</th>\n",
       "      <th>customer_state</th>\n",
       "    </tr>\n",
       "  </thead>\n",
       "  <tbody>\n",
       "    <tr>\n",
       "      <th>0</th>\n",
       "      <td>06b8999e2fba1a1fbc88172c00ba8bc7</td>\n",
       "      <td>861eff4711a542e4b93843c6dd7febb0</td>\n",
       "      <td>14409</td>\n",
       "      <td>franca</td>\n",
       "      <td>SP</td>\n",
       "    </tr>\n",
       "    <tr>\n",
       "      <th>1</th>\n",
       "      <td>18955e83d337fd6b2def6b18a428ac77</td>\n",
       "      <td>290c77bc529b7ac935b93aa66c333dc3</td>\n",
       "      <td>9790</td>\n",
       "      <td>sao bernardo do campo</td>\n",
       "      <td>SP</td>\n",
       "    </tr>\n",
       "    <tr>\n",
       "      <th>2</th>\n",
       "      <td>4e7b3e00288586ebd08712fdd0374a03</td>\n",
       "      <td>060e732b5b29e8181a18229c7b0b2b5e</td>\n",
       "      <td>1151</td>\n",
       "      <td>sao paulo</td>\n",
       "      <td>SP</td>\n",
       "    </tr>\n",
       "    <tr>\n",
       "      <th>3</th>\n",
       "      <td>b2b6027bc5c5109e529d4dc6358b12c3</td>\n",
       "      <td>259dac757896d24d7702b9acbbff3f3c</td>\n",
       "      <td>8775</td>\n",
       "      <td>mogi das cruzes</td>\n",
       "      <td>SP</td>\n",
       "    </tr>\n",
       "    <tr>\n",
       "      <th>4</th>\n",
       "      <td>4f2d8ab171c80ec8364f7c12e35b23ad</td>\n",
       "      <td>345ecd01c38d18a9036ed96c73b8d066</td>\n",
       "      <td>13056</td>\n",
       "      <td>campinas</td>\n",
       "      <td>SP</td>\n",
       "    </tr>\n",
       "    <tr>\n",
       "      <th>...</th>\n",
       "      <td>...</td>\n",
       "      <td>...</td>\n",
       "      <td>...</td>\n",
       "      <td>...</td>\n",
       "      <td>...</td>\n",
       "    </tr>\n",
       "    <tr>\n",
       "      <th>99436</th>\n",
       "      <td>17ddf5dd5d51696bb3d7c6291687be6f</td>\n",
       "      <td>1a29b476fee25c95fbafc67c5ac95cf8</td>\n",
       "      <td>3937</td>\n",
       "      <td>sao paulo</td>\n",
       "      <td>SP</td>\n",
       "    </tr>\n",
       "    <tr>\n",
       "      <th>99437</th>\n",
       "      <td>e7b71a9017aa05c9a7fd292d714858e8</td>\n",
       "      <td>d52a67c98be1cf6a5c84435bd38d095d</td>\n",
       "      <td>6764</td>\n",
       "      <td>taboao da serra</td>\n",
       "      <td>SP</td>\n",
       "    </tr>\n",
       "    <tr>\n",
       "      <th>99438</th>\n",
       "      <td>5e28dfe12db7fb50a4b2f691faecea5e</td>\n",
       "      <td>e9f50caf99f032f0bf3c55141f019d99</td>\n",
       "      <td>60115</td>\n",
       "      <td>fortaleza</td>\n",
       "      <td>CE</td>\n",
       "    </tr>\n",
       "    <tr>\n",
       "      <th>99439</th>\n",
       "      <td>56b18e2166679b8a959d72dd06da27f9</td>\n",
       "      <td>73c2643a0a458b49f58cea58833b192e</td>\n",
       "      <td>92120</td>\n",
       "      <td>canoas</td>\n",
       "      <td>RS</td>\n",
       "    </tr>\n",
       "    <tr>\n",
       "      <th>99440</th>\n",
       "      <td>274fa6071e5e17fe303b9748641082c8</td>\n",
       "      <td>84732c5050c01db9b23e19ba39899398</td>\n",
       "      <td>6703</td>\n",
       "      <td>cotia</td>\n",
       "      <td>SP</td>\n",
       "    </tr>\n",
       "  </tbody>\n",
       "</table>\n",
       "<p>99441 rows × 5 columns</p>\n",
       "</div>"
      ],
      "text/plain": [
       "                            customer_id                 customers_uniq_id  \\\n",
       "0      06b8999e2fba1a1fbc88172c00ba8bc7  861eff4711a542e4b93843c6dd7febb0   \n",
       "1      18955e83d337fd6b2def6b18a428ac77  290c77bc529b7ac935b93aa66c333dc3   \n",
       "2      4e7b3e00288586ebd08712fdd0374a03  060e732b5b29e8181a18229c7b0b2b5e   \n",
       "3      b2b6027bc5c5109e529d4dc6358b12c3  259dac757896d24d7702b9acbbff3f3c   \n",
       "4      4f2d8ab171c80ec8364f7c12e35b23ad  345ecd01c38d18a9036ed96c73b8d066   \n",
       "...                                 ...                               ...   \n",
       "99436  17ddf5dd5d51696bb3d7c6291687be6f  1a29b476fee25c95fbafc67c5ac95cf8   \n",
       "99437  e7b71a9017aa05c9a7fd292d714858e8  d52a67c98be1cf6a5c84435bd38d095d   \n",
       "99438  5e28dfe12db7fb50a4b2f691faecea5e  e9f50caf99f032f0bf3c55141f019d99   \n",
       "99439  56b18e2166679b8a959d72dd06da27f9  73c2643a0a458b49f58cea58833b192e   \n",
       "99440  274fa6071e5e17fe303b9748641082c8  84732c5050c01db9b23e19ba39899398   \n",
       "\n",
       "       zip_code          customer_city customer_state  \n",
       "0         14409                 franca             SP  \n",
       "1          9790  sao bernardo do campo             SP  \n",
       "2          1151              sao paulo             SP  \n",
       "3          8775        mogi das cruzes             SP  \n",
       "4         13056               campinas             SP  \n",
       "...         ...                    ...            ...  \n",
       "99436      3937              sao paulo             SP  \n",
       "99437      6764        taboao da serra             SP  \n",
       "99438     60115              fortaleza             CE  \n",
       "99439     92120                 canoas             RS  \n",
       "99440      6703                  cotia             SP  \n",
       "\n",
       "[99441 rows x 5 columns]"
      ]
     },
     "execution_count": 43,
     "metadata": {},
     "output_type": "execute_result"
    }
   ],
   "source": [
    "# Mengubah nama kolom customer_zip_code_prefix pada tabel olist_order_customer_dataset\n",
    "\n",
    "olistCustomer.rename(columns={\"customers_zip_code_prefix\" : \"zip_code\"}, inplace= True)\n",
    "olistCustomer\n"
   ]
  },
  {
   "cell_type": "code",
   "execution_count": 44,
   "metadata": {},
   "outputs": [
    {
     "data": {
      "text/html": [
       "<div>\n",
       "<style scoped>\n",
       "    .dataframe tbody tr th:only-of-type {\n",
       "        vertical-align: middle;\n",
       "    }\n",
       "\n",
       "    .dataframe tbody tr th {\n",
       "        vertical-align: top;\n",
       "    }\n",
       "\n",
       "    .dataframe thead th {\n",
       "        text-align: right;\n",
       "    }\n",
       "</style>\n",
       "<table border=\"1\" class=\"dataframe\">\n",
       "  <thead>\n",
       "    <tr style=\"text-align: right;\">\n",
       "      <th></th>\n",
       "      <th>zip_code</th>\n",
       "      <th>geolocation_lat</th>\n",
       "      <th>geolocation_lng</th>\n",
       "      <th>geolocation_city</th>\n",
       "      <th>geolocation_state</th>\n",
       "    </tr>\n",
       "  </thead>\n",
       "  <tbody>\n",
       "    <tr>\n",
       "      <th>0</th>\n",
       "      <td>1037</td>\n",
       "      <td>-23.545621</td>\n",
       "      <td>-46.639292</td>\n",
       "      <td>sao paulo</td>\n",
       "      <td>SP</td>\n",
       "    </tr>\n",
       "    <tr>\n",
       "      <th>1</th>\n",
       "      <td>1046</td>\n",
       "      <td>-23.546081</td>\n",
       "      <td>-46.644820</td>\n",
       "      <td>sao paulo</td>\n",
       "      <td>SP</td>\n",
       "    </tr>\n",
       "    <tr>\n",
       "      <th>2</th>\n",
       "      <td>1046</td>\n",
       "      <td>-23.546129</td>\n",
       "      <td>-46.642951</td>\n",
       "      <td>sao paulo</td>\n",
       "      <td>SP</td>\n",
       "    </tr>\n",
       "    <tr>\n",
       "      <th>3</th>\n",
       "      <td>1041</td>\n",
       "      <td>-23.544392</td>\n",
       "      <td>-46.639499</td>\n",
       "      <td>sao paulo</td>\n",
       "      <td>SP</td>\n",
       "    </tr>\n",
       "    <tr>\n",
       "      <th>4</th>\n",
       "      <td>1035</td>\n",
       "      <td>-23.541578</td>\n",
       "      <td>-46.641607</td>\n",
       "      <td>sao paulo</td>\n",
       "      <td>SP</td>\n",
       "    </tr>\n",
       "    <tr>\n",
       "      <th>...</th>\n",
       "      <td>...</td>\n",
       "      <td>...</td>\n",
       "      <td>...</td>\n",
       "      <td>...</td>\n",
       "      <td>...</td>\n",
       "    </tr>\n",
       "    <tr>\n",
       "      <th>1000158</th>\n",
       "      <td>99950</td>\n",
       "      <td>-28.068639</td>\n",
       "      <td>-52.010705</td>\n",
       "      <td>tapejara</td>\n",
       "      <td>RS</td>\n",
       "    </tr>\n",
       "    <tr>\n",
       "      <th>1000159</th>\n",
       "      <td>99900</td>\n",
       "      <td>-27.877125</td>\n",
       "      <td>-52.224882</td>\n",
       "      <td>getulio vargas</td>\n",
       "      <td>RS</td>\n",
       "    </tr>\n",
       "    <tr>\n",
       "      <th>1000160</th>\n",
       "      <td>99950</td>\n",
       "      <td>-28.071855</td>\n",
       "      <td>-52.014716</td>\n",
       "      <td>tapejara</td>\n",
       "      <td>RS</td>\n",
       "    </tr>\n",
       "    <tr>\n",
       "      <th>1000161</th>\n",
       "      <td>99980</td>\n",
       "      <td>-28.388932</td>\n",
       "      <td>-51.846871</td>\n",
       "      <td>david canabarro</td>\n",
       "      <td>RS</td>\n",
       "    </tr>\n",
       "    <tr>\n",
       "      <th>1000162</th>\n",
       "      <td>99950</td>\n",
       "      <td>-28.070104</td>\n",
       "      <td>-52.018658</td>\n",
       "      <td>tapejara</td>\n",
       "      <td>RS</td>\n",
       "    </tr>\n",
       "  </tbody>\n",
       "</table>\n",
       "<p>1000163 rows × 5 columns</p>\n",
       "</div>"
      ],
      "text/plain": [
       "         zip_code  geolocation_lat  geolocation_lng geolocation_city  \\\n",
       "0            1037       -23.545621       -46.639292        sao paulo   \n",
       "1            1046       -23.546081       -46.644820        sao paulo   \n",
       "2            1046       -23.546129       -46.642951        sao paulo   \n",
       "3            1041       -23.544392       -46.639499        sao paulo   \n",
       "4            1035       -23.541578       -46.641607        sao paulo   \n",
       "...           ...              ...              ...              ...   \n",
       "1000158     99950       -28.068639       -52.010705         tapejara   \n",
       "1000159     99900       -27.877125       -52.224882   getulio vargas   \n",
       "1000160     99950       -28.071855       -52.014716         tapejara   \n",
       "1000161     99980       -28.388932       -51.846871  david canabarro   \n",
       "1000162     99950       -28.070104       -52.018658         tapejara   \n",
       "\n",
       "        geolocation_state  \n",
       "0                      SP  \n",
       "1                      SP  \n",
       "2                      SP  \n",
       "3                      SP  \n",
       "4                      SP  \n",
       "...                   ...  \n",
       "1000158                RS  \n",
       "1000159                RS  \n",
       "1000160                RS  \n",
       "1000161                RS  \n",
       "1000162                RS  \n",
       "\n",
       "[1000163 rows x 5 columns]"
      ]
     },
     "execution_count": 44,
     "metadata": {},
     "output_type": "execute_result"
    }
   ],
   "source": [
    "# Mengubah nama kolom geolocation_zip_code_prefix pada tabel olist_geolocation_dataset\n",
    "\n",
    "olistGeolocation.rename(columns={\"geolocation_zip_code_prefix\" : \"zip_code\"}, inplace= True)\n",
    "olistGeolocation\n"
   ]
  },
  {
   "cell_type": "markdown",
   "metadata": {},
   "source": [
    "Mengubah nama kolom customer_zip_code_prefix pada tabel olist_order_customer_dataset dan kolom geolocation_zip_code_prefix pada tabel olist_geolocation_dataset menjadi \"zip_code\" untuk memudahkan dalam menggabungkan kedua tabel ini."
   ]
  },
  {
   "cell_type": "code",
   "execution_count": 45,
   "metadata": {},
   "outputs": [
    {
     "data": {
      "text/html": [
       "<div>\n",
       "<style scoped>\n",
       "    .dataframe tbody tr th:only-of-type {\n",
       "        vertical-align: middle;\n",
       "    }\n",
       "\n",
       "    .dataframe tbody tr th {\n",
       "        vertical-align: top;\n",
       "    }\n",
       "\n",
       "    .dataframe thead th {\n",
       "        text-align: right;\n",
       "    }\n",
       "</style>\n",
       "<table border=\"1\" class=\"dataframe\">\n",
       "  <thead>\n",
       "    <tr style=\"text-align: right;\">\n",
       "      <th></th>\n",
       "      <th>customer_id</th>\n",
       "      <th>customers_uniq_id</th>\n",
       "      <th>zip_code</th>\n",
       "      <th>customer_city</th>\n",
       "      <th>customer_state</th>\n",
       "      <th>geolocation_lat</th>\n",
       "      <th>geolocation_lng</th>\n",
       "      <th>geolocation_city</th>\n",
       "      <th>geolocation_state</th>\n",
       "    </tr>\n",
       "  </thead>\n",
       "  <tbody>\n",
       "    <tr>\n",
       "      <th>0</th>\n",
       "      <td>06b8999e2fba1a1fbc88172c00ba8bc7</td>\n",
       "      <td>861eff4711a542e4b93843c6dd7febb0</td>\n",
       "      <td>14409</td>\n",
       "      <td>franca</td>\n",
       "      <td>SP</td>\n",
       "      <td>-20.509897</td>\n",
       "      <td>-47.397866</td>\n",
       "      <td>franca</td>\n",
       "      <td>SP</td>\n",
       "    </tr>\n",
       "    <tr>\n",
       "      <th>1</th>\n",
       "      <td>06b8999e2fba1a1fbc88172c00ba8bc7</td>\n",
       "      <td>861eff4711a542e4b93843c6dd7febb0</td>\n",
       "      <td>14409</td>\n",
       "      <td>franca</td>\n",
       "      <td>SP</td>\n",
       "      <td>-20.497396</td>\n",
       "      <td>-47.399241</td>\n",
       "      <td>franca</td>\n",
       "      <td>SP</td>\n",
       "    </tr>\n",
       "    <tr>\n",
       "      <th>2</th>\n",
       "      <td>06b8999e2fba1a1fbc88172c00ba8bc7</td>\n",
       "      <td>861eff4711a542e4b93843c6dd7febb0</td>\n",
       "      <td>14409</td>\n",
       "      <td>franca</td>\n",
       "      <td>SP</td>\n",
       "      <td>-20.510459</td>\n",
       "      <td>-47.399553</td>\n",
       "      <td>franca</td>\n",
       "      <td>SP</td>\n",
       "    </tr>\n",
       "    <tr>\n",
       "      <th>3</th>\n",
       "      <td>06b8999e2fba1a1fbc88172c00ba8bc7</td>\n",
       "      <td>861eff4711a542e4b93843c6dd7febb0</td>\n",
       "      <td>14409</td>\n",
       "      <td>franca</td>\n",
       "      <td>SP</td>\n",
       "      <td>-20.480940</td>\n",
       "      <td>-47.394161</td>\n",
       "      <td>franca</td>\n",
       "      <td>SP</td>\n",
       "    </tr>\n",
       "    <tr>\n",
       "      <th>4</th>\n",
       "      <td>06b8999e2fba1a1fbc88172c00ba8bc7</td>\n",
       "      <td>861eff4711a542e4b93843c6dd7febb0</td>\n",
       "      <td>14409</td>\n",
       "      <td>franca</td>\n",
       "      <td>SP</td>\n",
       "      <td>-20.515413</td>\n",
       "      <td>-47.398194</td>\n",
       "      <td>franca</td>\n",
       "      <td>SP</td>\n",
       "    </tr>\n",
       "    <tr>\n",
       "      <th>...</th>\n",
       "      <td>...</td>\n",
       "      <td>...</td>\n",
       "      <td>...</td>\n",
       "      <td>...</td>\n",
       "      <td>...</td>\n",
       "      <td>...</td>\n",
       "      <td>...</td>\n",
       "      <td>...</td>\n",
       "      <td>...</td>\n",
       "    </tr>\n",
       "    <tr>\n",
       "      <th>15083450</th>\n",
       "      <td>d9110683c7a282144e9fc97660026a28</td>\n",
       "      <td>5cbfdb85ec130898108b32c50d619c39</td>\n",
       "      <td>74980</td>\n",
       "      <td>aparecida de goiania</td>\n",
       "      <td>GO</td>\n",
       "      <td>-16.821866</td>\n",
       "      <td>-49.244027</td>\n",
       "      <td>aparecida de goiania</td>\n",
       "      <td>GO</td>\n",
       "    </tr>\n",
       "    <tr>\n",
       "      <th>15083451</th>\n",
       "      <td>d9110683c7a282144e9fc97660026a28</td>\n",
       "      <td>5cbfdb85ec130898108b32c50d619c39</td>\n",
       "      <td>74980</td>\n",
       "      <td>aparecida de goiania</td>\n",
       "      <td>GO</td>\n",
       "      <td>-16.821866</td>\n",
       "      <td>-49.244027</td>\n",
       "      <td>aparecida de goiania</td>\n",
       "      <td>GO</td>\n",
       "    </tr>\n",
       "    <tr>\n",
       "      <th>15083452</th>\n",
       "      <td>d9110683c7a282144e9fc97660026a28</td>\n",
       "      <td>5cbfdb85ec130898108b32c50d619c39</td>\n",
       "      <td>74980</td>\n",
       "      <td>aparecida de goiania</td>\n",
       "      <td>GO</td>\n",
       "      <td>-16.822945</td>\n",
       "      <td>-49.244615</td>\n",
       "      <td>aparecida de goiania</td>\n",
       "      <td>GO</td>\n",
       "    </tr>\n",
       "    <tr>\n",
       "      <th>15083453</th>\n",
       "      <td>6fb4f2354f36e554ac80141e9128f528</td>\n",
       "      <td>3cc6f2e1b9199837fabb35ff4bf24884</td>\n",
       "      <td>99043</td>\n",
       "      <td>passo fundo</td>\n",
       "      <td>RS</td>\n",
       "      <td>-28.226596</td>\n",
       "      <td>-52.467505</td>\n",
       "      <td>passo fundo</td>\n",
       "      <td>RS</td>\n",
       "    </tr>\n",
       "    <tr>\n",
       "      <th>15083454</th>\n",
       "      <td>6fb4f2354f36e554ac80141e9128f528</td>\n",
       "      <td>3cc6f2e1b9199837fabb35ff4bf24884</td>\n",
       "      <td>99043</td>\n",
       "      <td>passo fundo</td>\n",
       "      <td>RS</td>\n",
       "      <td>-28.226596</td>\n",
       "      <td>-52.467505</td>\n",
       "      <td>passo fundo</td>\n",
       "      <td>RS</td>\n",
       "    </tr>\n",
       "  </tbody>\n",
       "</table>\n",
       "<p>15083455 rows × 9 columns</p>\n",
       "</div>"
      ],
      "text/plain": [
       "                               customer_id                 customers_uniq_id  \\\n",
       "0         06b8999e2fba1a1fbc88172c00ba8bc7  861eff4711a542e4b93843c6dd7febb0   \n",
       "1         06b8999e2fba1a1fbc88172c00ba8bc7  861eff4711a542e4b93843c6dd7febb0   \n",
       "2         06b8999e2fba1a1fbc88172c00ba8bc7  861eff4711a542e4b93843c6dd7febb0   \n",
       "3         06b8999e2fba1a1fbc88172c00ba8bc7  861eff4711a542e4b93843c6dd7febb0   \n",
       "4         06b8999e2fba1a1fbc88172c00ba8bc7  861eff4711a542e4b93843c6dd7febb0   \n",
       "...                                    ...                               ...   \n",
       "15083450  d9110683c7a282144e9fc97660026a28  5cbfdb85ec130898108b32c50d619c39   \n",
       "15083451  d9110683c7a282144e9fc97660026a28  5cbfdb85ec130898108b32c50d619c39   \n",
       "15083452  d9110683c7a282144e9fc97660026a28  5cbfdb85ec130898108b32c50d619c39   \n",
       "15083453  6fb4f2354f36e554ac80141e9128f528  3cc6f2e1b9199837fabb35ff4bf24884   \n",
       "15083454  6fb4f2354f36e554ac80141e9128f528  3cc6f2e1b9199837fabb35ff4bf24884   \n",
       "\n",
       "          zip_code         customer_city customer_state  geolocation_lat  \\\n",
       "0            14409                franca             SP       -20.509897   \n",
       "1            14409                franca             SP       -20.497396   \n",
       "2            14409                franca             SP       -20.510459   \n",
       "3            14409                franca             SP       -20.480940   \n",
       "4            14409                franca             SP       -20.515413   \n",
       "...            ...                   ...            ...              ...   \n",
       "15083450     74980  aparecida de goiania             GO       -16.821866   \n",
       "15083451     74980  aparecida de goiania             GO       -16.821866   \n",
       "15083452     74980  aparecida de goiania             GO       -16.822945   \n",
       "15083453     99043           passo fundo             RS       -28.226596   \n",
       "15083454     99043           passo fundo             RS       -28.226596   \n",
       "\n",
       "          geolocation_lng      geolocation_city geolocation_state  \n",
       "0              -47.397866                franca                SP  \n",
       "1              -47.399241                franca                SP  \n",
       "2              -47.399553                franca                SP  \n",
       "3              -47.394161                franca                SP  \n",
       "4              -47.398194                franca                SP  \n",
       "...                   ...                   ...               ...  \n",
       "15083450       -49.244027  aparecida de goiania                GO  \n",
       "15083451       -49.244027  aparecida de goiania                GO  \n",
       "15083452       -49.244615  aparecida de goiania                GO  \n",
       "15083453       -52.467505           passo fundo                RS  \n",
       "15083454       -52.467505           passo fundo                RS  \n",
       "\n",
       "[15083455 rows x 9 columns]"
      ]
     },
     "execution_count": 45,
     "metadata": {},
     "output_type": "execute_result"
    }
   ],
   "source": [
    "# Menggabungkan tabel  olist_order_customer_dataset (OlistCustomer) dan tabel olist_geolocation_dataset (OlistGeolocation) \n",
    "\n",
    "cust_merge=pd.merge(olistCustomer,olistGeolocation, on=\"zip_code\")\n",
    "cust_merge\n"
   ]
  },
  {
   "cell_type": "code",
   "execution_count": 46,
   "metadata": {},
   "outputs": [
    {
     "data": {
      "text/plain": [
       "customer_id          0\n",
       "customers_uniq_id    0\n",
       "zip_code             0\n",
       "customer_city        0\n",
       "customer_state       0\n",
       "geolocation_lat      0\n",
       "geolocation_lng      0\n",
       "geolocation_city     0\n",
       "geolocation_state    0\n",
       "dtype: int64"
      ]
     },
     "execution_count": 46,
     "metadata": {},
     "output_type": "execute_result"
    }
   ],
   "source": [
    "# Handling Missing Values/ NaN\n",
    "cust_merge.isna().sum()"
   ]
  },
  {
   "cell_type": "code",
   "execution_count": 47,
   "metadata": {},
   "outputs": [
    {
     "data": {
      "text/html": [
       "<div>\n",
       "<style scoped>\n",
       "    .dataframe tbody tr th:only-of-type {\n",
       "        vertical-align: middle;\n",
       "    }\n",
       "\n",
       "    .dataframe tbody tr th {\n",
       "        vertical-align: top;\n",
       "    }\n",
       "\n",
       "    .dataframe thead th {\n",
       "        text-align: right;\n",
       "    }\n",
       "</style>\n",
       "<table border=\"1\" class=\"dataframe\">\n",
       "  <thead>\n",
       "    <tr style=\"text-align: right;\">\n",
       "      <th></th>\n",
       "      <th>customer_id</th>\n",
       "      <th>customers_uniq_id</th>\n",
       "      <th>zip_code</th>\n",
       "      <th>customer_city</th>\n",
       "      <th>customer_state</th>\n",
       "      <th>geolocation_lat</th>\n",
       "      <th>geolocation_lng</th>\n",
       "      <th>geolocation_city</th>\n",
       "      <th>geolocation_state</th>\n",
       "    </tr>\n",
       "  </thead>\n",
       "  <tbody>\n",
       "    <tr>\n",
       "      <th>2</th>\n",
       "      <td>06b8999e2fba1a1fbc88172c00ba8bc7</td>\n",
       "      <td>861eff4711a542e4b93843c6dd7febb0</td>\n",
       "      <td>14409</td>\n",
       "      <td>franca</td>\n",
       "      <td>SP</td>\n",
       "      <td>-20.510459</td>\n",
       "      <td>-47.399553</td>\n",
       "      <td>franca</td>\n",
       "      <td>SP</td>\n",
       "    </tr>\n",
       "    <tr>\n",
       "      <th>5</th>\n",
       "      <td>06b8999e2fba1a1fbc88172c00ba8bc7</td>\n",
       "      <td>861eff4711a542e4b93843c6dd7febb0</td>\n",
       "      <td>14409</td>\n",
       "      <td>franca</td>\n",
       "      <td>SP</td>\n",
       "      <td>-20.513713</td>\n",
       "      <td>-47.396644</td>\n",
       "      <td>franca</td>\n",
       "      <td>SP</td>\n",
       "    </tr>\n",
       "    <tr>\n",
       "      <th>8</th>\n",
       "      <td>06b8999e2fba1a1fbc88172c00ba8bc7</td>\n",
       "      <td>861eff4711a542e4b93843c6dd7febb0</td>\n",
       "      <td>14409</td>\n",
       "      <td>franca</td>\n",
       "      <td>SP</td>\n",
       "      <td>-20.497904</td>\n",
       "      <td>-47.405578</td>\n",
       "      <td>franca</td>\n",
       "      <td>SP</td>\n",
       "    </tr>\n",
       "    <tr>\n",
       "      <th>9</th>\n",
       "      <td>06b8999e2fba1a1fbc88172c00ba8bc7</td>\n",
       "      <td>861eff4711a542e4b93843c6dd7febb0</td>\n",
       "      <td>14409</td>\n",
       "      <td>franca</td>\n",
       "      <td>SP</td>\n",
       "      <td>-20.513713</td>\n",
       "      <td>-47.396644</td>\n",
       "      <td>franca</td>\n",
       "      <td>SP</td>\n",
       "    </tr>\n",
       "    <tr>\n",
       "      <th>20</th>\n",
       "      <td>06b8999e2fba1a1fbc88172c00ba8bc7</td>\n",
       "      <td>861eff4711a542e4b93843c6dd7febb0</td>\n",
       "      <td>14409</td>\n",
       "      <td>franca</td>\n",
       "      <td>SP</td>\n",
       "      <td>-20.509692</td>\n",
       "      <td>-47.390810</td>\n",
       "      <td>franca</td>\n",
       "      <td>SP</td>\n",
       "    </tr>\n",
       "    <tr>\n",
       "      <th>...</th>\n",
       "      <td>...</td>\n",
       "      <td>...</td>\n",
       "      <td>...</td>\n",
       "      <td>...</td>\n",
       "      <td>...</td>\n",
       "      <td>...</td>\n",
       "      <td>...</td>\n",
       "      <td>...</td>\n",
       "      <td>...</td>\n",
       "    </tr>\n",
       "    <tr>\n",
       "      <th>15083450</th>\n",
       "      <td>d9110683c7a282144e9fc97660026a28</td>\n",
       "      <td>5cbfdb85ec130898108b32c50d619c39</td>\n",
       "      <td>74980</td>\n",
       "      <td>aparecida de goiania</td>\n",
       "      <td>GO</td>\n",
       "      <td>-16.821866</td>\n",
       "      <td>-49.244027</td>\n",
       "      <td>aparecida de goiania</td>\n",
       "      <td>GO</td>\n",
       "    </tr>\n",
       "    <tr>\n",
       "      <th>15083451</th>\n",
       "      <td>d9110683c7a282144e9fc97660026a28</td>\n",
       "      <td>5cbfdb85ec130898108b32c50d619c39</td>\n",
       "      <td>74980</td>\n",
       "      <td>aparecida de goiania</td>\n",
       "      <td>GO</td>\n",
       "      <td>-16.821866</td>\n",
       "      <td>-49.244027</td>\n",
       "      <td>aparecida de goiania</td>\n",
       "      <td>GO</td>\n",
       "    </tr>\n",
       "    <tr>\n",
       "      <th>15083452</th>\n",
       "      <td>d9110683c7a282144e9fc97660026a28</td>\n",
       "      <td>5cbfdb85ec130898108b32c50d619c39</td>\n",
       "      <td>74980</td>\n",
       "      <td>aparecida de goiania</td>\n",
       "      <td>GO</td>\n",
       "      <td>-16.822945</td>\n",
       "      <td>-49.244615</td>\n",
       "      <td>aparecida de goiania</td>\n",
       "      <td>GO</td>\n",
       "    </tr>\n",
       "    <tr>\n",
       "      <th>15083453</th>\n",
       "      <td>6fb4f2354f36e554ac80141e9128f528</td>\n",
       "      <td>3cc6f2e1b9199837fabb35ff4bf24884</td>\n",
       "      <td>99043</td>\n",
       "      <td>passo fundo</td>\n",
       "      <td>RS</td>\n",
       "      <td>-28.226596</td>\n",
       "      <td>-52.467505</td>\n",
       "      <td>passo fundo</td>\n",
       "      <td>RS</td>\n",
       "    </tr>\n",
       "    <tr>\n",
       "      <th>15083454</th>\n",
       "      <td>6fb4f2354f36e554ac80141e9128f528</td>\n",
       "      <td>3cc6f2e1b9199837fabb35ff4bf24884</td>\n",
       "      <td>99043</td>\n",
       "      <td>passo fundo</td>\n",
       "      <td>RS</td>\n",
       "      <td>-28.226596</td>\n",
       "      <td>-52.467505</td>\n",
       "      <td>passo fundo</td>\n",
       "      <td>RS</td>\n",
       "    </tr>\n",
       "  </tbody>\n",
       "</table>\n",
       "<p>6863100 rows × 9 columns</p>\n",
       "</div>"
      ],
      "text/plain": [
       "                               customer_id                 customers_uniq_id  \\\n",
       "2         06b8999e2fba1a1fbc88172c00ba8bc7  861eff4711a542e4b93843c6dd7febb0   \n",
       "5         06b8999e2fba1a1fbc88172c00ba8bc7  861eff4711a542e4b93843c6dd7febb0   \n",
       "8         06b8999e2fba1a1fbc88172c00ba8bc7  861eff4711a542e4b93843c6dd7febb0   \n",
       "9         06b8999e2fba1a1fbc88172c00ba8bc7  861eff4711a542e4b93843c6dd7febb0   \n",
       "20        06b8999e2fba1a1fbc88172c00ba8bc7  861eff4711a542e4b93843c6dd7febb0   \n",
       "...                                    ...                               ...   \n",
       "15083450  d9110683c7a282144e9fc97660026a28  5cbfdb85ec130898108b32c50d619c39   \n",
       "15083451  d9110683c7a282144e9fc97660026a28  5cbfdb85ec130898108b32c50d619c39   \n",
       "15083452  d9110683c7a282144e9fc97660026a28  5cbfdb85ec130898108b32c50d619c39   \n",
       "15083453  6fb4f2354f36e554ac80141e9128f528  3cc6f2e1b9199837fabb35ff4bf24884   \n",
       "15083454  6fb4f2354f36e554ac80141e9128f528  3cc6f2e1b9199837fabb35ff4bf24884   \n",
       "\n",
       "          zip_code         customer_city customer_state  geolocation_lat  \\\n",
       "2            14409                franca             SP       -20.510459   \n",
       "5            14409                franca             SP       -20.513713   \n",
       "8            14409                franca             SP       -20.497904   \n",
       "9            14409                franca             SP       -20.513713   \n",
       "20           14409                franca             SP       -20.509692   \n",
       "...            ...                   ...            ...              ...   \n",
       "15083450     74980  aparecida de goiania             GO       -16.821866   \n",
       "15083451     74980  aparecida de goiania             GO       -16.821866   \n",
       "15083452     74980  aparecida de goiania             GO       -16.822945   \n",
       "15083453     99043           passo fundo             RS       -28.226596   \n",
       "15083454     99043           passo fundo             RS       -28.226596   \n",
       "\n",
       "          geolocation_lng      geolocation_city geolocation_state  \n",
       "2              -47.399553                franca                SP  \n",
       "5              -47.396644                franca                SP  \n",
       "8              -47.405578                franca                SP  \n",
       "9              -47.396644                franca                SP  \n",
       "20             -47.390810                franca                SP  \n",
       "...                   ...                   ...               ...  \n",
       "15083450       -49.244027  aparecida de goiania                GO  \n",
       "15083451       -49.244027  aparecida de goiania                GO  \n",
       "15083452       -49.244615  aparecida de goiania                GO  \n",
       "15083453       -52.467505           passo fundo                RS  \n",
       "15083454       -52.467505           passo fundo                RS  \n",
       "\n",
       "[6863100 rows x 9 columns]"
      ]
     },
     "execution_count": 47,
     "metadata": {},
     "output_type": "execute_result"
    }
   ],
   "source": [
    "# Handling Duplicated Data\n",
    "\n",
    "cust_merge[cust_merge.duplicated(keep=False)]"
   ]
  },
  {
   "cell_type": "code",
   "execution_count": 48,
   "metadata": {},
   "outputs": [
    {
     "data": {
      "text/html": [
       "<div>\n",
       "<style scoped>\n",
       "    .dataframe tbody tr th:only-of-type {\n",
       "        vertical-align: middle;\n",
       "    }\n",
       "\n",
       "    .dataframe tbody tr th {\n",
       "        vertical-align: top;\n",
       "    }\n",
       "\n",
       "    .dataframe thead th {\n",
       "        text-align: right;\n",
       "    }\n",
       "</style>\n",
       "<table border=\"1\" class=\"dataframe\">\n",
       "  <thead>\n",
       "    <tr style=\"text-align: right;\">\n",
       "      <th></th>\n",
       "      <th>customer_id</th>\n",
       "      <th>customers_uniq_id</th>\n",
       "      <th>zip_code</th>\n",
       "      <th>customer_city</th>\n",
       "      <th>customer_state</th>\n",
       "      <th>geolocation_lat</th>\n",
       "      <th>geolocation_lng</th>\n",
       "      <th>geolocation_city</th>\n",
       "      <th>geolocation_state</th>\n",
       "    </tr>\n",
       "  </thead>\n",
       "  <tbody>\n",
       "    <tr>\n",
       "      <th>0</th>\n",
       "      <td>06b8999e2fba1a1fbc88172c00ba8bc7</td>\n",
       "      <td>861eff4711a542e4b93843c6dd7febb0</td>\n",
       "      <td>14409</td>\n",
       "      <td>franca</td>\n",
       "      <td>SP</td>\n",
       "      <td>-20.509897</td>\n",
       "      <td>-47.397866</td>\n",
       "      <td>franca</td>\n",
       "      <td>SP</td>\n",
       "    </tr>\n",
       "    <tr>\n",
       "      <th>1</th>\n",
       "      <td>06b8999e2fba1a1fbc88172c00ba8bc7</td>\n",
       "      <td>861eff4711a542e4b93843c6dd7febb0</td>\n",
       "      <td>14409</td>\n",
       "      <td>franca</td>\n",
       "      <td>SP</td>\n",
       "      <td>-20.497396</td>\n",
       "      <td>-47.399241</td>\n",
       "      <td>franca</td>\n",
       "      <td>SP</td>\n",
       "    </tr>\n",
       "    <tr>\n",
       "      <th>2</th>\n",
       "      <td>06b8999e2fba1a1fbc88172c00ba8bc7</td>\n",
       "      <td>861eff4711a542e4b93843c6dd7febb0</td>\n",
       "      <td>14409</td>\n",
       "      <td>franca</td>\n",
       "      <td>SP</td>\n",
       "      <td>-20.510459</td>\n",
       "      <td>-47.399553</td>\n",
       "      <td>franca</td>\n",
       "      <td>SP</td>\n",
       "    </tr>\n",
       "    <tr>\n",
       "      <th>3</th>\n",
       "      <td>06b8999e2fba1a1fbc88172c00ba8bc7</td>\n",
       "      <td>861eff4711a542e4b93843c6dd7febb0</td>\n",
       "      <td>14409</td>\n",
       "      <td>franca</td>\n",
       "      <td>SP</td>\n",
       "      <td>-20.480940</td>\n",
       "      <td>-47.394161</td>\n",
       "      <td>franca</td>\n",
       "      <td>SP</td>\n",
       "    </tr>\n",
       "    <tr>\n",
       "      <th>4</th>\n",
       "      <td>06b8999e2fba1a1fbc88172c00ba8bc7</td>\n",
       "      <td>861eff4711a542e4b93843c6dd7febb0</td>\n",
       "      <td>14409</td>\n",
       "      <td>franca</td>\n",
       "      <td>SP</td>\n",
       "      <td>-20.515413</td>\n",
       "      <td>-47.398194</td>\n",
       "      <td>franca</td>\n",
       "      <td>SP</td>\n",
       "    </tr>\n",
       "    <tr>\n",
       "      <th>...</th>\n",
       "      <td>...</td>\n",
       "      <td>...</td>\n",
       "      <td>...</td>\n",
       "      <td>...</td>\n",
       "      <td>...</td>\n",
       "      <td>...</td>\n",
       "      <td>...</td>\n",
       "      <td>...</td>\n",
       "      <td>...</td>\n",
       "    </tr>\n",
       "    <tr>\n",
       "      <th>15083444</th>\n",
       "      <td>d9110683c7a282144e9fc97660026a28</td>\n",
       "      <td>5cbfdb85ec130898108b32c50d619c39</td>\n",
       "      <td>74980</td>\n",
       "      <td>aparecida de goiania</td>\n",
       "      <td>GO</td>\n",
       "      <td>-16.823236</td>\n",
       "      <td>-49.247423</td>\n",
       "      <td>aparecida de goiania</td>\n",
       "      <td>GO</td>\n",
       "    </tr>\n",
       "    <tr>\n",
       "      <th>15083445</th>\n",
       "      <td>d9110683c7a282144e9fc97660026a28</td>\n",
       "      <td>5cbfdb85ec130898108b32c50d619c39</td>\n",
       "      <td>74980</td>\n",
       "      <td>aparecida de goiania</td>\n",
       "      <td>GO</td>\n",
       "      <td>-16.823261</td>\n",
       "      <td>-49.247368</td>\n",
       "      <td>aparecida de goiânia</td>\n",
       "      <td>GO</td>\n",
       "    </tr>\n",
       "    <tr>\n",
       "      <th>15083446</th>\n",
       "      <td>d9110683c7a282144e9fc97660026a28</td>\n",
       "      <td>5cbfdb85ec130898108b32c50d619c39</td>\n",
       "      <td>74980</td>\n",
       "      <td>aparecida de goiania</td>\n",
       "      <td>GO</td>\n",
       "      <td>-16.821866</td>\n",
       "      <td>-49.244027</td>\n",
       "      <td>aparecida de goiania</td>\n",
       "      <td>GO</td>\n",
       "    </tr>\n",
       "    <tr>\n",
       "      <th>15083449</th>\n",
       "      <td>d9110683c7a282144e9fc97660026a28</td>\n",
       "      <td>5cbfdb85ec130898108b32c50d619c39</td>\n",
       "      <td>74980</td>\n",
       "      <td>aparecida de goiania</td>\n",
       "      <td>GO</td>\n",
       "      <td>-16.821692</td>\n",
       "      <td>-49.245116</td>\n",
       "      <td>aparecida de goiania</td>\n",
       "      <td>GO</td>\n",
       "    </tr>\n",
       "    <tr>\n",
       "      <th>15083453</th>\n",
       "      <td>6fb4f2354f36e554ac80141e9128f528</td>\n",
       "      <td>3cc6f2e1b9199837fabb35ff4bf24884</td>\n",
       "      <td>99043</td>\n",
       "      <td>passo fundo</td>\n",
       "      <td>RS</td>\n",
       "      <td>-28.226596</td>\n",
       "      <td>-52.467505</td>\n",
       "      <td>passo fundo</td>\n",
       "      <td>RS</td>\n",
       "    </tr>\n",
       "  </tbody>\n",
       "</table>\n",
       "<p>10327728 rows × 9 columns</p>\n",
       "</div>"
      ],
      "text/plain": [
       "                               customer_id                 customers_uniq_id  \\\n",
       "0         06b8999e2fba1a1fbc88172c00ba8bc7  861eff4711a542e4b93843c6dd7febb0   \n",
       "1         06b8999e2fba1a1fbc88172c00ba8bc7  861eff4711a542e4b93843c6dd7febb0   \n",
       "2         06b8999e2fba1a1fbc88172c00ba8bc7  861eff4711a542e4b93843c6dd7febb0   \n",
       "3         06b8999e2fba1a1fbc88172c00ba8bc7  861eff4711a542e4b93843c6dd7febb0   \n",
       "4         06b8999e2fba1a1fbc88172c00ba8bc7  861eff4711a542e4b93843c6dd7febb0   \n",
       "...                                    ...                               ...   \n",
       "15083444  d9110683c7a282144e9fc97660026a28  5cbfdb85ec130898108b32c50d619c39   \n",
       "15083445  d9110683c7a282144e9fc97660026a28  5cbfdb85ec130898108b32c50d619c39   \n",
       "15083446  d9110683c7a282144e9fc97660026a28  5cbfdb85ec130898108b32c50d619c39   \n",
       "15083449  d9110683c7a282144e9fc97660026a28  5cbfdb85ec130898108b32c50d619c39   \n",
       "15083453  6fb4f2354f36e554ac80141e9128f528  3cc6f2e1b9199837fabb35ff4bf24884   \n",
       "\n",
       "          zip_code         customer_city customer_state  geolocation_lat  \\\n",
       "0            14409                franca             SP       -20.509897   \n",
       "1            14409                franca             SP       -20.497396   \n",
       "2            14409                franca             SP       -20.510459   \n",
       "3            14409                franca             SP       -20.480940   \n",
       "4            14409                franca             SP       -20.515413   \n",
       "...            ...                   ...            ...              ...   \n",
       "15083444     74980  aparecida de goiania             GO       -16.823236   \n",
       "15083445     74980  aparecida de goiania             GO       -16.823261   \n",
       "15083446     74980  aparecida de goiania             GO       -16.821866   \n",
       "15083449     74980  aparecida de goiania             GO       -16.821692   \n",
       "15083453     99043           passo fundo             RS       -28.226596   \n",
       "\n",
       "          geolocation_lng      geolocation_city geolocation_state  \n",
       "0              -47.397866                franca                SP  \n",
       "1              -47.399241                franca                SP  \n",
       "2              -47.399553                franca                SP  \n",
       "3              -47.394161                franca                SP  \n",
       "4              -47.398194                franca                SP  \n",
       "...                   ...                   ...               ...  \n",
       "15083444       -49.247423  aparecida de goiania                GO  \n",
       "15083445       -49.247368  aparecida de goiânia                GO  \n",
       "15083446       -49.244027  aparecida de goiania                GO  \n",
       "15083449       -49.245116  aparecida de goiania                GO  \n",
       "15083453       -52.467505           passo fundo                RS  \n",
       "\n",
       "[10327728 rows x 9 columns]"
      ]
     },
     "execution_count": 48,
     "metadata": {},
     "output_type": "execute_result"
    }
   ],
   "source": [
    "#Menghapus data duplicated\n",
    "cust_merge = cust_merge.drop_duplicates(keep= 'first')\n",
    "cust_merge\n"
   ]
  },
  {
   "cell_type": "code",
   "execution_count": 49,
   "metadata": {},
   "outputs": [
    {
     "data": {
      "text/plain": [
       "0           False\n",
       "1           False\n",
       "2           False\n",
       "3           False\n",
       "4           False\n",
       "            ...  \n",
       "15083444    False\n",
       "15083445    False\n",
       "15083446    False\n",
       "15083449    False\n",
       "15083453    False\n",
       "Length: 10327728, dtype: bool"
      ]
     },
     "execution_count": 49,
     "metadata": {},
     "output_type": "execute_result"
    }
   ],
   "source": [
    "# Handling duplicated data\n",
    "cust_merge.duplicated(keep=False)"
   ]
  },
  {
   "cell_type": "code",
   "execution_count": 50,
   "metadata": {},
   "outputs": [
    {
     "data": {
      "text/plain": [
       "array(['franca', 'sao bernardo do campo', 'são bernardo do campo', ...,\n",
       "       'sao rafael', 'são rafael', 'eugenio de castro'], dtype=object)"
      ]
     },
     "execution_count": 50,
     "metadata": {},
     "output_type": "execute_result"
    }
   ],
   "source": [
    "# Mengetahui nilai unik pada kolom geolocation_city\n",
    "\n",
    "n_unique = cust_merge[\"geolocation_city\"].unique()\n",
    "n_unique"
   ]
  },
  {
   "cell_type": "code",
   "execution_count": 51,
   "metadata": {},
   "outputs": [
    {
     "name": "stdout",
     "output_type": "stream",
     "text": [
      "jumlah data unik: 5812\n"
     ]
    }
   ],
   "source": [
    "# Mengetahui jumlah nilai unik pada kolom geolocation_city\n",
    "n_unique = cust_merge[\"geolocation_city\"].nunique()\n",
    "print(f\"jumlah data unik: {n_unique}\")"
   ]
  },
  {
   "cell_type": "code",
   "execution_count": 52,
   "metadata": {},
   "outputs": [
    {
     "data": {
      "text/html": [
       "<div>\n",
       "<style scoped>\n",
       "    .dataframe tbody tr th:only-of-type {\n",
       "        vertical-align: middle;\n",
       "    }\n",
       "\n",
       "    .dataframe tbody tr th {\n",
       "        vertical-align: top;\n",
       "    }\n",
       "\n",
       "    .dataframe thead th {\n",
       "        text-align: right;\n",
       "    }\n",
       "</style>\n",
       "<table border=\"1\" class=\"dataframe\">\n",
       "  <thead>\n",
       "    <tr style=\"text-align: right;\">\n",
       "      <th></th>\n",
       "      <th>customer_id</th>\n",
       "      <th>customers_uniq_id</th>\n",
       "      <th>zip_code</th>\n",
       "      <th>customer_city</th>\n",
       "      <th>customer_state</th>\n",
       "      <th>geolocation_lat</th>\n",
       "      <th>geolocation_lng</th>\n",
       "      <th>geolocation_city</th>\n",
       "      <th>geolocation_state</th>\n",
       "    </tr>\n",
       "  </thead>\n",
       "  <tbody>\n",
       "    <tr>\n",
       "      <th>0</th>\n",
       "      <td>06b8999e2fba1a1fbc88172c00ba8bc7</td>\n",
       "      <td>861eff4711a542e4b93843c6dd7febb0</td>\n",
       "      <td>14409</td>\n",
       "      <td>franca</td>\n",
       "      <td>SP</td>\n",
       "      <td>-20.509897</td>\n",
       "      <td>-47.397866</td>\n",
       "      <td>franca</td>\n",
       "      <td>SP</td>\n",
       "    </tr>\n",
       "    <tr>\n",
       "      <th>1</th>\n",
       "      <td>06b8999e2fba1a1fbc88172c00ba8bc7</td>\n",
       "      <td>861eff4711a542e4b93843c6dd7febb0</td>\n",
       "      <td>14409</td>\n",
       "      <td>franca</td>\n",
       "      <td>SP</td>\n",
       "      <td>-20.497396</td>\n",
       "      <td>-47.399241</td>\n",
       "      <td>franca</td>\n",
       "      <td>SP</td>\n",
       "    </tr>\n",
       "    <tr>\n",
       "      <th>2</th>\n",
       "      <td>06b8999e2fba1a1fbc88172c00ba8bc7</td>\n",
       "      <td>861eff4711a542e4b93843c6dd7febb0</td>\n",
       "      <td>14409</td>\n",
       "      <td>franca</td>\n",
       "      <td>SP</td>\n",
       "      <td>-20.510459</td>\n",
       "      <td>-47.399553</td>\n",
       "      <td>franca</td>\n",
       "      <td>SP</td>\n",
       "    </tr>\n",
       "    <tr>\n",
       "      <th>3</th>\n",
       "      <td>06b8999e2fba1a1fbc88172c00ba8bc7</td>\n",
       "      <td>861eff4711a542e4b93843c6dd7febb0</td>\n",
       "      <td>14409</td>\n",
       "      <td>franca</td>\n",
       "      <td>SP</td>\n",
       "      <td>-20.480940</td>\n",
       "      <td>-47.394161</td>\n",
       "      <td>franca</td>\n",
       "      <td>SP</td>\n",
       "    </tr>\n",
       "    <tr>\n",
       "      <th>4</th>\n",
       "      <td>06b8999e2fba1a1fbc88172c00ba8bc7</td>\n",
       "      <td>861eff4711a542e4b93843c6dd7febb0</td>\n",
       "      <td>14409</td>\n",
       "      <td>franca</td>\n",
       "      <td>SP</td>\n",
       "      <td>-20.515413</td>\n",
       "      <td>-47.398194</td>\n",
       "      <td>franca</td>\n",
       "      <td>SP</td>\n",
       "    </tr>\n",
       "    <tr>\n",
       "      <th>...</th>\n",
       "      <td>...</td>\n",
       "      <td>...</td>\n",
       "      <td>...</td>\n",
       "      <td>...</td>\n",
       "      <td>...</td>\n",
       "      <td>...</td>\n",
       "      <td>...</td>\n",
       "      <td>...</td>\n",
       "      <td>...</td>\n",
       "    </tr>\n",
       "    <tr>\n",
       "      <th>15083444</th>\n",
       "      <td>d9110683c7a282144e9fc97660026a28</td>\n",
       "      <td>5cbfdb85ec130898108b32c50d619c39</td>\n",
       "      <td>74980</td>\n",
       "      <td>aparecida de goiania</td>\n",
       "      <td>GO</td>\n",
       "      <td>-16.823236</td>\n",
       "      <td>-49.247423</td>\n",
       "      <td>aparecida de goiania</td>\n",
       "      <td>GO</td>\n",
       "    </tr>\n",
       "    <tr>\n",
       "      <th>15083445</th>\n",
       "      <td>d9110683c7a282144e9fc97660026a28</td>\n",
       "      <td>5cbfdb85ec130898108b32c50d619c39</td>\n",
       "      <td>74980</td>\n",
       "      <td>aparecida de goiania</td>\n",
       "      <td>GO</td>\n",
       "      <td>-16.823261</td>\n",
       "      <td>-49.247368</td>\n",
       "      <td>aparecida de goiânia</td>\n",
       "      <td>GO</td>\n",
       "    </tr>\n",
       "    <tr>\n",
       "      <th>15083446</th>\n",
       "      <td>d9110683c7a282144e9fc97660026a28</td>\n",
       "      <td>5cbfdb85ec130898108b32c50d619c39</td>\n",
       "      <td>74980</td>\n",
       "      <td>aparecida de goiania</td>\n",
       "      <td>GO</td>\n",
       "      <td>-16.821866</td>\n",
       "      <td>-49.244027</td>\n",
       "      <td>aparecida de goiania</td>\n",
       "      <td>GO</td>\n",
       "    </tr>\n",
       "    <tr>\n",
       "      <th>15083449</th>\n",
       "      <td>d9110683c7a282144e9fc97660026a28</td>\n",
       "      <td>5cbfdb85ec130898108b32c50d619c39</td>\n",
       "      <td>74980</td>\n",
       "      <td>aparecida de goiania</td>\n",
       "      <td>GO</td>\n",
       "      <td>-16.821692</td>\n",
       "      <td>-49.245116</td>\n",
       "      <td>aparecida de goiania</td>\n",
       "      <td>GO</td>\n",
       "    </tr>\n",
       "    <tr>\n",
       "      <th>15083453</th>\n",
       "      <td>6fb4f2354f36e554ac80141e9128f528</td>\n",
       "      <td>3cc6f2e1b9199837fabb35ff4bf24884</td>\n",
       "      <td>99043</td>\n",
       "      <td>passo fundo</td>\n",
       "      <td>RS</td>\n",
       "      <td>-28.226596</td>\n",
       "      <td>-52.467505</td>\n",
       "      <td>passo fundo</td>\n",
       "      <td>RS</td>\n",
       "    </tr>\n",
       "  </tbody>\n",
       "</table>\n",
       "<p>10327728 rows × 9 columns</p>\n",
       "</div>"
      ],
      "text/plain": [
       "                               customer_id                 customers_uniq_id  \\\n",
       "0         06b8999e2fba1a1fbc88172c00ba8bc7  861eff4711a542e4b93843c6dd7febb0   \n",
       "1         06b8999e2fba1a1fbc88172c00ba8bc7  861eff4711a542e4b93843c6dd7febb0   \n",
       "2         06b8999e2fba1a1fbc88172c00ba8bc7  861eff4711a542e4b93843c6dd7febb0   \n",
       "3         06b8999e2fba1a1fbc88172c00ba8bc7  861eff4711a542e4b93843c6dd7febb0   \n",
       "4         06b8999e2fba1a1fbc88172c00ba8bc7  861eff4711a542e4b93843c6dd7febb0   \n",
       "...                                    ...                               ...   \n",
       "15083444  d9110683c7a282144e9fc97660026a28  5cbfdb85ec130898108b32c50d619c39   \n",
       "15083445  d9110683c7a282144e9fc97660026a28  5cbfdb85ec130898108b32c50d619c39   \n",
       "15083446  d9110683c7a282144e9fc97660026a28  5cbfdb85ec130898108b32c50d619c39   \n",
       "15083449  d9110683c7a282144e9fc97660026a28  5cbfdb85ec130898108b32c50d619c39   \n",
       "15083453  6fb4f2354f36e554ac80141e9128f528  3cc6f2e1b9199837fabb35ff4bf24884   \n",
       "\n",
       "          zip_code         customer_city customer_state  geolocation_lat  \\\n",
       "0            14409                franca             SP       -20.509897   \n",
       "1            14409                franca             SP       -20.497396   \n",
       "2            14409                franca             SP       -20.510459   \n",
       "3            14409                franca             SP       -20.480940   \n",
       "4            14409                franca             SP       -20.515413   \n",
       "...            ...                   ...            ...              ...   \n",
       "15083444     74980  aparecida de goiania             GO       -16.823236   \n",
       "15083445     74980  aparecida de goiania             GO       -16.823261   \n",
       "15083446     74980  aparecida de goiania             GO       -16.821866   \n",
       "15083449     74980  aparecida de goiania             GO       -16.821692   \n",
       "15083453     99043           passo fundo             RS       -28.226596   \n",
       "\n",
       "          geolocation_lng      geolocation_city geolocation_state  \n",
       "0              -47.397866                franca                SP  \n",
       "1              -47.399241                franca                SP  \n",
       "2              -47.399553                franca                SP  \n",
       "3              -47.394161                franca                SP  \n",
       "4              -47.398194                franca                SP  \n",
       "...                   ...                   ...               ...  \n",
       "15083444       -49.247423  aparecida de goiania                GO  \n",
       "15083445       -49.247368  aparecida de goiânia                GO  \n",
       "15083446       -49.244027  aparecida de goiania                GO  \n",
       "15083449       -49.245116  aparecida de goiania                GO  \n",
       "15083453       -52.467505           passo fundo                RS  \n",
       "\n",
       "[10327728 rows x 9 columns]"
      ]
     },
     "execution_count": 52,
     "metadata": {},
     "output_type": "execute_result"
    }
   ],
   "source": [
    "# Mengubah nama kota yang memiliki kemiripan\n",
    "\n",
    "map_inkosisten = {\"são bernardo do campo\": \"sao bernardo do campo\",\n",
    "                  \"são rafael\" : \"sao rafael\",\n",
    "                  \"abadiânia\" : \"abadiania\",\n",
    "                  \"são paulo\" : \"sao paulo\",\n",
    "                  \"niterói\" : \"niteroi\"\n",
    "                }\n",
    "\n",
    "cust_merge[\"geolocation_city\"].replace(map_inkosisten)\n",
    "cust_merge[\"geolocation_city\"] = cust_merge[\"geolocation_city\"].replace(map_inkosisten)\n",
    "cust_merge"
   ]
  },
  {
   "cell_type": "code",
   "execution_count": 53,
   "metadata": {},
   "outputs": [
    {
     "data": {
      "text/html": [
       "<div>\n",
       "<style scoped>\n",
       "    .dataframe tbody tr th:only-of-type {\n",
       "        vertical-align: middle;\n",
       "    }\n",
       "\n",
       "    .dataframe tbody tr th {\n",
       "        vertical-align: top;\n",
       "    }\n",
       "\n",
       "    .dataframe thead th {\n",
       "        text-align: right;\n",
       "    }\n",
       "</style>\n",
       "<table border=\"1\" class=\"dataframe\">\n",
       "  <thead>\n",
       "    <tr style=\"text-align: right;\">\n",
       "      <th></th>\n",
       "      <th>geolocation_city</th>\n",
       "      <th>customer_id</th>\n",
       "    </tr>\n",
       "  </thead>\n",
       "  <tbody>\n",
       "    <tr>\n",
       "      <th>4303</th>\n",
       "      <td>rio de janeiro</td>\n",
       "      <td>940421</td>\n",
       "    </tr>\n",
       "    <tr>\n",
       "      <th>4868</th>\n",
       "      <td>sao paulo</td>\n",
       "      <td>762002</td>\n",
       "    </tr>\n",
       "    <tr>\n",
       "      <th>605</th>\n",
       "      <td>belo horizonte</td>\n",
       "      <td>462221</td>\n",
       "    </tr>\n",
       "    <tr>\n",
       "      <th>3391</th>\n",
       "      <td>niteroi</td>\n",
       "      <td>201442</td>\n",
       "    </tr>\n",
       "    <tr>\n",
       "      <th>1535</th>\n",
       "      <td>curitiba</td>\n",
       "      <td>161197</td>\n",
       "    </tr>\n",
       "    <tr>\n",
       "      <th>4036</th>\n",
       "      <td>porto alegre</td>\n",
       "      <td>141824</td>\n",
       "    </tr>\n",
       "    <tr>\n",
       "      <th>4682</th>\n",
       "      <td>santos</td>\n",
       "      <td>134971</td>\n",
       "    </tr>\n",
       "    <tr>\n",
       "      <th>5540</th>\n",
       "      <td>uberlandia</td>\n",
       "      <td>127034</td>\n",
       "    </tr>\n",
       "    <tr>\n",
       "      <th>947</th>\n",
       "      <td>campinas</td>\n",
       "      <td>125935</td>\n",
       "    </tr>\n",
       "    <tr>\n",
       "      <th>4423</th>\n",
       "      <td>salvador</td>\n",
       "      <td>94799</td>\n",
       "    </tr>\n",
       "  </tbody>\n",
       "</table>\n",
       "</div>"
      ],
      "text/plain": [
       "     geolocation_city  customer_id\n",
       "4303   rio de janeiro       940421\n",
       "4868        sao paulo       762002\n",
       "605    belo horizonte       462221\n",
       "3391          niteroi       201442\n",
       "1535         curitiba       161197\n",
       "4036     porto alegre       141824\n",
       "4682           santos       134971\n",
       "5540       uberlandia       127034\n",
       "947          campinas       125935\n",
       "4423         salvador        94799"
      ]
     },
     "execution_count": 53,
     "metadata": {},
     "output_type": "execute_result"
    }
   ],
   "source": [
    "#Menghitung persebaran penggunan Olist\n",
    "customer_perkota = cust_merge.groupby('geolocation_city')['customer_id'].count().reset_index().sort_values('customer_id', ascending=False).head(10)\n",
    "customer_perkota"
   ]
  },
  {
   "cell_type": "code",
   "execution_count": 54,
   "metadata": {},
   "outputs": [
    {
     "data": {
      "application/vnd.plotly.v1+json": {
       "config": {
        "plotlyServerURL": "https://plot.ly"
       },
       "data": [
        {
         "alignmentgroup": "True",
         "hovertemplate": "geolocation_city=%{x}<br>customer_id=%{y}<extra></extra>",
         "legendgroup": "rio de janeiro",
         "marker": {
          "color": "#636efa",
          "pattern": {
           "shape": ""
          }
         },
         "name": "rio de janeiro",
         "offsetgroup": "rio de janeiro",
         "orientation": "v",
         "showlegend": true,
         "textposition": "auto",
         "type": "bar",
         "x": [
          "rio de janeiro"
         ],
         "xaxis": "x",
         "y": [
          940421
         ],
         "yaxis": "y"
        },
        {
         "alignmentgroup": "True",
         "hovertemplate": "geolocation_city=%{x}<br>customer_id=%{y}<extra></extra>",
         "legendgroup": "sao paulo",
         "marker": {
          "color": "#EF553B",
          "pattern": {
           "shape": ""
          }
         },
         "name": "sao paulo",
         "offsetgroup": "sao paulo",
         "orientation": "v",
         "showlegend": true,
         "textposition": "auto",
         "type": "bar",
         "x": [
          "sao paulo"
         ],
         "xaxis": "x",
         "y": [
          762002
         ],
         "yaxis": "y"
        },
        {
         "alignmentgroup": "True",
         "hovertemplate": "geolocation_city=%{x}<br>customer_id=%{y}<extra></extra>",
         "legendgroup": "belo horizonte",
         "marker": {
          "color": "#00cc96",
          "pattern": {
           "shape": ""
          }
         },
         "name": "belo horizonte",
         "offsetgroup": "belo horizonte",
         "orientation": "v",
         "showlegend": true,
         "textposition": "auto",
         "type": "bar",
         "x": [
          "belo horizonte"
         ],
         "xaxis": "x",
         "y": [
          462221
         ],
         "yaxis": "y"
        },
        {
         "alignmentgroup": "True",
         "hovertemplate": "geolocation_city=%{x}<br>customer_id=%{y}<extra></extra>",
         "legendgroup": "niteroi",
         "marker": {
          "color": "#ab63fa",
          "pattern": {
           "shape": ""
          }
         },
         "name": "niteroi",
         "offsetgroup": "niteroi",
         "orientation": "v",
         "showlegend": true,
         "textposition": "auto",
         "type": "bar",
         "x": [
          "niteroi"
         ],
         "xaxis": "x",
         "y": [
          201442
         ],
         "yaxis": "y"
        },
        {
         "alignmentgroup": "True",
         "hovertemplate": "geolocation_city=%{x}<br>customer_id=%{y}<extra></extra>",
         "legendgroup": "curitiba",
         "marker": {
          "color": "#FFA15A",
          "pattern": {
           "shape": ""
          }
         },
         "name": "curitiba",
         "offsetgroup": "curitiba",
         "orientation": "v",
         "showlegend": true,
         "textposition": "auto",
         "type": "bar",
         "x": [
          "curitiba"
         ],
         "xaxis": "x",
         "y": [
          161197
         ],
         "yaxis": "y"
        },
        {
         "alignmentgroup": "True",
         "hovertemplate": "geolocation_city=%{x}<br>customer_id=%{y}<extra></extra>",
         "legendgroup": "porto alegre",
         "marker": {
          "color": "#19d3f3",
          "pattern": {
           "shape": ""
          }
         },
         "name": "porto alegre",
         "offsetgroup": "porto alegre",
         "orientation": "v",
         "showlegend": true,
         "textposition": "auto",
         "type": "bar",
         "x": [
          "porto alegre"
         ],
         "xaxis": "x",
         "y": [
          141824
         ],
         "yaxis": "y"
        },
        {
         "alignmentgroup": "True",
         "hovertemplate": "geolocation_city=%{x}<br>customer_id=%{y}<extra></extra>",
         "legendgroup": "santos",
         "marker": {
          "color": "#FF6692",
          "pattern": {
           "shape": ""
          }
         },
         "name": "santos",
         "offsetgroup": "santos",
         "orientation": "v",
         "showlegend": true,
         "textposition": "auto",
         "type": "bar",
         "x": [
          "santos"
         ],
         "xaxis": "x",
         "y": [
          134971
         ],
         "yaxis": "y"
        },
        {
         "alignmentgroup": "True",
         "hovertemplate": "geolocation_city=%{x}<br>customer_id=%{y}<extra></extra>",
         "legendgroup": "uberlandia",
         "marker": {
          "color": "#B6E880",
          "pattern": {
           "shape": ""
          }
         },
         "name": "uberlandia",
         "offsetgroup": "uberlandia",
         "orientation": "v",
         "showlegend": true,
         "textposition": "auto",
         "type": "bar",
         "x": [
          "uberlandia"
         ],
         "xaxis": "x",
         "y": [
          127034
         ],
         "yaxis": "y"
        },
        {
         "alignmentgroup": "True",
         "hovertemplate": "geolocation_city=%{x}<br>customer_id=%{y}<extra></extra>",
         "legendgroup": "campinas",
         "marker": {
          "color": "#FF97FF",
          "pattern": {
           "shape": ""
          }
         },
         "name": "campinas",
         "offsetgroup": "campinas",
         "orientation": "v",
         "showlegend": true,
         "textposition": "auto",
         "type": "bar",
         "x": [
          "campinas"
         ],
         "xaxis": "x",
         "y": [
          125935
         ],
         "yaxis": "y"
        },
        {
         "alignmentgroup": "True",
         "hovertemplate": "geolocation_city=%{x}<br>customer_id=%{y}<extra></extra>",
         "legendgroup": "salvador",
         "marker": {
          "color": "#FECB52",
          "pattern": {
           "shape": ""
          }
         },
         "name": "salvador",
         "offsetgroup": "salvador",
         "orientation": "v",
         "showlegend": true,
         "textposition": "auto",
         "type": "bar",
         "x": [
          "salvador"
         ],
         "xaxis": "x",
         "y": [
          94799
         ],
         "yaxis": "y"
        }
       ],
       "layout": {
        "barmode": "relative",
        "height": 500,
        "legend": {
         "title": {
          "text": "geolocation_city"
         },
         "tracegroupgap": 0
        },
        "template": {
         "data": {
          "bar": [
           {
            "error_x": {
             "color": "#2a3f5f"
            },
            "error_y": {
             "color": "#2a3f5f"
            },
            "marker": {
             "line": {
              "color": "#E5ECF6",
              "width": 0.5
             },
             "pattern": {
              "fillmode": "overlay",
              "size": 10,
              "solidity": 0.2
             }
            },
            "type": "bar"
           }
          ],
          "barpolar": [
           {
            "marker": {
             "line": {
              "color": "#E5ECF6",
              "width": 0.5
             },
             "pattern": {
              "fillmode": "overlay",
              "size": 10,
              "solidity": 0.2
             }
            },
            "type": "barpolar"
           }
          ],
          "carpet": [
           {
            "aaxis": {
             "endlinecolor": "#2a3f5f",
             "gridcolor": "white",
             "linecolor": "white",
             "minorgridcolor": "white",
             "startlinecolor": "#2a3f5f"
            },
            "baxis": {
             "endlinecolor": "#2a3f5f",
             "gridcolor": "white",
             "linecolor": "white",
             "minorgridcolor": "white",
             "startlinecolor": "#2a3f5f"
            },
            "type": "carpet"
           }
          ],
          "choropleth": [
           {
            "colorbar": {
             "outlinewidth": 0,
             "ticks": ""
            },
            "type": "choropleth"
           }
          ],
          "contour": [
           {
            "colorbar": {
             "outlinewidth": 0,
             "ticks": ""
            },
            "colorscale": [
             [
              0,
              "#0d0887"
             ],
             [
              0.1111111111111111,
              "#46039f"
             ],
             [
              0.2222222222222222,
              "#7201a8"
             ],
             [
              0.3333333333333333,
              "#9c179e"
             ],
             [
              0.4444444444444444,
              "#bd3786"
             ],
             [
              0.5555555555555556,
              "#d8576b"
             ],
             [
              0.6666666666666666,
              "#ed7953"
             ],
             [
              0.7777777777777778,
              "#fb9f3a"
             ],
             [
              0.8888888888888888,
              "#fdca26"
             ],
             [
              1,
              "#f0f921"
             ]
            ],
            "type": "contour"
           }
          ],
          "contourcarpet": [
           {
            "colorbar": {
             "outlinewidth": 0,
             "ticks": ""
            },
            "type": "contourcarpet"
           }
          ],
          "heatmap": [
           {
            "colorbar": {
             "outlinewidth": 0,
             "ticks": ""
            },
            "colorscale": [
             [
              0,
              "#0d0887"
             ],
             [
              0.1111111111111111,
              "#46039f"
             ],
             [
              0.2222222222222222,
              "#7201a8"
             ],
             [
              0.3333333333333333,
              "#9c179e"
             ],
             [
              0.4444444444444444,
              "#bd3786"
             ],
             [
              0.5555555555555556,
              "#d8576b"
             ],
             [
              0.6666666666666666,
              "#ed7953"
             ],
             [
              0.7777777777777778,
              "#fb9f3a"
             ],
             [
              0.8888888888888888,
              "#fdca26"
             ],
             [
              1,
              "#f0f921"
             ]
            ],
            "type": "heatmap"
           }
          ],
          "heatmapgl": [
           {
            "colorbar": {
             "outlinewidth": 0,
             "ticks": ""
            },
            "colorscale": [
             [
              0,
              "#0d0887"
             ],
             [
              0.1111111111111111,
              "#46039f"
             ],
             [
              0.2222222222222222,
              "#7201a8"
             ],
             [
              0.3333333333333333,
              "#9c179e"
             ],
             [
              0.4444444444444444,
              "#bd3786"
             ],
             [
              0.5555555555555556,
              "#d8576b"
             ],
             [
              0.6666666666666666,
              "#ed7953"
             ],
             [
              0.7777777777777778,
              "#fb9f3a"
             ],
             [
              0.8888888888888888,
              "#fdca26"
             ],
             [
              1,
              "#f0f921"
             ]
            ],
            "type": "heatmapgl"
           }
          ],
          "histogram": [
           {
            "marker": {
             "pattern": {
              "fillmode": "overlay",
              "size": 10,
              "solidity": 0.2
             }
            },
            "type": "histogram"
           }
          ],
          "histogram2d": [
           {
            "colorbar": {
             "outlinewidth": 0,
             "ticks": ""
            },
            "colorscale": [
             [
              0,
              "#0d0887"
             ],
             [
              0.1111111111111111,
              "#46039f"
             ],
             [
              0.2222222222222222,
              "#7201a8"
             ],
             [
              0.3333333333333333,
              "#9c179e"
             ],
             [
              0.4444444444444444,
              "#bd3786"
             ],
             [
              0.5555555555555556,
              "#d8576b"
             ],
             [
              0.6666666666666666,
              "#ed7953"
             ],
             [
              0.7777777777777778,
              "#fb9f3a"
             ],
             [
              0.8888888888888888,
              "#fdca26"
             ],
             [
              1,
              "#f0f921"
             ]
            ],
            "type": "histogram2d"
           }
          ],
          "histogram2dcontour": [
           {
            "colorbar": {
             "outlinewidth": 0,
             "ticks": ""
            },
            "colorscale": [
             [
              0,
              "#0d0887"
             ],
             [
              0.1111111111111111,
              "#46039f"
             ],
             [
              0.2222222222222222,
              "#7201a8"
             ],
             [
              0.3333333333333333,
              "#9c179e"
             ],
             [
              0.4444444444444444,
              "#bd3786"
             ],
             [
              0.5555555555555556,
              "#d8576b"
             ],
             [
              0.6666666666666666,
              "#ed7953"
             ],
             [
              0.7777777777777778,
              "#fb9f3a"
             ],
             [
              0.8888888888888888,
              "#fdca26"
             ],
             [
              1,
              "#f0f921"
             ]
            ],
            "type": "histogram2dcontour"
           }
          ],
          "mesh3d": [
           {
            "colorbar": {
             "outlinewidth": 0,
             "ticks": ""
            },
            "type": "mesh3d"
           }
          ],
          "parcoords": [
           {
            "line": {
             "colorbar": {
              "outlinewidth": 0,
              "ticks": ""
             }
            },
            "type": "parcoords"
           }
          ],
          "pie": [
           {
            "automargin": true,
            "type": "pie"
           }
          ],
          "scatter": [
           {
            "fillpattern": {
             "fillmode": "overlay",
             "size": 10,
             "solidity": 0.2
            },
            "type": "scatter"
           }
          ],
          "scatter3d": [
           {
            "line": {
             "colorbar": {
              "outlinewidth": 0,
              "ticks": ""
             }
            },
            "marker": {
             "colorbar": {
              "outlinewidth": 0,
              "ticks": ""
             }
            },
            "type": "scatter3d"
           }
          ],
          "scattercarpet": [
           {
            "marker": {
             "colorbar": {
              "outlinewidth": 0,
              "ticks": ""
             }
            },
            "type": "scattercarpet"
           }
          ],
          "scattergeo": [
           {
            "marker": {
             "colorbar": {
              "outlinewidth": 0,
              "ticks": ""
             }
            },
            "type": "scattergeo"
           }
          ],
          "scattergl": [
           {
            "marker": {
             "colorbar": {
              "outlinewidth": 0,
              "ticks": ""
             }
            },
            "type": "scattergl"
           }
          ],
          "scattermapbox": [
           {
            "marker": {
             "colorbar": {
              "outlinewidth": 0,
              "ticks": ""
             }
            },
            "type": "scattermapbox"
           }
          ],
          "scatterpolar": [
           {
            "marker": {
             "colorbar": {
              "outlinewidth": 0,
              "ticks": ""
             }
            },
            "type": "scatterpolar"
           }
          ],
          "scatterpolargl": [
           {
            "marker": {
             "colorbar": {
              "outlinewidth": 0,
              "ticks": ""
             }
            },
            "type": "scatterpolargl"
           }
          ],
          "scatterternary": [
           {
            "marker": {
             "colorbar": {
              "outlinewidth": 0,
              "ticks": ""
             }
            },
            "type": "scatterternary"
           }
          ],
          "surface": [
           {
            "colorbar": {
             "outlinewidth": 0,
             "ticks": ""
            },
            "colorscale": [
             [
              0,
              "#0d0887"
             ],
             [
              0.1111111111111111,
              "#46039f"
             ],
             [
              0.2222222222222222,
              "#7201a8"
             ],
             [
              0.3333333333333333,
              "#9c179e"
             ],
             [
              0.4444444444444444,
              "#bd3786"
             ],
             [
              0.5555555555555556,
              "#d8576b"
             ],
             [
              0.6666666666666666,
              "#ed7953"
             ],
             [
              0.7777777777777778,
              "#fb9f3a"
             ],
             [
              0.8888888888888888,
              "#fdca26"
             ],
             [
              1,
              "#f0f921"
             ]
            ],
            "type": "surface"
           }
          ],
          "table": [
           {
            "cells": {
             "fill": {
              "color": "#EBF0F8"
             },
             "line": {
              "color": "white"
             }
            },
            "header": {
             "fill": {
              "color": "#C8D4E3"
             },
             "line": {
              "color": "white"
             }
            },
            "type": "table"
           }
          ]
         },
         "layout": {
          "annotationdefaults": {
           "arrowcolor": "#2a3f5f",
           "arrowhead": 0,
           "arrowwidth": 1
          },
          "autotypenumbers": "strict",
          "coloraxis": {
           "colorbar": {
            "outlinewidth": 0,
            "ticks": ""
           }
          },
          "colorscale": {
           "diverging": [
            [
             0,
             "#8e0152"
            ],
            [
             0.1,
             "#c51b7d"
            ],
            [
             0.2,
             "#de77ae"
            ],
            [
             0.3,
             "#f1b6da"
            ],
            [
             0.4,
             "#fde0ef"
            ],
            [
             0.5,
             "#f7f7f7"
            ],
            [
             0.6,
             "#e6f5d0"
            ],
            [
             0.7,
             "#b8e186"
            ],
            [
             0.8,
             "#7fbc41"
            ],
            [
             0.9,
             "#4d9221"
            ],
            [
             1,
             "#276419"
            ]
           ],
           "sequential": [
            [
             0,
             "#0d0887"
            ],
            [
             0.1111111111111111,
             "#46039f"
            ],
            [
             0.2222222222222222,
             "#7201a8"
            ],
            [
             0.3333333333333333,
             "#9c179e"
            ],
            [
             0.4444444444444444,
             "#bd3786"
            ],
            [
             0.5555555555555556,
             "#d8576b"
            ],
            [
             0.6666666666666666,
             "#ed7953"
            ],
            [
             0.7777777777777778,
             "#fb9f3a"
            ],
            [
             0.8888888888888888,
             "#fdca26"
            ],
            [
             1,
             "#f0f921"
            ]
           ],
           "sequentialminus": [
            [
             0,
             "#0d0887"
            ],
            [
             0.1111111111111111,
             "#46039f"
            ],
            [
             0.2222222222222222,
             "#7201a8"
            ],
            [
             0.3333333333333333,
             "#9c179e"
            ],
            [
             0.4444444444444444,
             "#bd3786"
            ],
            [
             0.5555555555555556,
             "#d8576b"
            ],
            [
             0.6666666666666666,
             "#ed7953"
            ],
            [
             0.7777777777777778,
             "#fb9f3a"
            ],
            [
             0.8888888888888888,
             "#fdca26"
            ],
            [
             1,
             "#f0f921"
            ]
           ]
          },
          "colorway": [
           "#636efa",
           "#EF553B",
           "#00cc96",
           "#ab63fa",
           "#FFA15A",
           "#19d3f3",
           "#FF6692",
           "#B6E880",
           "#FF97FF",
           "#FECB52"
          ],
          "font": {
           "color": "#2a3f5f"
          },
          "geo": {
           "bgcolor": "white",
           "lakecolor": "white",
           "landcolor": "#E5ECF6",
           "showlakes": true,
           "showland": true,
           "subunitcolor": "white"
          },
          "hoverlabel": {
           "align": "left"
          },
          "hovermode": "closest",
          "mapbox": {
           "style": "light"
          },
          "paper_bgcolor": "white",
          "plot_bgcolor": "#E5ECF6",
          "polar": {
           "angularaxis": {
            "gridcolor": "white",
            "linecolor": "white",
            "ticks": ""
           },
           "bgcolor": "#E5ECF6",
           "radialaxis": {
            "gridcolor": "white",
            "linecolor": "white",
            "ticks": ""
           }
          },
          "scene": {
           "xaxis": {
            "backgroundcolor": "#E5ECF6",
            "gridcolor": "white",
            "gridwidth": 2,
            "linecolor": "white",
            "showbackground": true,
            "ticks": "",
            "zerolinecolor": "white"
           },
           "yaxis": {
            "backgroundcolor": "#E5ECF6",
            "gridcolor": "white",
            "gridwidth": 2,
            "linecolor": "white",
            "showbackground": true,
            "ticks": "",
            "zerolinecolor": "white"
           },
           "zaxis": {
            "backgroundcolor": "#E5ECF6",
            "gridcolor": "white",
            "gridwidth": 2,
            "linecolor": "white",
            "showbackground": true,
            "ticks": "",
            "zerolinecolor": "white"
           }
          },
          "shapedefaults": {
           "line": {
            "color": "#2a3f5f"
           }
          },
          "ternary": {
           "aaxis": {
            "gridcolor": "white",
            "linecolor": "white",
            "ticks": ""
           },
           "baxis": {
            "gridcolor": "white",
            "linecolor": "white",
            "ticks": ""
           },
           "bgcolor": "#E5ECF6",
           "caxis": {
            "gridcolor": "white",
            "linecolor": "white",
            "ticks": ""
           }
          },
          "title": {
           "x": 0.05
          },
          "xaxis": {
           "automargin": true,
           "gridcolor": "white",
           "linecolor": "white",
           "ticks": "",
           "title": {
            "standoff": 15
           },
           "zerolinecolor": "white",
           "zerolinewidth": 2
          },
          "yaxis": {
           "automargin": true,
           "gridcolor": "white",
           "linecolor": "white",
           "ticks": "",
           "title": {
            "standoff": 15
           },
           "zerolinecolor": "white",
           "zerolinewidth": 2
          }
         }
        },
        "title": {
         "text": "Persebaran Pengguna Olist Berdasarkan Kota"
        },
        "xaxis": {
         "anchor": "y",
         "categoryarray": [
          "rio de janeiro",
          "sao paulo",
          "belo horizonte",
          "niteroi",
          "curitiba",
          "porto alegre",
          "santos",
          "uberlandia",
          "campinas",
          "salvador"
         ],
         "categoryorder": "array",
         "domain": [
          0,
          1
         ],
         "title": {
          "text": "geolocation_city"
         }
        },
        "yaxis": {
         "anchor": "x",
         "domain": [
          0,
          1
         ],
         "title": {
          "text": "customer_id"
         }
        }
       }
      }
     },
     "metadata": {},
     "output_type": "display_data"
    }
   ],
   "source": [
    "# Membuat visualisasi pesebaran pengguna Olist\n",
    "\n",
    "fig = px.bar(customer_perkota, x='geolocation_city', y='customer_id', color='geolocation_city', title= \"Persebaran Pengguna Olist Berdasarkan Kota\",\n",
    "             labels={'pop':'population of Canada'}, height=500)\n",
    "fig.show()"
   ]
  }
 ],
 "metadata": {
  "kernelspec": {
   "display_name": "base",
   "language": "python",
   "name": "python3"
  },
  "language_info": {
   "codemirror_mode": {
    "name": "ipython",
    "version": 3
   },
   "file_extension": ".py",
   "mimetype": "text/x-python",
   "name": "python",
   "nbconvert_exporter": "python",
   "pygments_lexer": "ipython3",
   "version": "3.11.4"
  }
 },
 "nbformat": 4,
 "nbformat_minor": 2
}
